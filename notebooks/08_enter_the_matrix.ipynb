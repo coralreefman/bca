{
 "cells": [
  {
   "cell_type": "markdown",
   "metadata": {},
   "source": [
    "## Numpy and Matplotlib\n",
    "\n",
    "This notebook introduces two essential libraries for scientific computing and data visualization in Python.\n"
   ]
  },
  {
   "cell_type": "code",
   "execution_count": null,
   "metadata": {},
   "outputs": [],
   "source": [
    "import numpy as np\n",
    "import matplotlib.pyplot as plt\n",
    "# np and plt are common aliases for numpy and matplotlib.pyplot respectively"
   ]
  },
  {
   "cell_type": "markdown",
   "metadata": {},
   "source": [
    "### numpy basics\n",
    "Numpy is a powerful library for numerical computations in Python.  \n",
    "It provides support for large, multi-dimensional arrays and matrices.  "
   ]
  },
  {
   "cell_type": "code",
   "execution_count": null,
   "metadata": {},
   "outputs": [],
   "source": [
    "# Create a numpy array\n",
    "basic_array = np.array([1, 2, 3, 4])\n",
    "print(basic_array)\n",
    "print(f\"Type: {type(basic_array)}, Shape: {basic_array.shape}\")\n",
    "# This creates a 1-dimensional numpy array\n",
    "# .shape attribute shows the dimensions of the array\n",
    "# Numpy arrays are more efficient than Python lists for numerical operations\n"
   ]
  },
  {
   "cell_type": "code",
   "execution_count": null,
   "metadata": {},
   "outputs": [],
   "source": [
    "# Specify the datatype\n",
    "float_array = np.array([1, 2, 3, 4], dtype=np.float32)\n",
    "print(float_array)\n",
    "print(f\"Datatype: {float_array.dtype}\")\n",
    "# np.float32 is a 32-bit floating point number\n",
    "# Using specific datatypes can optimize memory usage and computation speed"
   ]
  },
  {
   "cell_type": "code",
   "execution_count": null,
   "metadata": {},
   "outputs": [],
   "source": [
    "# Numpy arrays use the same datatype for all elements\n",
    "mixed_array = np.array([1, 2.0, 'three', 4])\n",
    "print(mixed_array)\n",
    "print(f\"Datatype: {mixed_array.dtype}\")\n",
    "# Note: This converts all elements to strings\n",
    "# Numpy tries to find a common type that can represent all elements"
   ]
  },
  {
   "cell_type": "code",
   "execution_count": null,
   "metadata": {},
   "outputs": [],
   "source": [
    "# numpy arrays behave different to regular lists\n",
    "python_list = [1,2,3]\n",
    "numpy_array = np.array([1,2,3])\n",
    "\n",
    "# Observe the difference: \n",
    "# - Lists concatenate\n",
    "# - Numpy arrays perform element-wise addition\n",
    "print(python_list + python_list)\n",
    "print(numpy_array + numpy_array)"
   ]
  },
  {
   "cell_type": "code",
   "execution_count": null,
   "metadata": {},
   "outputs": [],
   "source": [
    "# doesn't work for all data types\n",
    "string_array = np.array(['a', 'b', 'g'])\n",
    "\n",
    "print(string_array + string_array)"
   ]
  },
  {
   "cell_type": "code",
   "execution_count": null,
   "metadata": {},
   "outputs": [],
   "source": [
    "# Numpy arrays support element-wise operations\n",
    "# This multiplies each element by 10\n",
    "print(\"Numpy array multiplication:\", numpy_array * 10)\n"
   ]
  },
  {
   "cell_type": "code",
   "execution_count": null,
   "metadata": {},
   "outputs": [],
   "source": [
    "a = np.array([1,2,3])\n",
    "b = np.array([4,5,6])\n",
    "\n",
    "np.concatenate([a,b])\n",
    "# We can concatenate numpy arrays using np.concatenate()\n",
    "# This is similar to list concatenation, but works on numpy arrays"
   ]
  }
 ],
 "metadata": {
  "kernelspec": {
   "display_name": "base",
   "language": "python",
   "name": "python3"
  },
  "language_info": {
   "codemirror_mode": {
    "name": "ipython",
    "version": 3
   },
   "file_extension": ".py",
   "mimetype": "text/x-python",
   "name": "python",
   "nbconvert_exporter": "python",
   "pygments_lexer": "ipython3",
   "version": "3.11.3"
  }
 },
 "nbformat": 4,
 "nbformat_minor": 2
}
