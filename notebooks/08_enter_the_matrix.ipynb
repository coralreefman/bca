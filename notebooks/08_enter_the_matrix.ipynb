{
 "cells": [
  {
   "cell_type": "markdown",
   "metadata": {},
   "source": [
    "## Enter The Matrix\n",
    "\n",
    "This notebook introduces two essential libraries for scientific computing and data visualization in Python:  \n",
    "**Numpy and Matplotlib**\n"
   ]
  },
  {
   "cell_type": "code",
   "execution_count": null,
   "metadata": {},
   "outputs": [],
   "source": [
    "!pip install numpy matplotlib"
   ]
  },
  {
   "cell_type": "code",
   "execution_count": null,
   "metadata": {},
   "outputs": [],
   "source": [
    "import numpy as np\n",
    "import matplotlib.pyplot as plt\n",
    "# np and plt are common aliases for numpy and matplotlib.pyplot respectively"
   ]
  },
  {
   "cell_type": "markdown",
   "metadata": {},
   "source": [
    "### (Optional) if you're on mac and have homebrew installed, try this in your terminal:\n",
    "`brew install cmatrix`"
   ]
  },
  {
   "cell_type": "markdown",
   "metadata": {},
   "source": [
    "## Numpy Basics\n",
    "Numpy is a powerful library for numerical computations in Python.  \n",
    "It provides support for large, multi-dimensional arrays and matrices.  "
   ]
  },
  {
   "cell_type": "code",
   "execution_count": null,
   "metadata": {},
   "outputs": [],
   "source": [
    "# Create a numpy array\n",
    "basic_array = np.array([1, 2, 3, 4])\n",
    "print(basic_array)\n",
    "print(f\"Datatype: {type(basic_array)}, Shape: {basic_array.shape}\")\n",
    "# This creates a 1-dimensional numpy array\n",
    "# .shape attribute shows the dimensions of the array\n",
    "# Numpy arrays are more efficient than Python lists for numerical operations"
   ]
  },
  {
   "cell_type": "code",
   "execution_count": null,
   "metadata": {},
   "outputs": [],
   "source": [
    "# Specify the datatype\n",
    "float_array = np.array([1, 2, 3, 4], dtype=np.float32)\n",
    "print(float_array)\n",
    "print(f\"Datatype: {float_array.dtype}\")\n",
    "# np.float32 is a 32-bit floating point number\n",
    "# Using specific datatypes can optimize memory usage and computation speed"
   ]
  },
  {
   "cell_type": "code",
   "execution_count": null,
   "metadata": {},
   "outputs": [],
   "source": [
    "# Numpy arrays use the same datatype for all elements\n",
    "mixed_array = np.array([1, 2.0, 'three', 4])\n",
    "print(mixed_array)\n",
    "print(f\"Datatype: {mixed_array.dtype}\")\n",
    "# Note: This converts all elements to strings\n",
    "# Numpy tries to find a common type that can represent all elements"
   ]
  },
  {
   "cell_type": "markdown",
   "metadata": {},
   "source": [
    "### Numpy vs Python Lists"
   ]
  },
  {
   "cell_type": "code",
   "execution_count": null,
   "metadata": {},
   "outputs": [],
   "source": [
    "# numpy arrays behave different to regular lists\n",
    "python_list = [1,2,3]\n",
    "numpy_array = np.array([1,2,3])\n",
    "\n",
    "# Observe the difference: \n",
    "# - Lists concatenate\n",
    "# - Numpy arrays perform element-wise addition\n",
    "print(python_list + python_list)\n",
    "print(numpy_array + numpy_array)"
   ]
  },
  {
   "cell_type": "code",
   "execution_count": null,
   "metadata": {},
   "outputs": [],
   "source": [
    "# doesn't work for all data types\n",
    "string_array = np.array(['a', 'b', 'g'])\n",
    "\n",
    "print(string_array + string_array)"
   ]
  },
  {
   "cell_type": "code",
   "execution_count": null,
   "metadata": {},
   "outputs": [],
   "source": [
    "# Numpy arrays support element-wise operations\n",
    "# This multiplies each element by 10\n",
    "print(\"Numpy array multiplication:\", numpy_array * 10)\n"
   ]
  },
  {
   "cell_type": "code",
   "execution_count": null,
   "metadata": {},
   "outputs": [],
   "source": [
    "a = np.array([1,2,3])\n",
    "b = np.array([4,5,6])\n",
    "\n",
    "np.concatenate([a,b])\n",
    "# We can concatenate numpy arrays using np.concatenate()\n",
    "# This is similar to list concatenation, but works on numpy arrays"
   ]
  },
  {
   "cell_type": "markdown",
   "metadata": {},
   "source": [
    "### Visualizing Arrays"
   ]
  },
  {
   "cell_type": "code",
   "execution_count": null,
   "metadata": {},
   "outputs": [],
   "source": [
    "# dummy list of strings representing our image\n",
    "str_list = [\n",
    "     \"00000000\",\n",
    "     \"01111111\",\n",
    "     \"00001111\",\n",
    "     \"00001111\",\n",
    "     \"00011111\",\n",
    "     \"00001111\",\n",
    "     \"00011000\",\n",
    "     \"00000000\"\n",
    "     ]"
   ]
  },
  {
   "cell_type": "code",
   "execution_count": null,
   "metadata": {},
   "outputs": [],
   "source": [
    "# build numpy array of 0s and 1s from previous list\n",
    "# create a list of integers for each string in array\n",
    "float_list = np.array([list(map(int, str)) for str in str_list], dtype=np.float32)\n",
    "\n",
    "print(float_list)\n",
    "print(float_list.shape)\n"
   ]
  },
  {
   "cell_type": "code",
   "execution_count": null,
   "metadata": {},
   "outputs": [],
   "source": [
    "# plot image\n",
    "plt.imshow(float_list, cmap='gray', interpolation='none', vmin=0, vmax=1)\n",
    "plt.show()"
   ]
  },
  {
   "cell_type": "markdown",
   "metadata": {},
   "source": [
    "### Shuffling Arrays"
   ]
  },
  {
   "cell_type": "code",
   "execution_count": null,
   "metadata": {},
   "outputs": [],
   "source": [
    "# shuffle the array randomly and plot it again\n",
    "np.random.shuffle(float_list)\n",
    "\n",
    "plt.imshow(float_list, cmap='gray', interpolation='none', vmin=0, vmax=1)\n",
    "plt.show()\n",
    "\n",
    "# notice how it only shuffles the order of rows but not the rows themselves"
   ]
  },
  {
   "cell_type": "code",
   "execution_count": null,
   "metadata": {},
   "outputs": [],
   "source": [
    "# in order to do shuffle the rows we need to create a random number generator\n",
    "rng = np.random.default_rng()\n",
    "# an easy example of how to use the random number generator\n",
    "# generate a random number between 0 and 1\n",
    "print(rng.random())\n",
    "# generate a random number between 0 and 100\n",
    "print(rng.integers(0, 100))"
   ]
  },
  {
   "cell_type": "code",
   "execution_count": null,
   "metadata": {},
   "outputs": [],
   "source": [
    "# shuffle lists\n",
    "\n",
    "permuted_image = rng.permutation(float_list, axis=0)  # Shuffles rows (height dimension)\n",
    "\n",
    "plt.imshow(\n",
    "permuted_image, cmap='gray', interpolation='none', vmin=0, vmax=1)\n",
    "plt.show()\n"
   ]
  },
  {
   "cell_type": "code",
   "execution_count": null,
   "metadata": {},
   "outputs": [],
   "source": [
    "permuted_image = rng.permutation(float_list, axis=1)  # Shuffles columns (width dimension)\n",
    "\n",
    "plt.imshow(\n",
    "permuted_image, cmap='gray', interpolation='none', vmin=0, vmax=1)\n",
    "plt.show()"
   ]
  },
  {
   "cell_type": "code",
   "execution_count": null,
   "metadata": {},
   "outputs": [],
   "source": [
    "# Flatten and shuffle\n",
    "flattened_image = float_list.reshape(-1, float_list.shape[1])  # Shape: (height*width, channels)\n",
    "permuted_image = rng.permutation(flattened_image)                # Random permutation of all pixels\n",
    "permuted_image = permuted_image.reshape(float_list.shape)       # Reshape back to original"
   ]
  },
  {
   "cell_type": "markdown",
   "metadata": {},
   "source": [
    "### Random Arrays"
   ]
  },
  {
   "cell_type": "code",
   "execution_count": null,
   "metadata": {},
   "outputs": [],
   "source": [
    "# now, in order to create a completely random array,\n",
    "# we can use the random number generator\n",
    "\n",
    "random_data = rng.random([8, 8])\n",
    "plt.imshow(random_data, cmap='gray', interpolation='none')\n",
    "\n",
    "plt.show()"
   ]
  },
  {
   "cell_type": "code",
   "execution_count": null,
   "metadata": {},
   "outputs": [],
   "source": [
    "random_data = rng.random([8, 8])\n",
    "# cmap is a colormap, interpolation is the interpolation method\n",
    "# using this configuration, we can make the random array look a little bit like a lava lamp\n",
    "plt.imshow(random_data, cmap='magma', interpolation='bicubic')\n",
    "\n",
    "plt.show()"
   ]
  },
  {
   "cell_type": "code",
   "execution_count": null,
   "metadata": {},
   "outputs": [],
   "source": [
    "random_data = rng.random([64,64])\n",
    "\n",
    "plt.figure(figsize=(8,8))\n",
    "plt.imshow(random_data, cmap='jet', interpolation='bicubic')"
   ]
  },
  {
   "cell_type": "markdown",
   "metadata": {},
   "source": [
    "### Random Colors"
   ]
  },
  {
   "cell_type": "code",
   "execution_count": null,
   "metadata": {},
   "outputs": [],
   "source": [
    "# an RGB color is simply a list of three numbers, each representing a color channel\n",
    "# so we can generate a random color by sampling from a random number generator\n",
    "color = random_color = rng.integers(0, 256, size=3)\n",
    "\n",
    "print(color)\n",
    "\n",
    "# Create a 24x24 array filled with the random color\n",
    "img = np.full((24, 24, 3), color, dtype=np.uint8)\n",
    "\n",
    "# Display the image using imshow()\n",
    "plt.imshow(img)\n",
    "plt.show()\n"
   ]
  },
  {
   "cell_type": "code",
   "execution_count": null,
   "metadata": {},
   "outputs": [],
   "source": [
    "# Create a 24x24 array filled with random values\n",
    "img = rng.integers(0, 256, size=(24, 24, 3), dtype=np.uint8)\n",
    "\n",
    "# Display the image using imshow()\n",
    "plt.imshow(img)\n",
    "plt.show()"
   ]
  },
  {
   "cell_type": "code",
   "execution_count": null,
   "metadata": {},
   "outputs": [],
   "source": [
    "# another approach:\n",
    "img = (rng.standard_normal([64, 64, 3]) * 255).astype(np.uint8)\n",
    "# this creates an array of random numbers from a standard normal distribution\n",
    "# which is a normal distribution with a mean of 0 and a standard deviation of 1\n",
    "# we then multiply the result by 255 to get a range of numbers from 0 to 255\n",
    "\n",
    "plt.imshow(img)\n",
    "plt.show()"
   ]
  },
  {
   "cell_type": "code",
   "execution_count": null,
   "metadata": {},
   "outputs": [],
   "source": [
    "# Define a specific color palette\n",
    "palette = [\n",
    "    [230, 25, 75],    # Red\n",
    "    [60, 180, 75],    # Green\n",
    "    [255, 225, 25],   # Yellow\n",
    "    [0, 130, 200],    # Blue\n",
    "    [245, 130, 48],   # Orange\n",
    "]\n",
    "\n",
    "# Convert to a NumPy array\n",
    "palette = np.array(palette, dtype=np.uint8)\n",
    "\n",
    "# Create a 24x24 array filled with random colors from the palette\n",
    "indices = rng.integers(0, len(palette), size=(24, 24))\n",
    "img = palette[indices]\n",
    "\n",
    "# Display the image\n",
    "plt.imshow(img)\n",
    "plt.show()"
   ]
  },
  {
   "cell_type": "markdown",
   "metadata": {},
   "source": [
    "### Recreating Gerhard Richter's \"4096 Farben\""
   ]
  },
  {
   "cell_type": "code",
   "execution_count": null,
   "metadata": {},
   "outputs": [],
   "source": [
    "from IPython.display import Image\n",
    "Image(url='https://cdn.gerhard-richter.com/images/original/2987.jpg?width=673&height=673')"
   ]
  },
  {
   "cell_type": "code",
   "execution_count": null,
   "metadata": {},
   "outputs": [],
   "source": [
    "# Define the number of intensity levels per color channel\n",
    "levels_per_channel = 16\n",
    "\n",
    "# Generate evenly spaced intensity levels between 0 and 255\n",
    "levels = np.linspace(0, 255, levels_per_channel, dtype=np.uint8)\n",
    "# levels now contains 16 values: [0, 17, 34, ..., 255]\n",
    "\n",
    "# Create a grid of all possible combinations of R, G, B levels\n",
    "red, green, blue = np.meshgrid(levels, levels, levels)\n",
    "# red, green, blue are arrays of shape (16, 16, 16)\n",
    "\n",
    "# Flatten the grids and stack them to create a palette of colors\n",
    "palette = np.stack([red.ravel(), green.ravel(), blue.ravel()], axis=1)\n",
    "# palette is an array of shape (4096, 3), each row is [R, G, B]\n",
    "\n",
    "# Optional: Shuffle the palette to randomize the color arrangement\n",
    "rng = np.random.default_rng(seed=42)\n",
    "rng.shuffle(palette)\n",
    "\n",
    "# Reshape the palette into a 64x64 grid\n",
    "img = palette.reshape((64, 64, 3))\n",
    "\n",
    "# Display the image\n",
    "plt.figure(figsize=(8, 8))\n",
    "plt.imshow(img)\n",
    "plt.axis('off')\n",
    "plt.title(\"Recreation of Gerhard Richter's '4096 Farben'\", fontsize=16)\n",
    "plt.show()\n"
   ]
  },
  {
   "cell_type": "markdown",
   "metadata": {},
   "source": [
    "#### Refined Approach"
   ]
  },
  {
   "cell_type": "code",
   "execution_count": null,
   "metadata": {},
   "outputs": [],
   "source": [
    "rng = np.random.default_rng()\n",
    "# Define a base palette inspired by Richter's style\n",
    "base_palette = np.array([\n",
    "    [255, 0, 0],      # Red\n",
    "    [0, 255, 0],      # Green\n",
    "    [0, 0, 255],      # Blue\n",
    "    [255, 255, 0],    # Yellow\n",
    "    [0, 255, 255],    # Cyan\n",
    "    [255, 0, 255],    # Magenta\n",
    "    [128, 128, 128],  # Grey\n",
    "    [192, 192, 192],  # Light Grey\n",
    "    [64, 64, 64],     # Dark Grey\n",
    "], dtype=np.uint8)\n",
    "\n",
    "def generate_color_variations(base_palette, num_colors=1024, variation_intensity=99):  \n",
    "    # Randomly select a base color and add small variations to create unique colors\n",
    "    generated_colors = []\n",
    "    while len(generated_colors) < num_colors:\n",
    "        # Pick a random base color\n",
    "        base_color = base_palette[rng.integers(0, len(base_palette))]\n",
    "        \n",
    "        # Generate a random variation for the RGB channels\n",
    "        variation = rng.integers(-variation_intensity, variation_intensity + 1, size=3)\n",
    "        new_color = np.clip(base_color + variation, 0, 255)  # Ensure RGB values remain in [0, 255]\n",
    "        \n",
    "        # Convert to tuple to easily check uniqueness\n",
    "        if tuple(new_color) not in generated_colors:\n",
    "            generated_colors.append(tuple(new_color))\n",
    "    \n",
    "    return np.array(generated_colors, dtype=np.uint8)\n",
    "\n",
    "# Generate 1,024 unique colors based on the base palette with slight variations\n",
    "unique_colors = generate_color_variations(base_palette, num_colors=1024, variation_intensity=32)\n",
    "\n",
    "# Repeat each of the 1,024 colors exactly 4 times\n",
    "expanded_palette = np.repeat(unique_colors, 4, axis=0)  # Shape: (4096, 3)\n",
    "\n",
    "# Shuffle the expanded palette to randomize the arrangement of repeated colors\n",
    "rng = np.random.default_rng(seed=42)\n",
    "rng.shuffle(expanded_palette)\n",
    "\n",
    "# Reshape into a 64x64x3 array (64x64 grid with 3 color channels)\n",
    "img = expanded_palette.reshape(64, 64, 3)\n",
    "\n",
    "# Step 6: Display the image using matplotlib\n",
    "plt.figure(figsize=(8, 8))\n",
    "plt.imshow(img)\n",
    "plt.axis('off')\n",
    "plt.title(\"Recreation of '4096 Farben' Using Base Palette and Variations\", fontsize=16)\n",
    "plt.show()"
   ]
  },
  {
   "cell_type": "markdown",
   "metadata": {},
   "source": [
    "### Visualizing Images as Arrays"
   ]
  },
  {
   "cell_type": "code",
   "execution_count": null,
   "metadata": {},
   "outputs": [],
   "source": [
    "# Download an image from Richter's website\n",
    "!curl \"https://cdn.gerhard-richter.com/images/original/9088.jpg?width=673&height=673\" -o 'richter-vorhang.png'"
   ]
  },
  {
   "cell_type": "code",
   "execution_count": null,
   "metadata": {},
   "outputs": [],
   "source": [
    "from PIL import Image"
   ]
  },
  {
   "cell_type": "code",
   "execution_count": null,
   "metadata": {},
   "outputs": [],
   "source": [
    "# Load an image\n",
    "image = Image.open('richter-vorhang.png')  # Replace with your image file\n",
    "image = image.resize((128, 128))      # Resize for simplicity\n",
    "image_array = np.array(image)\n",
    "\n",
    "# Display the image\n",
    "plt.imshow(image_array)\n",
    "plt.title('Original Image')\n",
    "plt.axis('off')\n",
    "plt.show()\n",
    "\n",
    "# Display the matrix representation\n",
    "print('Image shape:', image_array.shape)\n",
    "print('Image matrix:\\n', image_array)"
   ]
  },
  {
   "cell_type": "code",
   "execution_count": null,
   "metadata": {},
   "outputs": [],
   "source": [
    "image_copy = np.copy(image_array)\n",
    "perm_image = rng.permutation(image_copy, axis=1)\n",
    "plt.imshow(perm_image)\n",
    "plt.show()"
   ]
  },
  {
   "cell_type": "code",
   "execution_count": null,
   "metadata": {},
   "outputs": [],
   "source": [
    "# Flatten the image array to a 1D array of pixels and shuffle\n",
    "flattened_array = image_array.reshape(-1, image_array.shape[2])  # Shape (16384, 3) for RGB images\n",
    "np.random.shuffle(flattened_array)  # Shuffle along the first axis\n",
    "\n",
    "# Reshape the shuffled array back to the original image dimensions\n",
    "shuffled_image_array = flattened_array.reshape(image_array.shape)\n",
    "\n",
    "plt.imshow(shuffled_image_array)\n",
    "plt.show()\n"
   ]
  },
  {
   "cell_type": "markdown",
   "metadata": {},
   "source": [
    "### Visualizing Audio as Spectograms"
   ]
  },
  {
   "cell_type": "markdown",
   "metadata": {},
   "source": [
    "#### Install Dependencies"
   ]
  },
  {
   "cell_type": "code",
   "execution_count": null,
   "metadata": {},
   "outputs": [],
   "source": [
    "!pip install librosa"
   ]
  },
  {
   "cell_type": "code",
   "execution_count": null,
   "metadata": {},
   "outputs": [],
   "source": [
    "!pip install librosa yt-dlp"
   ]
  },
  {
   "cell_type": "markdown",
   "metadata": {},
   "source": [
    "#### Download and load a soundfile"
   ]
  },
  {
   "cell_type": "code",
   "execution_count": null,
   "metadata": {},
   "outputs": [],
   "source": [
    "# download a YouTube video as mp3\n",
    "!yt-dlp -f bestaudio --extract-audio --audio-format mp3 --audio-quality 0 \"https://www.youtube.com/watch?v=0Y8mW-KNm7c\""
   ]
  },
  {
   "cell_type": "code",
   "execution_count": null,
   "metadata": {},
   "outputs": [],
   "source": [
    "import librosa\n",
    "import librosa.display\n",
    "from IPython.display import Audio"
   ]
  },
  {
   "cell_type": "code",
   "execution_count": null,
   "metadata": {},
   "outputs": [],
   "source": [
    "# Load an audio file\n",
    "audio_path = \"/Users/c/Code/bca/notebooks/Surf ski 2 Surf  Movie B1q3v[e]n [0Y8mW-KNm7c].mp3\"  # Replace with your audio file\n",
    "y, sr = librosa.load(audio_path, offset=10, duration=5)  # Load 5 seconds, starting at second 10"
   ]
  },
  {
   "cell_type": "markdown",
   "metadata": {},
   "source": [
    "#### Visualize the waveform"
   ]
  },
  {
   "cell_type": "code",
   "execution_count": null,
   "metadata": {},
   "outputs": [],
   "source": [
    "plt.figure(figsize=(12, 4))\n",
    "librosa.display.waveshow(y, sr=sr)\n",
    "plt.title('Audio Waveform')\n",
    "plt.show()"
   ]
  },
  {
   "cell_type": "markdown",
   "metadata": {},
   "source": [
    "#### Convert audio to a spectrogram (matrix representation)\n"
   ]
  },
  {
   "cell_type": "code",
   "execution_count": null,
   "metadata": {},
   "outputs": [],
   "source": [
    "# Compute the Short-Time Fourier Transform (STFT) of the audio signal\n",
    "D = librosa.stft(y)\n",
    "# D is a complex matrix representing amplitude and phase for each time-frequency bin\n",
    "\n",
    "# convert the amplitudes to decibels (dB) for better visualization.\n",
    "S_db = librosa.amplitude_to_db(np.abs(D), ref=np.max)\n",
    "\n",
    "# Display the spectrogram\n",
    "plt.figure(figsize=(14, 6))\n",
    "librosa.display.specshow(S_db, sr=sr, x_axis='time', y_axis='hz', cmap='magma')\n",
    "plt.colorbar(format='%+2.0f dB')\n",
    "plt.title('Spectrogram')\n",
    "plt.xlabel('Time (seconds)')\n",
    "plt.ylabel('Frequency (Hz)')\n",
    "plt.show()\n"
   ]
  },
  {
   "cell_type": "code",
   "execution_count": null,
   "metadata": {},
   "outputs": [],
   "source": [
    "print(D.shape)\n",
    "print(D)\n"
   ]
  },
  {
   "cell_type": "markdown",
   "metadata": {},
   "source": [
    "#### Frequency Filtering"
   ]
  },
  {
   "cell_type": "code",
   "execution_count": null,
   "metadata": {},
   "outputs": [],
   "source": [
    "# Get the frequency bins\n",
    "freqs = librosa.fft_frequencies(sr=sr)\n",
    "\n",
    "# Define a frequency threshold (e.g., remove frequencies above 4000 Hz)\n",
    "freq_threshold = 400\n",
    "\n",
    "# Create a mask for frequencies above the threshold\n",
    "mask = freqs <= freq_threshold\n",
    "\n",
    "# Apply the mask to the spectrogram\n",
    "D_filtered = D.copy()\n",
    "D_filtered[~mask, :] = 0  # Zero out the high frequencies\n",
    "\n",
    "# Convert the filtered spectrogram back to amplitude in dB\n",
    "S_db_filtered = librosa.amplitude_to_db(np.abs(D_filtered), ref=np.max)\n",
    "\n",
    "# Display the filtered spectrogram\n",
    "plt.figure(figsize=(14, 6))\n",
    "librosa.display.specshow(S_db_filtered, sr=sr, x_axis='time', y_axis='hz', cmap='magma')\n",
    "plt.colorbar(format='%+2.0f dB')\n",
    "plt.title('Filtered Spectrogram (High Frequencies Removed)')\n",
    "plt.xlabel('Time (seconds)')\n",
    "plt.ylabel('Frequency (Hz)')\n",
    "plt.show()"
   ]
  },
  {
   "cell_type": "code",
   "execution_count": null,
   "metadata": {},
   "outputs": [],
   "source": [
    "# Inverse STFT to get the time-domain signal\n",
    "y_filtered = librosa.istft(D_filtered)\n",
    "# performs the inverse Short-Time Fourier Transform, \n",
    "# converting the modified spectrogram back into a time-domain audio signal\n",
    "\n",
    "# Play the filtered audio\n",
    "print(\"Filtered Audio (High Frequencies Removed):\")\n",
    "Audio(data=y_filtered, rate=sr)"
   ]
  },
  {
   "cell_type": "markdown",
   "metadata": {},
   "source": [
    "#### Comparison"
   ]
  },
  {
   "cell_type": "code",
   "execution_count": null,
   "metadata": {},
   "outputs": [],
   "source": [
    "# Plot the original waveform\n",
    "plt.figure(figsize=(14, 5))\n",
    "librosa.display.waveshow(y, sr=sr, alpha=0.5, label='Original')\n",
    "librosa.display.waveshow(y_filtered, sr=sr, color='r', alpha=0.5, label='Filtered')\n",
    "plt.title('Original vs. Filtered Audio Waveform')\n",
    "plt.xlabel('Time (seconds)')\n",
    "plt.ylabel('Amplitude')\n",
    "plt.legend()\n",
    "plt.show()"
   ]
  },
  {
   "cell_type": "markdown",
   "metadata": {},
   "source": [
    "#### Using different librosa transformations"
   ]
  },
  {
   "cell_type": "code",
   "execution_count": null,
   "metadata": {},
   "outputs": [],
   "source": [
    "# Time-stretch the audio (slows down the audio)\n",
    "y_stretched = librosa.effects.time_stretch(y, rate=0.75)\n",
    "\n",
    "# Play the time-stretched audio\n",
    "print(\"Time-Stretched Audio (Slowed Down):\")\n",
    "Audio(data=y_stretched, rate=sr)"
   ]
  },
  {
   "cell_type": "code",
   "execution_count": null,
   "metadata": {},
   "outputs": [],
   "source": [
    "# Pitch shift the audio up by 4 semitones\n",
    "y_pitched = librosa.effects.pitch_shift(y, sr=sr, n_steps=4)\n",
    "\n",
    "# Play the pitch-shifted audio\n",
    "print(\"Pitch-Shifted Audio (4 Semitones Up):\")\n",
    "Audio(data=y_pitched, rate=sr)"
   ]
  }
 ],
 "metadata": {
  "kernelspec": {
   "display_name": "Python 3 (ipykernel)",
   "language": "python",
   "name": "python3"
  },
  "language_info": {
   "codemirror_mode": {
    "name": "ipython",
    "version": 3
   },
   "file_extension": ".py",
   "mimetype": "text/x-python",
   "name": "python",
   "nbconvert_exporter": "python",
   "pygments_lexer": "ipython3",
   "version": "3.11.3"
  }
 },
 "nbformat": 4,
 "nbformat_minor": 4
}
