{
 "cells": [
  {
   "cell_type": "markdown",
   "id": "7c94fcfa-170b-454d-a5da-7006338891d5",
   "metadata": {},
   "source": [
    "# Iteration, recursion and permutation"
   ]
  },
  {
   "cell_type": "markdown",
   "id": "1efd8596-b4bb-4395-9ae5-5a81589dde3e",
   "metadata": {},
   "source": [
    "### Iteration"
   ]
  },
  {
   "cell_type": "markdown",
   "id": "d12cfd1e-581c-437f-be85-90c31209e9f5",
   "metadata": {},
   "source": [
    "In python you can use for loops to iterate over the elements of a **sequence**. The most common sequence types in python are lists, strings and tuples."
   ]
  },
  {
   "cell_type": "markdown",
   "id": "254208b9-1faf-43cb-bcb0-e924cf4545cc",
   "metadata": {},
   "source": [
    "#### Basics"
   ]
  },
  {
   "cell_type": "code",
   "execution_count": 36,
   "id": "f9820b5b-60f8-4a40-a41f-eea3873886a6",
   "metadata": {},
   "outputs": [],
   "source": [
    "numbers = [10, 12, 15, 18, 20]\n",
    "message = \"I ❤️ Python\"\n",
    "fruits = (\"apple\", \"pineapple\", \"blueberry\")"
   ]
  },
  {
   "cell_type": "code",
   "execution_count": 37,
   "id": "5754205a-e78f-497f-87c3-47443b9e4b0d",
   "metadata": {},
   "outputs": [
    {
     "name": "stdout",
     "output_type": "stream",
     "text": [
      "10\n",
      "12\n",
      "15\n",
      "18\n",
      "20\n"
     ]
    }
   ],
   "source": [
    "for n in numbers:\n",
    "    \n",
    "    print(n)"
   ]
  },
  {
   "cell_type": "code",
   "execution_count": 38,
   "id": "db4bceb2-7d3f-4875-b436-3f656108b84b",
   "metadata": {},
   "outputs": [
    {
     "name": "stdout",
     "output_type": "stream",
     "text": [
      "0: 10\n",
      "1: 12\n",
      "2: 15\n",
      "3: 18\n",
      "4: 20\n"
     ]
    }
   ],
   "source": [
    "for idx, n in enumerate(numbers):\n",
    "    \n",
    "    print(\"{}: {}\".format(idx, n))"
   ]
  },
  {
   "cell_type": "code",
   "execution_count": 39,
   "id": "32a20a07-1611-4deb-bfe1-f6680c0242f3",
   "metadata": {},
   "outputs": [
    {
     "name": "stdout",
     "output_type": "stream",
     "text": [
      "10\n",
      "12\n"
     ]
    }
   ],
   "source": [
    "for i in range(2):\n",
    "    \n",
    "    print(numbers[i])"
   ]
  },
  {
   "cell_type": "markdown",
   "id": "a9c7ea3a-0e62-4604-8349-265b35124202",
   "metadata": {},
   "source": [
    "#### Nested loops"
   ]
  },
  {
   "cell_type": "code",
   "execution_count": 40,
   "id": "ae7d23d4-ef24-4755-825a-757edcdc63b5",
   "metadata": {},
   "outputs": [
    {
     "name": "stdout",
     "output_type": "stream",
     "text": [
      "\n",
      "1 \n",
      "2 2 \n",
      "3 3 3 \n",
      "4 4 4 4 \n",
      "5 5 5 5 5 \n"
     ]
    }
   ],
   "source": [
    "rows = 6\n",
    "\n",
    "# outer loop\n",
    "for i in range(rows):\n",
    "    # nested loop\n",
    "    for j in range(i):\n",
    "        # display number\n",
    "        print(i, end=' ')\n",
    "    # new line after each row\n",
    "    print('')"
   ]
  },
  {
   "cell_type": "code",
   "execution_count": 41,
   "id": "1d4e48c9-cda3-4869-87c0-ef0f92b88d8c",
   "metadata": {},
   "outputs": [
    {
     "name": "stdout",
     "output_type": "stream",
     "text": [
      "1 \n",
      "1 2 \n",
      "1 2 3 \n",
      "1 2 3 4 \n",
      "1 2 3 4 5 \n"
     ]
    }
   ],
   "source": [
    "rows = 5\n",
    "for i in range(1, rows + 1):\n",
    "    \n",
    "    for j in range(1, i + 1):\n",
    "        \n",
    "        print(j, end=' ')\n",
    "        \n",
    "    print('')"
   ]
  },
  {
   "cell_type": "markdown",
   "id": "a81e8c84-60f1-44e8-8c56-272c869f132d",
   "metadata": {},
   "source": [
    "### Recursion"
   ]
  },
  {
   "cell_type": "markdown",
   "id": "70870ec8-4782-4a88-97dc-5b4549023922",
   "metadata": {},
   "source": [
    "In programming recursion happens when a function is calling itself.\n",
    "A very minimal example:"
   ]
  },
  {
   "cell_type": "code",
   "execution_count": 42,
   "id": "2a5ad1b9-3f71-4e1b-aa26-f218e405c174",
   "metadata": {},
   "outputs": [],
   "source": [
    "def recursion(x):\n",
    "    \n",
    "    limit = 5\n",
    "    \n",
    "    if x < limit:\n",
    "        \n",
    "        print(\"a rose \" + x * \"is a rose \")\n",
    "        # print(\"a function \" + x * \"calls a function \")\n",
    "        \n",
    "        recursion(x + 1)"
   ]
  },
  {
   "cell_type": "code",
   "execution_count": 43,
   "id": "1cf69ad7-e5df-46b1-81c6-a644053434f2",
   "metadata": {},
   "outputs": [
    {
     "name": "stdout",
     "output_type": "stream",
     "text": [
      "a rose \n",
      "a rose is a rose \n",
      "a rose is a rose is a rose \n",
      "a rose is a rose is a rose is a rose \n",
      "a rose is a rose is a rose is a rose is a rose \n"
     ]
    }
   ],
   "source": [
    "recursion(0)"
   ]
  },
  {
   "cell_type": "markdown",
   "id": "74c4773e-320a-43ad-be6a-cabb909b6fa1",
   "metadata": {},
   "source": [
    "### Example using recursion and iteration"
   ]
  },
  {
   "cell_type": "code",
   "execution_count": 44,
   "id": "d1ce15cc-1f7a-4298-8b6b-de0a1972f704",
   "metadata": {},
   "outputs": [
    {
     "name": "stdout",
     "output_type": "stream",
     "text": [
      "['p', 'a', 't', 't', 'e', 'r', 'n']\n"
     ]
    }
   ],
   "source": [
    "alphabet = ['a','b','c','d','e','f','g','h','i','j','k','l','m','n','o','p'\\\n",
    "            ,'q','r','s','t','u','v','w','x','y','z']\n",
    "\n",
    "target_word = 'pattern'\n",
    "\n",
    "target_list = list(target_word)\n",
    "print(target_list)"
   ]
  },
  {
   "cell_type": "code",
   "execution_count": 45,
   "id": "7770d095-df0c-4254-b381-3301cefaf767",
   "metadata": {},
   "outputs": [
    {
     "name": "stdout",
     "output_type": "stream",
     "text": [
      "No match: f\n",
      "['a', 'b', 'c', 'd', 'e', 'g', 'h', 'i', 'j', 'k', 'l', 'm', 'n', 'o', 'p', 'q', 'r', 's', 't', 'u', 'v', 'w', 'x', 'y', 'z']\n",
      "No match: u\n",
      "['a', 'b', 'c', 'd', 'e', 'g', 'h', 'i', 'j', 'k', 'l', 'm', 'n', 'o', 'p', 'q', 'r', 's', 't', 'v', 'w', 'x', 'y', 'z']\n",
      "No match: z\n",
      "['a', 'b', 'c', 'd', 'e', 'g', 'h', 'i', 'j', 'k', 'l', 'm', 'n', 'o', 'p', 'q', 'r', 's', 't', 'v', 'w', 'x', 'y']\n",
      "No match: c\n",
      "['a', 'b', 'd', 'e', 'g', 'h', 'i', 'j', 'k', 'l', 'm', 'n', 'o', 'p', 'q', 'r', 's', 't', 'v', 'w', 'x', 'y']\n",
      "No match: y\n",
      "['a', 'b', 'd', 'e', 'g', 'h', 'i', 'j', 'k', 'l', 'm', 'n', 'o', 'p', 'q', 'r', 's', 't', 'v', 'w', 'x']\n",
      "No match: d\n",
      "['a', 'b', 'e', 'g', 'h', 'i', 'j', 'k', 'l', 'm', 'n', 'o', 'p', 'q', 'r', 's', 't', 'v', 'w', 'x']\n",
      "No match: l\n",
      "['a', 'b', 'e', 'g', 'h', 'i', 'j', 'k', 'm', 'n', 'o', 'p', 'q', 'r', 's', 't', 'v', 'w', 'x']\n",
      "No match: g\n",
      "['a', 'b', 'e', 'h', 'i', 'j', 'k', 'm', 'n', 'o', 'p', 'q', 'r', 's', 't', 'v', 'w', 'x']\n",
      "Found match: p\n",
      "No match: s\n",
      "['a', 'b', 'c', 'd', 'e', 'f', 'g', 'h', 'i', 'j', 'k', 'l', 'm', 'n', 'o', 'p', 'q', 'r', 't', 'u', 'v', 'w', 'x', 'y', 'z']\n",
      "No match: b\n",
      "['a', 'c', 'd', 'e', 'f', 'g', 'h', 'i', 'j', 'k', 'l', 'm', 'n', 'o', 'p', 'q', 'r', 't', 'u', 'v', 'w', 'x', 'y', 'z']\n",
      "Found match: a\n",
      "No match: q\n",
      "['a', 'b', 'c', 'd', 'e', 'f', 'g', 'h', 'i', 'j', 'k', 'l', 'm', 'n', 'o', 'p', 'r', 's', 't', 'u', 'v', 'w', 'x', 'y', 'z']\n",
      "No match: p\n",
      "['a', 'b', 'c', 'd', 'e', 'f', 'g', 'h', 'i', 'j', 'k', 'l', 'm', 'n', 'o', 'r', 's', 't', 'u', 'v', 'w', 'x', 'y', 'z']\n",
      "No match: o\n",
      "['a', 'b', 'c', 'd', 'e', 'f', 'g', 'h', 'i', 'j', 'k', 'l', 'm', 'n', 'r', 's', 't', 'u', 'v', 'w', 'x', 'y', 'z']\n",
      "No match: l\n",
      "['a', 'b', 'c', 'd', 'e', 'f', 'g', 'h', 'i', 'j', 'k', 'm', 'n', 'r', 's', 't', 'u', 'v', 'w', 'x', 'y', 'z']\n",
      "Found match: t\n",
      "No match: f\n",
      "['a', 'b', 'c', 'd', 'e', 'g', 'h', 'i', 'j', 'k', 'l', 'm', 'n', 'o', 'p', 'q', 'r', 's', 't', 'u', 'v', 'w', 'x', 'y', 'z']\n",
      "No match: j\n",
      "['a', 'b', 'c', 'd', 'e', 'g', 'h', 'i', 'k', 'l', 'm', 'n', 'o', 'p', 'q', 'r', 's', 't', 'u', 'v', 'w', 'x', 'y', 'z']\n",
      "No match: q\n",
      "['a', 'b', 'c', 'd', 'e', 'g', 'h', 'i', 'k', 'l', 'm', 'n', 'o', 'p', 'r', 's', 't', 'u', 'v', 'w', 'x', 'y', 'z']\n",
      "No match: h\n",
      "['a', 'b', 'c', 'd', 'e', 'g', 'i', 'k', 'l', 'm', 'n', 'o', 'p', 'r', 's', 't', 'u', 'v', 'w', 'x', 'y', 'z']\n",
      "No match: v\n",
      "['a', 'b', 'c', 'd', 'e', 'g', 'i', 'k', 'l', 'm', 'n', 'o', 'p', 'r', 's', 't', 'u', 'w', 'x', 'y', 'z']\n",
      "No match: k\n",
      "['a', 'b', 'c', 'd', 'e', 'g', 'i', 'l', 'm', 'n', 'o', 'p', 'r', 's', 't', 'u', 'w', 'x', 'y', 'z']\n",
      "No match: n\n",
      "['a', 'b', 'c', 'd', 'e', 'g', 'i', 'l', 'm', 'o', 'p', 'r', 's', 't', 'u', 'w', 'x', 'y', 'z']\n",
      "No match: r\n",
      "['a', 'b', 'c', 'd', 'e', 'g', 'i', 'l', 'm', 'o', 'p', 's', 't', 'u', 'w', 'x', 'y', 'z']\n",
      "No match: e\n",
      "['a', 'b', 'c', 'd', 'g', 'i', 'l', 'm', 'o', 'p', 's', 't', 'u', 'w', 'x', 'y', 'z']\n",
      "No match: m\n",
      "['a', 'b', 'c', 'd', 'g', 'i', 'l', 'o', 'p', 's', 't', 'u', 'w', 'x', 'y', 'z']\n",
      "No match: z\n",
      "['a', 'b', 'c', 'd', 'g', 'i', 'l', 'o', 'p', 's', 't', 'u', 'w', 'x', 'y']\n",
      "No match: d\n",
      "['a', 'b', 'c', 'g', 'i', 'l', 'o', 'p', 's', 't', 'u', 'w', 'x', 'y']\n",
      "No match: i\n",
      "['a', 'b', 'c', 'g', 'l', 'o', 'p', 's', 't', 'u', 'w', 'x', 'y']\n",
      "No match: b\n",
      "['a', 'c', 'g', 'l', 'o', 'p', 's', 't', 'u', 'w', 'x', 'y']\n",
      "No match: g\n",
      "['a', 'c', 'l', 'o', 'p', 's', 't', 'u', 'w', 'x', 'y']\n",
      "No match: u\n",
      "['a', 'c', 'l', 'o', 'p', 's', 't', 'w', 'x', 'y']\n",
      "No match: y\n",
      "['a', 'c', 'l', 'o', 'p', 's', 't', 'w', 'x']\n",
      "No match: l\n",
      "['a', 'c', 'o', 'p', 's', 't', 'w', 'x']\n",
      "Found match: t\n",
      "No match: d\n",
      "['a', 'b', 'c', 'e', 'f', 'g', 'h', 'i', 'j', 'k', 'l', 'm', 'n', 'o', 'p', 'q', 'r', 's', 't', 'u', 'v', 'w', 'x', 'y', 'z']\n",
      "No match: z\n",
      "['a', 'b', 'c', 'e', 'f', 'g', 'h', 'i', 'j', 'k', 'l', 'm', 'n', 'o', 'p', 'q', 'r', 's', 't', 'u', 'v', 'w', 'x', 'y']\n",
      "No match: t\n",
      "['a', 'b', 'c', 'e', 'f', 'g', 'h', 'i', 'j', 'k', 'l', 'm', 'n', 'o', 'p', 'q', 'r', 's', 'u', 'v', 'w', 'x', 'y']\n",
      "No match: i\n",
      "['a', 'b', 'c', 'e', 'f', 'g', 'h', 'j', 'k', 'l', 'm', 'n', 'o', 'p', 'q', 'r', 's', 'u', 'v', 'w', 'x', 'y']\n",
      "No match: r\n",
      "['a', 'b', 'c', 'e', 'f', 'g', 'h', 'j', 'k', 'l', 'm', 'n', 'o', 'p', 'q', 's', 'u', 'v', 'w', 'x', 'y']\n",
      "No match: q\n",
      "['a', 'b', 'c', 'e', 'f', 'g', 'h', 'j', 'k', 'l', 'm', 'n', 'o', 'p', 's', 'u', 'v', 'w', 'x', 'y']\n",
      "No match: f\n",
      "['a', 'b', 'c', 'e', 'g', 'h', 'j', 'k', 'l', 'm', 'n', 'o', 'p', 's', 'u', 'v', 'w', 'x', 'y']\n",
      "No match: c\n",
      "['a', 'b', 'e', 'g', 'h', 'j', 'k', 'l', 'm', 'n', 'o', 'p', 's', 'u', 'v', 'w', 'x', 'y']\n",
      "No match: g\n",
      "['a', 'b', 'e', 'h', 'j', 'k', 'l', 'm', 'n', 'o', 'p', 's', 'u', 'v', 'w', 'x', 'y']\n",
      "No match: v\n",
      "['a', 'b', 'e', 'h', 'j', 'k', 'l', 'm', 'n', 'o', 'p', 's', 'u', 'w', 'x', 'y']\n",
      "No match: j\n",
      "['a', 'b', 'e', 'h', 'k', 'l', 'm', 'n', 'o', 'p', 's', 'u', 'w', 'x', 'y']\n",
      "No match: n\n",
      "['a', 'b', 'e', 'h', 'k', 'l', 'm', 'o', 'p', 's', 'u', 'w', 'x', 'y']\n",
      "No match: s\n",
      "['a', 'b', 'e', 'h', 'k', 'l', 'm', 'o', 'p', 'u', 'w', 'x', 'y']\n",
      "No match: b\n",
      "['a', 'e', 'h', 'k', 'l', 'm', 'o', 'p', 'u', 'w', 'x', 'y']\n",
      "No match: y\n",
      "['a', 'e', 'h', 'k', 'l', 'm', 'o', 'p', 'u', 'w', 'x']\n",
      "No match: x\n",
      "['a', 'e', 'h', 'k', 'l', 'm', 'o', 'p', 'u', 'w']\n",
      "No match: m\n",
      "['a', 'e', 'h', 'k', 'l', 'o', 'p', 'u', 'w']\n",
      "No match: u\n",
      "['a', 'e', 'h', 'k', 'l', 'o', 'p', 'w']\n",
      "No match: p\n",
      "['a', 'e', 'h', 'k', 'l', 'o', 'w']\n",
      "No match: w\n",
      "['a', 'e', 'h', 'k', 'l', 'o']\n",
      "No match: a\n",
      "['e', 'h', 'k', 'l', 'o']\n",
      "No match: l\n",
      "['e', 'h', 'k', 'o']\n",
      "No match: k\n",
      "['e', 'h', 'o']\n",
      "No match: o\n",
      "['e', 'h']\n",
      "Found match: e\n",
      "No match: t\n",
      "['a', 'b', 'c', 'd', 'e', 'f', 'g', 'h', 'i', 'j', 'k', 'l', 'm', 'n', 'o', 'p', 'q', 'r', 's', 'u', 'v', 'w', 'x', 'y', 'z']\n",
      "No match: e\n",
      "['a', 'b', 'c', 'd', 'f', 'g', 'h', 'i', 'j', 'k', 'l', 'm', 'n', 'o', 'p', 'q', 'r', 's', 'u', 'v', 'w', 'x', 'y', 'z']\n",
      "No match: f\n",
      "['a', 'b', 'c', 'd', 'g', 'h', 'i', 'j', 'k', 'l', 'm', 'n', 'o', 'p', 'q', 'r', 's', 'u', 'v', 'w', 'x', 'y', 'z']\n",
      "No match: z\n",
      "['a', 'b', 'c', 'd', 'g', 'h', 'i', 'j', 'k', 'l', 'm', 'n', 'o', 'p', 'q', 'r', 's', 'u', 'v', 'w', 'x', 'y']\n",
      "No match: o\n",
      "['a', 'b', 'c', 'd', 'g', 'h', 'i', 'j', 'k', 'l', 'm', 'n', 'p', 'q', 'r', 's', 'u', 'v', 'w', 'x', 'y']\n",
      "No match: l\n",
      "['a', 'b', 'c', 'd', 'g', 'h', 'i', 'j', 'k', 'm', 'n', 'p', 'q', 'r', 's', 'u', 'v', 'w', 'x', 'y']\n",
      "No match: u\n",
      "['a', 'b', 'c', 'd', 'g', 'h', 'i', 'j', 'k', 'm', 'n', 'p', 'q', 'r', 's', 'v', 'w', 'x', 'y']\n",
      "No match: a\n",
      "['b', 'c', 'd', 'g', 'h', 'i', 'j', 'k', 'm', 'n', 'p', 'q', 'r', 's', 'v', 'w', 'x', 'y']\n",
      "No match: j\n",
      "['b', 'c', 'd', 'g', 'h', 'i', 'k', 'm', 'n', 'p', 'q', 'r', 's', 'v', 'w', 'x', 'y']\n",
      "No match: b\n",
      "['c', 'd', 'g', 'h', 'i', 'k', 'm', 'n', 'p', 'q', 'r', 's', 'v', 'w', 'x', 'y']\n",
      "No match: c\n",
      "['d', 'g', 'h', 'i', 'k', 'm', 'n', 'p', 'q', 'r', 's', 'v', 'w', 'x', 'y']\n",
      "No match: x\n",
      "['d', 'g', 'h', 'i', 'k', 'm', 'n', 'p', 'q', 'r', 's', 'v', 'w', 'y']\n",
      "No match: w\n",
      "['d', 'g', 'h', 'i', 'k', 'm', 'n', 'p', 'q', 'r', 's', 'v', 'y']\n",
      "No match: k\n",
      "['d', 'g', 'h', 'i', 'm', 'n', 'p', 'q', 'r', 's', 'v', 'y']\n",
      "No match: s\n",
      "['d', 'g', 'h', 'i', 'm', 'n', 'p', 'q', 'r', 'v', 'y']\n",
      "No match: v\n",
      "['d', 'g', 'h', 'i', 'm', 'n', 'p', 'q', 'r', 'y']\n",
      "No match: d\n",
      "['g', 'h', 'i', 'm', 'n', 'p', 'q', 'r', 'y']\n",
      "No match: y\n",
      "['g', 'h', 'i', 'm', 'n', 'p', 'q', 'r']\n",
      "No match: m\n",
      "['g', 'h', 'i', 'n', 'p', 'q', 'r']\n",
      "No match: g\n",
      "['h', 'i', 'n', 'p', 'q', 'r']\n",
      "No match: n\n",
      "['h', 'i', 'p', 'q', 'r']\n",
      "No match: p\n",
      "['h', 'i', 'q', 'r']\n",
      "No match: i\n",
      "['h', 'q', 'r']\n",
      "No match: h\n",
      "['q', 'r']\n",
      "No match: q\n",
      "['r']\n",
      "Found match: r\n",
      "No match: d\n",
      "['a', 'b', 'c', 'e', 'f', 'g', 'h', 'i', 'j', 'k', 'l', 'm', 'n', 'o', 'p', 'q', 'r', 's', 't', 'u', 'v', 'w', 'x', 'y', 'z']\n",
      "No match: b\n",
      "['a', 'c', 'e', 'f', 'g', 'h', 'i', 'j', 'k', 'l', 'm', 'n', 'o', 'p', 'q', 'r', 's', 't', 'u', 'v', 'w', 'x', 'y', 'z']\n",
      "No match: j\n",
      "['a', 'c', 'e', 'f', 'g', 'h', 'i', 'k', 'l', 'm', 'n', 'o', 'p', 'q', 'r', 's', 't', 'u', 'v', 'w', 'x', 'y', 'z']\n",
      "No match: f\n",
      "['a', 'c', 'e', 'g', 'h', 'i', 'k', 'l', 'm', 'n', 'o', 'p', 'q', 'r', 's', 't', 'u', 'v', 'w', 'x', 'y', 'z']\n",
      "No match: x\n",
      "['a', 'c', 'e', 'g', 'h', 'i', 'k', 'l', 'm', 'n', 'o', 'p', 'q', 'r', 's', 't', 'u', 'v', 'w', 'y', 'z']\n",
      "Found match: n\n",
      "The word is: pattern\n"
     ]
    }
   ],
   "source": [
    "from random import choice\n",
    "\n",
    "alphabet = ['a','b','c','d','e','f','g','h','i','j','k','l','m','n','o','p'\\\n",
    "            ,'q','r','s','t','u','v','w','x','y','z']\n",
    "\n",
    "target_word = 'pattern'\n",
    "\n",
    "target_list = list(target_word)\n",
    "\n",
    "# recursive function to find the matching character\n",
    "def find_char(idx, alphabet):\n",
    "\n",
    "    temp_alphabet = alphabet\n",
    "    rnd_char = choice(temp_alphabet)\n",
    "\n",
    "    if rnd_char == target_list[idx]:\n",
    "        print(\"Found match:\", rnd_char)\n",
    "        return rnd_char\n",
    "\n",
    "    else:\n",
    "        print(\"No match:\", rnd_char)\n",
    "        temp_alphabet.remove(rnd_char)\n",
    "        print(temp_alphabet)\n",
    "        # if the random choice is NOT a match, execute the function again\n",
    "        return find_char(idx, temp_alphabet)\n",
    "\n",
    "new_word = []\n",
    "\n",
    "# iterating through each element in list\n",
    "for idx, i in enumerate(target_list):\n",
    "    alphabet_copy = alphabet.copy()\n",
    "    new_char = find_char(idx, alphabet_copy)\n",
    "    new_word.append(new_char)\n",
    "\n",
    "print(\"The word is:\", ''.join(new_word))"
   ]
  },
  {
   "cell_type": "markdown",
   "id": "0f32871b-3210-4341-9126-ec2cdb4914e7",
   "metadata": {},
   "source": [
    "### Permutations"
   ]
  },
  {
   "cell_type": "code",
   "execution_count": 50,
   "id": "9ee34335-e94f-4c42-a48c-9d5301cbbd02",
   "metadata": {},
   "outputs": [
    {
     "name": "stdout",
     "output_type": "stream",
     "text": [
      "wtf\n",
      "wft\n",
      "twf\n",
      "tfw\n",
      "fwt\n",
      "ftw\n"
     ]
    }
   ],
   "source": [
    "from itertools import permutations  \n",
    "\n",
    "target_word = 'wtf'\n",
    "\n",
    "target_list = list(target_word)\n",
    "\n",
    "# Get all permutations of the target word \n",
    "perm = permutations(target_list)  \n",
    "\n",
    "# Print the obtained permutations  \n",
    "for i in list(perm):  \n",
    "    print(\"\".join(i))  "
   ]
  },
  {
   "cell_type": "markdown",
   "id": "39cbf6bb-56bc-434a-8b36-faa2b3a6a7bc",
   "metadata": {},
   "source": [
    "### William Burroughs Cutup Example "
   ]
  },
  {
   "cell_type": "code",
   "execution_count": 47,
   "id": "7ae7653d-af56-46ab-b58d-8af04357a7a9",
   "metadata": {},
   "outputs": [
    {
     "data": {
      "image/jpeg": "[encoded data removed]",
      "text/plain": [
       "<IPython.core.display.Image object>"
      ]
     },
     "execution_count": 47,
     "metadata": {},
     "output_type": "execute_result"
    }
   ],
   "source": [
    "from IPython.display import Image\n",
    "Image('https://cdn.wallpaper.com/main/styles/responsive_770w_scale/s3/legacy/gallery/17053788/03_WilliamBurroughs.jpg')"
   ]
  },
  {
   "cell_type": "code",
   "execution_count": 48,
   "id": "2eb7cbeb-98cc-4786-96f0-5bbed0fdb2d8",
   "metadata": {},
   "outputs": [
    {
     "name": "stdout",
     "output_type": "stream",
     "text": [
      "Machine Electronic You Belong\n"
     ]
    }
   ],
   "source": [
    "from random import choice\n",
    "\n",
    "cutups = ['Their Tanks', 'Express', 'Hippos', 'Machine',\n",
    "'Boys are', 'Electronic', 'The Soft', 'Hippos', 'Tracking',\n",
    "'Nothing', 'Cut in', 'You have', 'The Truth', 'You Belong',\n",
    "'Danger', 'Inflexible', 'Psychiatry']\n",
    "\n",
    "def generate_sentence():\n",
    "\n",
    "    cutups_copy = cutups.copy()\n",
    "    new_sentence = []\n",
    "    for i in range(3):\n",
    "        rnd_c = choice(cutups_copy)\n",
    "        new_sentence.append(rnd_c)\n",
    "        cutups_copy.remove(rnd_c)\n",
    "\n",
    "    return new_sentence\n",
    "\n",
    "new_sentence = generate_sentence()\n",
    "\n",
    "print(\" \".join(new_sentence))"
   ]
  },
  {
   "cell_type": "code",
   "execution_count": 49,
   "id": "fc9ac077-664c-4b94-8e8c-04e0c3d12ed6",
   "metadata": {},
   "outputs": [
    {
     "name": "stdout",
     "output_type": "stream",
     "text": [
      "Machine Electronic You Belong\n",
      "Machine You Belong Electronic\n",
      "Electronic Machine You Belong\n",
      "Electronic You Belong Machine\n",
      "You Belong Machine Electronic\n",
      "You Belong Electronic Machine\n"
     ]
    }
   ],
   "source": [
    "from itertools import permutations\n",
    "\n",
    "perm = permutations(new_sentence)\n",
    "\n",
    "for i in list(perm):\n",
    "    print(\" \".join(i))"
   ]
  }
 ],
 "metadata": {
  "kernelspec": {
   "display_name": "Python 3 (ipykernel)",
   "language": "python",
   "name": "python3"
  },
  "language_info": {
   "codemirror_mode": {
    "name": "ipython",
    "version": 3
   },
   "file_extension": ".py",
   "mimetype": "text/x-python",
   "name": "python",
   "nbconvert_exporter": "python",
   "pygments_lexer": "ipython3",
   "version": "3.9.13"
  }
 },
 "nbformat": 4,
 "nbformat_minor": 5
}
