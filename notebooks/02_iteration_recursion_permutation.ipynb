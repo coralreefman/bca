{
 "cells": [
  {
   "cell_type": "markdown",
   "id": "7c94fcfa-170b-454d-a5da-7006338891d5",
   "metadata": {},
   "source": [
    "# Iteration, recursion and permutation"
   ]
  },
  {
   "cell_type": "markdown",
   "id": "1efd8596-b4bb-4395-9ae5-5a81589dde3e",
   "metadata": {},
   "source": [
    "### Iteration"
   ]
  },
  {
   "cell_type": "markdown",
   "id": "d12cfd1e-581c-437f-be85-90c31209e9f5",
   "metadata": {},
   "source": [
    "In python you can use for loops to iterate over the elements of a **sequence**. The most common sequence types in python are lists, strings and tuples."
   ]
  },
  {
   "cell_type": "markdown",
   "id": "254208b9-1faf-43cb-bcb0-e924cf4545cc",
   "metadata": {},
   "source": [
    "#### Basics"
   ]
  },
  {
   "cell_type": "code",
   "execution_count": null,
   "id": "f9820b5b-60f8-4a40-a41f-eea3873886a6",
   "metadata": {},
   "outputs": [],
   "source": [
    "numbers = [10, 12, 15, 18, 20]\n",
    "message = \"I ❤️ Python\"\n",
    "fruits = (\"apple\", \"pineapple\", \"blueberry\")"
   ]
  },
  {
   "cell_type": "code",
   "execution_count": null,
   "id": "5754205a-e78f-497f-87c3-47443b9e4b0d",
   "metadata": {},
   "outputs": [],
   "source": [
    "for n in numbers:\n",
    "    \n",
    "    print(n)"
   ]
  },
  {
   "cell_type": "code",
   "execution_count": null,
   "id": "db4bceb2-7d3f-4875-b436-3f656108b84b",
   "metadata": {},
   "outputs": [],
   "source": [
    "for idx, n in enumerate(numbers):\n",
    "    \n",
    "    print(\"{}: {}\".format(idx, n))"
   ]
  },
  {
   "cell_type": "code",
   "execution_count": null,
   "id": "32a20a07-1611-4deb-bfe1-f6680c0242f3",
   "metadata": {},
   "outputs": [],
   "source": [
    "for i in range(2):\n",
    "    \n",
    "    print(numbers[i])"
   ]
  },
  {
   "cell_type": "markdown",
   "id": "a9c7ea3a-0e62-4604-8349-265b35124202",
   "metadata": {},
   "source": [
    "#### Nested loops"
   ]
  },
  {
   "cell_type": "code",
   "execution_count": null,
   "id": "ae7d23d4-ef24-4755-825a-757edcdc63b5",
   "metadata": {},
   "outputs": [],
   "source": [
    "rows = 6\n",
    "\n",
    "# outer loop\n",
    "for i in range(rows):\n",
    "    # nested loop\n",
    "    for j in range(i):\n",
    "        # display number\n",
    "        print(i, end=' ')\n",
    "    # new line after each row\n",
    "    print('')"
   ]
  },
  {
   "cell_type": "code",
   "execution_count": null,
   "id": "1d4e48c9-cda3-4869-87c0-ef0f92b88d8c",
   "metadata": {},
   "outputs": [],
   "source": [
    "rows = 5\n",
    "for i in range(1, rows + 1):\n",
    "    \n",
    "    for j in range(1, i + 1):\n",
    "        \n",
    "        print(j, end=' ')\n",
    "        \n",
    "    print('')"
   ]
  },
  {
   "cell_type": "markdown",
   "id": "a81e8c84-60f1-44e8-8c56-272c869f132d",
   "metadata": {},
   "source": [
    "### Recursion"
   ]
  },
  {
   "cell_type": "markdown",
   "id": "70870ec8-4782-4a88-97dc-5b4549023922",
   "metadata": {},
   "source": [
    "In programming recursion happens when a function is calling itself.\n",
    "A very minimal example:"
   ]
  },
  {
   "cell_type": "code",
   "execution_count": null,
   "id": "2a5ad1b9-3f71-4e1b-aa26-f218e405c174",
   "metadata": {},
   "outputs": [],
   "source": [
    "def recursion(x):\n",
    "    \n",
    "    limit = 5\n",
    "    \n",
    "    if x < limit:\n",
    "        \n",
    "        print(\"a rose \" + x * \"is a rose \")\n",
    "        # print(\"a function \" + x * \"calls a function \")\n",
    "        \n",
    "        recursion(x + 1)"
   ]
  },
  {
   "cell_type": "code",
   "execution_count": null,
   "id": "1cf69ad7-e5df-46b1-81c6-a644053434f2",
   "metadata": {},
   "outputs": [],
   "source": [
    "recursion(0)"
   ]
  },
  {
   "cell_type": "markdown",
   "id": "74c4773e-320a-43ad-be6a-cabb909b6fa1",
   "metadata": {},
   "source": [
    "### Example using recursion and iteration"
   ]
  },
  {
   "cell_type": "code",
   "execution_count": null,
   "id": "d1ce15cc-1f7a-4298-8b6b-de0a1972f704",
   "metadata": {},
   "outputs": [],
   "source": [
    "alphabet = ['a','b','c','d','e','f','g','h','i','j','k','l','m','n','o','p'\\\n",
    "            ,'q','r','s','t','u','v','w','x','y','z']\n",
    "\n",
    "target_word = 'pattern'\n",
    "\n",
    "target_list = list(target_word)\n",
    "print(target_list)"
   ]
  },
  {
   "cell_type": "code",
   "execution_count": null,
   "id": "7770d095-df0c-4254-b381-3301cefaf767",
   "metadata": {},
   "outputs": [],
   "source": [
    "from random import choice\n",
    "\n",
    "alphabet = ['a','b','c','d','e','f','g','h','i','j','k','l','m','n','o','p'\\\n",
    "            ,'q','r','s','t','u','v','w','x','y','z']\n",
    "\n",
    "target_word = 'pattern'\n",
    "\n",
    "target_list = list(target_word)\n",
    "\n",
    "# recursive function to find the matching character\n",
    "def find_char(idx, alphabet):\n",
    "\n",
    "    temp_alphabet = alphabet\n",
    "    rnd_char = choice(temp_alphabet)\n",
    "\n",
    "    if rnd_char == target_list[idx]:\n",
    "        print(\"Found match:\", rnd_char)\n",
    "        return rnd_char\n",
    "\n",
    "    else:\n",
    "        print(\"No match:\", rnd_char)\n",
    "        temp_alphabet.remove(rnd_char)\n",
    "        print(temp_alphabet)\n",
    "        # if the random choice is NOT a match, execute the function again\n",
    "        return find_char(idx, temp_alphabet)\n",
    "\n",
    "new_word = []\n",
    "\n",
    "# iterating through each element in list\n",
    "for idx, i in enumerate(target_list):\n",
    "    alphabet_copy = alphabet.copy()\n",
    "    new_char = find_char(idx, alphabet_copy)\n",
    "    new_word.append(new_char)\n",
    "\n",
    "print(\"The word is:\", ''.join(new_word))"
   ]
  },
  {
   "cell_type": "markdown",
   "id": "0f32871b-3210-4341-9126-ec2cdb4914e7",
   "metadata": {},
   "source": [
    "### Permutations"
   ]
  },
  {
   "cell_type": "code",
   "execution_count": null,
   "id": "9ee34335-e94f-4c42-a48c-9d5301cbbd02",
   "metadata": {},
   "outputs": [],
   "source": [
    "from itertools import permutations  \n",
    "\n",
    "target_word = 'wtf'\n",
    "\n",
    "target_list = list(target_word)\n",
    "\n",
    "# Get all permutations of the target word \n",
    "perm = permutations(target_list)  \n",
    "\n",
    "# Print the obtained permutations  \n",
    "for i in list(perm):  \n",
    "    print(\"\".join(i))  "
   ]
  },
  {
   "cell_type": "markdown",
   "id": "39cbf6bb-56bc-434a-8b36-faa2b3a6a7bc",
   "metadata": {},
   "source": [
    "### William Burroughs Cutup Example "
   ]
  },
  {
   "cell_type": "code",
   "execution_count": null,
   "id": "7ae7653d-af56-46ab-b58d-8af04357a7a9",
   "metadata": {},
   "outputs": [],
   "source": [
    "from IPython.display import Image\n",
    "Image('https://cdn.wallpaper.com/main/styles/responsive_770w_scale/s3/legacy/gallery/17053788/03_WilliamBurroughs.jpg')"
   ]
  },
  {
   "cell_type": "code",
   "execution_count": null,
   "id": "2eb7cbeb-98cc-4786-96f0-5bbed0fdb2d8",
   "metadata": {},
   "outputs": [],
   "source": [
    "from random import choice\n",
    "\n",
    "cutups = ['Their Tanks', 'Express', 'Hippos', 'Machine',\n",
    "'Boys are', 'Electronic', 'The Soft', 'Hippos', 'Tracking',\n",
    "'Nothing', 'Cut in', 'You have', 'The Truth', 'You Belong',\n",
    "'Danger', 'Inflexible', 'Psychiatry']\n",
    "\n",
    "def generate_sentence():\n",
    "\n",
    "    cutups_copy = cutups.copy()\n",
    "    new_sentence = []\n",
    "    for i in range(3):\n",
    "        rnd_c = choice(cutups_copy)\n",
    "        new_sentence.append(rnd_c)\n",
    "        cutups_copy.remove(rnd_c)\n",
    "\n",
    "    return new_sentence\n",
    "\n",
    "new_sentence = generate_sentence()\n",
    "\n",
    "print(\" \".join(new_sentence))"
   ]
  },
  {
   "cell_type": "code",
   "execution_count": null,
   "id": "fc9ac077-664c-4b94-8e8c-04e0c3d12ed6",
   "metadata": {},
   "outputs": [],
   "source": [
    "from itertools import permutations\n",
    "\n",
    "perm = permutations(new_sentence)\n",
    "\n",
    "for i in list(perm):\n",
    "    print(\" \".join(i))"
   ]
  }
 ],
 "metadata": {
  "kernelspec": {
   "display_name": "Python 3 (ipykernel)",
   "language": "python",
   "name": "python3"
  },
  "language_info": {
   "codemirror_mode": {
    "name": "ipython",
    "version": 3
   },
   "file_extension": ".py",
   "mimetype": "text/x-python",
   "name": "python",
   "nbconvert_exporter": "python",
   "pygments_lexer": "ipython3",
   "version": "3.10.12"
  }
 },
 "nbformat": 4,
 "nbformat_minor": 5
}
