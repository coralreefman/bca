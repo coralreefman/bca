{
 "cells": [
  {
   "cell_type": "markdown",
   "id": "7c94fcfa-170b-454d-a5da-7006338891d5",
   "metadata": {},
   "source": [
    "# Iteration, recursion and permutation\n",
    "This notebook explores three fundamental concepts in programming: iteration, recursion, and permutation. We'll use Python to demonstrate these concepts and their applications."
   ]
  },
  {
   "cell_type": "markdown",
   "id": "1efd8596-b4bb-4395-9ae5-5a81589dde3e",
   "metadata": {},
   "source": [
    "### Iteration\n",
    "\n",
    "Iteration is a fundamental concept in programming that allows us to repeat a set of instructions multiple times. In Python, we primarily use `for` loops to iterate over sequences such as lists, strings, and tuples.  \n",
    "\n",
    "In python you can use for loops to iterate over the elements of a **sequence**. The most common sequence types in python are lists, strings and tuples."
   ]
  },
  {
   "cell_type": "markdown",
   "id": "254208b9-1faf-43cb-bcb0-e924cf4545cc",
   "metadata": {},
   "source": [
    "#### Basics"
   ]
  },
  {
   "cell_type": "code",
   "execution_count": null,
   "id": "f9820b5b-60f8-4a40-a41f-eea3873886a6",
   "metadata": {},
   "outputs": [],
   "source": [
    "# Define some sample sequences\n",
    "numbers = [10, 12, 15, 18, 20]\n",
    "message = \"I ❤️ Python\"\n",
    "fruits = (\"apple\", \"pineapple\", \"blueberry\")"
   ]
  },
  {
   "cell_type": "code",
   "execution_count": null,
   "id": "5754205a-e78f-497f-87c3-47443b9e4b0d",
   "metadata": {},
   "outputs": [],
   "source": [
    "# Iterate over a list\n",
    "print(\"Iterating over a list:\")\n",
    "\n",
    "for n in numbers:\n",
    "    \n",
    "    print(n)"
   ]
  },
  {
   "cell_type": "code",
   "execution_count": null,
   "id": "b5de09c3",
   "metadata": {},
   "outputs": [],
   "source": [
    "# Iterate over a string\n",
    "print(\"Iterating over a string:\")\n",
    "\n",
    "for character in message:\n",
    "\n",
    "    print(character, end=' ')"
   ]
  },
  {
   "cell_type": "code",
   "execution_count": null,
   "id": "0b77c8c2",
   "metadata": {},
   "outputs": [],
   "source": [
    "# Iterate over a tuple\n",
    "print(\"Iterating over a tuple:\")\n",
    "\n",
    "for fruit in fruits:\n",
    "\n",
    "    print(fruit, end='\\t')"
   ]
  },
  {
   "cell_type": "code",
   "execution_count": null,
   "id": "db4bceb2-7d3f-4875-b436-3f656108b84b",
   "metadata": {},
   "outputs": [],
   "source": [
    "# Using enumerate() to get both index and value\n",
    "print(\"Using enumerate:\")\n",
    "\n",
    "for idx, n in enumerate(numbers):\n",
    "\n",
    "    print(f\"Index {idx+1}: Value {n}\")    "
   ]
  },
  {
   "cell_type": "code",
   "execution_count": null,
   "id": "32a20a07-1611-4deb-bfe1-f6680c0242f3",
   "metadata": {},
   "outputs": [],
   "source": [
    "# Using range() for specific iterations\n",
    "print(\"Using range:\")\n",
    "\n",
    "for i in range(2):\n",
    "    \n",
    "    print(f\"numbers[{i}] = {numbers[i]}\")"
   ]
  },
  {
   "cell_type": "markdown",
   "id": "a9c7ea3a-0e62-4604-8349-265b35124202",
   "metadata": {},
   "source": [
    "#### Nested loops\n",
    "Nested loops are loops within loops, useful for working with multi-dimensional data or creating complex patterns.\n"
   ]
  },
  {
   "cell_type": "code",
   "execution_count": null,
   "id": "ae7d23d4-ef24-4755-825a-757edcdc63b5",
   "metadata": {},
   "outputs": [],
   "source": [
    "# Example 1: Number pattern\n",
    "rows = 6\n",
    "print(\"Number pattern:\")\n",
    "\n",
    "for i in range(1, rows + 1): # outer loop\n",
    "\n",
    "    for j in range(1, i + 1): # nested loop\n",
    "        \n",
    "        print(i, end=' ')\n",
    "    \n",
    "    print()  # New line after each row"
   ]
  },
  {
   "cell_type": "code",
   "execution_count": null,
   "id": "1d4e48c9-cda3-4869-87c0-ef0f92b88d8c",
   "metadata": {},
   "outputs": [],
   "source": [
    "# Example 1: Ascending Triangle Pattern\n",
    "\n",
    "rows = 5\n",
    "print(\"Ascending Triangle Pattern:\")\n",
    "\n",
    "for i in range(1, rows + 1):\n",
    "    # Outer loop: controls the number of rows\n",
    "    \n",
    "    for j in range(1, i + 1):\n",
    "        # Inner loop: prints numbers in each row\n",
    "        \n",
    "        print(j, end=' ')  # Print the current number and a space\n",
    "        \n",
    "    print('')  # New line after each row"
   ]
  },
  {
   "cell_type": "code",
   "execution_count": null,
   "id": "5e163561",
   "metadata": {},
   "outputs": [],
   "source": [
    "rows = 5\n",
    "b = 0\n",
    "print(\"Descending Triangle Pattern:\")\n",
    "\n",
    "# Reverse for loop from 5 to 1\n",
    "for i in range(rows, 0, -1):\n",
    "    \n",
    "    b += 1  # Increment b for each row\n",
    "    \n",
    "    for j in range(1, i + 1):\n",
    "        # Inner loop: prints the same number 'b' multiple times in each row\n",
    "        print(b, end=' ')\n",
    "    \n",
    "    print('')  # New line after each row"
   ]
  },
  {
   "cell_type": "code",
   "execution_count": null,
   "id": "f01e709a",
   "metadata": {},
   "outputs": [],
   "source": [
    "#Alternate number pattern using while loop\n",
    "rows = 5\n",
    "i = 1\n",
    "print(\"Alternate number pattern:\")\n",
    "\n",
    "while i <= rows:\n",
    "\n",
    "    j = 1\n",
    "\n",
    "    while j <= i:\n",
    "        \n",
    "        print((i * 2 - 1), end=' ')\n",
    "        j += 1\n",
    "    \n",
    "    i += 1\n",
    "    print()"
   ]
  },
  {
   "cell_type": "markdown",
   "id": "2706f20a",
   "metadata": {},
   "source": [
    "### Use the terminal as a display for animation"
   ]
  },
  {
   "cell_type": "code",
   "execution_count": null,
   "id": "885f2ccc",
   "metadata": {},
   "outputs": [],
   "source": [
    "import shutil\n",
    "import time\n",
    "import math\n",
    "\n",
    "def get_terminal_size():\n",
    "    return shutil.get_terminal_size()\n",
    "\n",
    "width = get_terminal_size().columns\n",
    "height = get_terminal_size().lines\n",
    "\n",
    "def wait_and_print():\n",
    "\n",
    "    a=0\n",
    "\n",
    "    while a < math.pi*16:\n",
    "        print(\" \"*int((width//2)+(10+a//2)*math.sin(a))+\"YES\")\n",
    "        print(\" \"*int((width//2)+(10+a//2)*math.sin(a*-1.0))+\"NO\")\n",
    "        print(\" \"*int((width//2)+(10+a//2)*math.cos(a))+\"MAYBE\")\n",
    "        time.sleep(0.02)\n",
    "        a += 0.1\n",
    "\n",
    "def main():\n",
    "\n",
    "    wait_and_print()\n",
    "\n",
    "    print('\\n')\n",
    "\n",
    "if __name__ == \"__main__\":\n",
    "\n",
    "    main()"
   ]
  },
  {
   "cell_type": "markdown",
   "id": "a81e8c84-60f1-44e8-8c56-272c869f132d",
   "metadata": {},
   "source": [
    "### Recursion"
   ]
  },
  {
   "cell_type": "markdown",
   "id": "70870ec8-4782-4a88-97dc-5b4549023922",
   "metadata": {},
   "source": [
    "In programming Recursion occurs when a function calls itself. It's a powerful technique for solving problems that can be broken down into smaller, similar sub-problems.  "
   ]
  },
  {
   "cell_type": "code",
   "execution_count": null,
   "id": "2a5ad1b9-3f71-4e1b-aa26-f218e405c174",
   "metadata": {},
   "outputs": [],
   "source": [
    "# A very minimal, visual example:\n",
    "def recursion(x, max_depth):\n",
    "        \n",
    "    if x < max_depth:\n",
    "        \n",
    "        print(\"a rose \" + x * \"is a rose \")\n",
    "        # print(\"a function \" + x * \"calls a function \")\n",
    "        \n",
    "        recursion(x + 1, max_depth)"
   ]
  },
  {
   "cell_type": "code",
   "execution_count": null,
   "id": "1cf69ad7-e5df-46b1-81c6-a644053434f2",
   "metadata": {},
   "outputs": [],
   "source": [
    "recursion(0, 5)"
   ]
  },
  {
   "cell_type": "code",
   "execution_count": null,
   "id": "3c64e302",
   "metadata": {},
   "outputs": [],
   "source": [
    "def echo_in_canyon(word, depth=0):\n",
    "    \"\"\"    \n",
    "    Args:\n",
    "    word (str): The word to echo\n",
    "    depth (int): The current depth of the echo (used internally)\n",
    "    \n",
    "    Returns:\n",
    "    str: The echoed word\n",
    "    \"\"\"\n",
    "    # The echo fades with distance\n",
    "    faded_word = word[:-1] if len(word) > 1 else \"\"\n",
    "    \n",
    "    # Indentation to visualize the echo's journey\n",
    "    indent = \"  \" * depth\n",
    "    \n",
    "    # Base case: when the echo fades to nothing\n",
    "    if not word:\n",
    "        return indent + \"...\"\n",
    "    \n",
    "    # The current echo\n",
    "    current_echo = indent + word\n",
    "    \n",
    "    # The echo continues, growing fainter\n",
    "    next_echo = echo_in_canyon(faded_word, depth + 1)\n",
    "    \n",
    "    # Combine the current echo with the continuing echoes\n",
    "    return f\"{current_echo}\\n{next_echo}\""
   ]
  },
  {
   "cell_type": "code",
   "execution_count": null,
   "id": "58e210cb",
   "metadata": {},
   "outputs": [],
   "source": [
    "# Let's shout into the canyon\n",
    "shout = \"Tumbleweed!\"\n",
    "print(\"Shouting into the canyon:\")\n",
    "print(echo_in_canyon(shout))"
   ]
  },
  {
   "cell_type": "markdown",
   "id": "74c4773e-320a-43ad-be6a-cabb909b6fa1",
   "metadata": {},
   "source": [
    "### Example: Finding Characters Recursively\n",
    "Let's look at a more complex example that combines recursion and iteration:"
   ]
  },
  {
   "cell_type": "code",
   "execution_count": null,
   "id": "d1ce15cc-1f7a-4298-8b6b-de0a1972f704",
   "metadata": {},
   "outputs": [],
   "source": [
    "alphabet = ['a','b','c','d','e','f','g','h','i','j','k','l','m','n','o','p'\\\n",
    "            ,'q','r','s','t','u','v','w','x','y','z']\n",
    "\n",
    "target_word = 'pattern'\n",
    "\n",
    "target_list = list(target_word)\n",
    "print(target_list)"
   ]
  },
  {
   "cell_type": "code",
   "execution_count": null,
   "id": "4631f38b",
   "metadata": {},
   "outputs": [],
   "source": [
    "from random import choice\n",
    "import string\n",
    "\n",
    "# Use string.ascii_lowercase instead of manually creating the alphabet list\n",
    "alphabet = list(string.ascii_lowercase)\n",
    "print(alphabet)"
   ]
  },
  {
   "cell_type": "code",
   "execution_count": null,
   "id": "d24c9e0f",
   "metadata": {},
   "outputs": [],
   "source": [
    "def find_char(target, available_chars):\n",
    "    \"\"\"\n",
    "    Recursively find a matching character from available characters.\n",
    "    \n",
    "    Args:\n",
    "    target (str): The character we're looking for\n",
    "    available_chars (list): List of available characters to choose from\n",
    "    \n",
    "    Returns:\n",
    "    str: The matching character\n",
    "    \"\"\"\n",
    "    # Choose a random character from available characters\n",
    "    rnd_char = choice(available_chars)\n",
    "    \n",
    "    if rnd_char == target:\n",
    "        print(f\"Found match: {rnd_char}\")\n",
    "        return rnd_char\n",
    "    else:\n",
    "        print(f\"No match: {rnd_char}\")\n",
    "        # Remove the non-matching character from available characters\n",
    "        available_chars.remove(rnd_char)\n",
    "        print(f\"Remaining characters: {available_chars}\")\n",
    "        # Recursive call with updated available characters\n",
    "        return find_char(target, available_chars)\n",
    "    \n",
    "def find_word(word):\n",
    "    \"\"\"\n",
    "    Build the target word by finding each character recursively.\n",
    "    \n",
    "    Args:\n",
    "    word (str): The target word to build\n",
    "    \n",
    "    Returns:\n",
    "    str: The built word\n",
    "    \"\"\"\n",
    "    new_word = []\n",
    "    for char in word:\n",
    "        # Create a new copy of the alphabet for each character\n",
    "        alphabet_copy = alphabet.copy()\n",
    "        new_char = find_char(char, alphabet_copy)\n",
    "        new_word.append(new_char)\n",
    "    return ''.join(new_word)"
   ]
  },
  {
   "cell_type": "code",
   "execution_count": null,
   "id": "bf8293e1",
   "metadata": {},
   "outputs": [],
   "source": [
    "# Demonstrate the recursive character finding process\n",
    "target_word = 'aiotmlwtf'\n",
    "print(f\"Target word: {target_word}\")\n",
    "result = find_word(target_word)\n",
    "print(f\"The word is: {result}\")"
   ]
  },
  {
   "cell_type": "markdown",
   "id": "0f32871b-3210-4341-9126-ec2cdb4914e7",
   "metadata": {},
   "source": [
    "### Permutations\n",
    "Permutations are all possible arrangements of a set of items."
   ]
  },
  {
   "cell_type": "code",
   "execution_count": null,
   "id": "43f7d080",
   "metadata": {},
   "outputs": [],
   "source": [
    "def generate_permutations(word):\n",
    "    \"\"\"\n",
    "    Generate all permutations of a given word.\n",
    "    \n",
    "    Args:\n",
    "    word (str): The input word to permute\n",
    "    \n",
    "    Returns:\n",
    "    list: A list of all permutations\n",
    "    \"\"\"\n",
    "    # Base case: if word is empty or has only one character, return [word]\n",
    "    if len(word) <= 1:\n",
    "        return [word]\n",
    "    \n",
    "    # Recursive case\n",
    "    perms = []\n",
    "    for i, char in enumerate(word):\n",
    "        # Remove current character\n",
    "        remaining_chars = word[:i] + word[i+1:]\n",
    "        # Recursively generate permutations of the remaining characters\n",
    "        for perm in generate_permutations(remaining_chars):\n",
    "            # Add current character to the front of each permutation\n",
    "            perms.append(char + perm)\n",
    "    \n",
    "    return perms\n",
    "\n",
    "target_word = 'wtf'\n",
    "\n",
    "print(f\"Generating permutations for '{target_word}':\")\n",
    "\n",
    "# Generate and print all permutations\n",
    "for perm in generate_permutations(target_word):\n",
    "    \n",
    "    print(perm)"
   ]
  },
  {
   "cell_type": "markdown",
   "id": "6c82d02f",
   "metadata": {},
   "source": [
    "Python's itertools module provides an efficient way to generate permutations."
   ]
  },
  {
   "cell_type": "code",
   "execution_count": null,
   "id": "9ee34335-e94f-4c42-a48c-9d5301cbbd02",
   "metadata": {},
   "outputs": [],
   "source": [
    "from itertools import permutations  \n",
    "\n",
    "target_word = 'wtf'\n",
    "\n",
    "target_list = list(target_word)\n",
    "\n",
    "# Get all permutations of the target word \n",
    "perm = permutations(target_list)  \n",
    "\n",
    "# Print the obtained permutations  \n",
    "for i in list(perm):  \n",
    "    print(\"\".join(i))  "
   ]
  },
  {
   "cell_type": "markdown",
   "id": "39cbf6bb-56bc-434a-8b36-faa2b3a6a7bc",
   "metadata": {},
   "source": [
    "### William Burroughs Cutup Example \n",
    "The cut-up technique is a literary method in which a text is cut up and rearranged to create a new text. Let's simulate this using Python."
   ]
  },
  {
   "cell_type": "code",
   "execution_count": null,
   "id": "7ae7653d-af56-46ab-b58d-8af04357a7a9",
   "metadata": {},
   "outputs": [],
   "source": [
    "from IPython.display import Image\n",
    "Image('https://shepelavy.com/blog/wp-content/uploads/2010/01/burroughs_word.jpg')\n",
    "# Displays an example of the cutup technique by William Burroughs & Brion Gysin - Untitled"
   ]
  },
  {
   "cell_type": "code",
   "execution_count": null,
   "id": "2eb7cbeb-98cc-4786-96f0-5bbed0fdb2d8",
   "metadata": {},
   "outputs": [],
   "source": [
    "from random import sample\n",
    "\n",
    "cutups = ['Their Tanks', 'Express', 'Hippos', 'Machine',\n",
    "'Boys are', 'Electronic', 'The Soft', 'Hippos', 'Tracking',\n",
    "'Nothing', 'Cut in', 'You have', 'The Truth', 'You Belong',\n",
    "'Danger', 'Inflexible', 'Psychiatry']\n",
    "\n",
    "def generate_sentence(words, n=3):\n",
    "    \"\"\"Generate a sentence using n random words from the list.\"\"\"\n",
    "    return ' '.join(sample(words, n))\n",
    "\n",
    "print(\"Generated cut-up sentences:\")\n",
    "for _ in range(5):\n",
    "    print(generate_sentence(cutups))"
   ]
  },
  {
   "cell_type": "code",
   "execution_count": null,
   "id": "92e12628",
   "metadata": {},
   "outputs": [],
   "source": [
    "print(\"\\nPermutations of a generated sentence:\")\n",
    "sentence = generate_sentence(cutups).split()\n",
    "for perm in permutations(sentence):\n",
    "    print(' '.join(perm))"
   ]
  }
 ],
 "metadata": {
  "kernelspec": {
   "display_name": "Python 3 (ipykernel)",
   "language": "python",
   "name": "python3"
  },
  "language_info": {
   "codemirror_mode": {
    "name": "ipython",
    "version": 3
   },
   "file_extension": ".py",
   "mimetype": "text/x-python",
   "name": "python",
   "nbconvert_exporter": "python",
   "pygments_lexer": "ipython3",
   "version": "3.11.3"
  }
 },
 "nbformat": 4,
 "nbformat_minor": 5
}
