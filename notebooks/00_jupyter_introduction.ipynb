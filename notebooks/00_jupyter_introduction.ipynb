{
 "cells": [
  {
   "cell_type": "markdown",
   "id": "3baf6e31-0fdf-4646-b5c0-74eb9288ee47",
   "metadata": {},
   "source": [
    "# Jupyter basics"
   ]
  },
  {
   "cell_type": "markdown",
   "id": "1e23a974-a5bd-4479-a3f6-a058880f0cf5",
   "metadata": {},
   "source": [
    "**[Jupyter](https://www.jupyter.org)**\n",
    " is an interactive environment where `executable code(python/R/others)` and `rich text(markdown)` can be contained in a single document. Besides code and documentation/comments, also media and HTML can be embedded."
   ]
  },
  {
   "cell_type": "markdown",
   "id": "d7135409-b715-497c-afcb-08dbfedb6dd4",
   "metadata": {},
   "source": [
    "## Literate Programming\n",
    "Literate Programming was first invented by **Donald Knuth** in 1980’s in an attempt to emphasize communication to other members on your team. As Donald Knuth once wrote:\n",
    "\n",
    "*\"Let us change our traditional attitude to the construction of programs. Instead of imagining that our main task is to instruct a computer what to do, let us concentrate rather on explaining to human beings what we want a computer to do.\"*\n",
    "\n",
    "The effect of this simple shift of emphasis can be so profound as to change one’s whole approach to programming. Under the literate programming paradigm, the central activity of programming becomes that of conveying meaning to other intelligent beings rather than merely convincing the computer to behave in a particular way. It is the difference between performing and exposing a magic trick. - Ross Williams   \n",
    "[literateprogramming.com](http://literateprogramming.com)"
   ]
  },
  {
   "cell_type": "markdown",
   "id": "20c6883a-0e2c-4403-a291-ee7e7179a970",
   "metadata": {},
   "source": [
    "**Donald Knuth** is a major head in computer science. He wrote the multi volumme **The Art of Computer Programming**, *the* reference on computer algorithms. He is also the inventor of the typesetting language **LaTex** that is widely used in scientific publications as it allows the formatting of mathematical equations. Then he is also an organist. Check him [out](https://en.wikipedia.org/wiki/Donald_Knuth)."
   ]
  },
  {
   "cell_type": "markdown",
   "id": "ef4ea920-502d-44c7-8c6f-8cf7bbe55afa",
   "metadata": {},
   "source": [
    "Run me:"
   ]
  },
  {
   "cell_type": "code",
   "execution_count": null,
   "id": "ab63764c-3d91-4b25-ae78-ccc858f0a349",
   "metadata": {},
   "outputs": [],
   "source": [
    "from IPython.display import Image\n",
    "Image(url='https://ieeecs-media.computer.org/wp-media/2018/03/11020301/donald-knuth-e1523412218270.jpg')"
   ]
  },
  {
   "cell_type": "code",
   "execution_count": 1,
   "id": "5a008097-a7f4-4e84-9f96-07e2253e626e",
   "metadata": {},
   "outputs": [
    {
     "name": "stdout",
     "output_type": "stream",
     "text": [
      "86400\n"
     ]
    }
   ],
   "source": [
    "# this is a **code cell**\n",
    "dayseconds = 24 * 60 * 60\n",
    "print(dayseconds)"
   ]
  },
  {
   "cell_type": "markdown",
   "id": "2d4734a2-c431-4f60-a0c2-60527a76da75",
   "metadata": {},
   "source": [
    "Variables that you define in one cell can later be used in other cells:"
   ]
  },
  {
   "cell_type": "code",
   "execution_count": null,
   "id": "0b29c154-0983-4331-9dc8-25cff79e34a8",
   "metadata": {},
   "outputs": [],
   "source": [
    "weekseconds = 7 * dayseconds\n",
    "weekseconds"
   ]
  },
  {
   "cell_type": "markdown",
   "id": "1ed2e5be-5246-4781-8115-94909e96201c",
   "metadata": {},
   "source": [
    "You can use the same commands as in your terminal, simply add a \"!\" at the beginning of your command"
   ]
  },
  {
   "cell_type": "code",
   "execution_count": null,
   "id": "d612b69f-7d2f-4136-978a-44a36119bfb6",
   "metadata": {},
   "outputs": [],
   "source": [
    "!which python"
   ]
  },
  {
   "cell_type": "markdown",
   "id": "7391bd27-9ddb-4488-822e-4e486168345a",
   "metadata": {},
   "source": [
    "### Files"
   ]
  },
  {
   "cell_type": "markdown",
   "id": "927844fa-1be1-4277-af1d-9dca582e7be8",
   "metadata": {},
   "source": [
    "#### Inspect"
   ]
  },
  {
   "cell_type": "markdown",
   "id": "31282ec9-dbfb-4310-b06a-ab78dff78415",
   "metadata": {},
   "source": [
    "You can use `cd` to change directory but if you add a `!` at the beginning of your command, jupyter will only change the directory for the execution of the cell."
   ]
  },
  {
   "cell_type": "code",
   "execution_count": null,
   "id": "4b7553ce-ba07-4503-85a6-4ddfa3903e30",
   "metadata": {},
   "outputs": [],
   "source": [
    "!cd .."
   ]
  },
  {
   "cell_type": "code",
   "execution_count": null,
   "id": "f51a9d18-09ad-48c4-9883-a86f5fab682f",
   "metadata": {},
   "outputs": [],
   "source": [
    "!ls"
   ]
  },
  {
   "cell_type": "markdown",
   "id": "20012281-9979-4158-a0de-35df541bcd57",
   "metadata": {},
   "source": [
    "To change directory permanently you can prefix your command with the magic `%`"
   ]
  },
  {
   "cell_type": "code",
   "execution_count": null,
   "id": "fd59e247-e1cd-4891-884c-0911c2a975ac",
   "metadata": {},
   "outputs": [],
   "source": [
    "%cd .."
   ]
  },
  {
   "cell_type": "code",
   "execution_count": null,
   "id": "8d3a119d-5552-4f6e-b253-cc1882bb646b",
   "metadata": {},
   "outputs": [],
   "source": [
    "!ls"
   ]
  },
  {
   "cell_type": "markdown",
   "id": "8e0a4c1a-88a1-4771-af5d-b09261936472",
   "metadata": {},
   "source": [
    "You can also toggle on jupyter's automagic, so you don't need to prefix commands (this should be the default)."
   ]
  },
  {
   "cell_type": "code",
   "execution_count": null,
   "id": "c7cd1aaa-15d2-4d10-8524-01ee61abbac0",
   "metadata": {},
   "outputs": [],
   "source": [
    "%automagic on"
   ]
  },
  {
   "cell_type": "markdown",
   "id": "18f655e5-bfb7-43b8-9cfc-b5d4fa4e668f",
   "metadata": {},
   "source": [
    "Use `ls` to list all items in your current directory."
   ]
  },
  {
   "cell_type": "code",
   "execution_count": null,
   "id": "90d9149a-4a0f-4180-b084-76a7bf30fa4e",
   "metadata": {},
   "outputs": [],
   "source": [
    "ls"
   ]
  },
  {
   "cell_type": "code",
   "execution_count": null,
   "id": "997a62e5-d7b1-42ab-8cce-687ed61291da",
   "metadata": {},
   "outputs": [],
   "source": [
    "cd BCA"
   ]
  },
  {
   "cell_type": "markdown",
   "id": "f628fdbb-bc88-4d31-a5b2-aeacbfb89e3c",
   "metadata": {},
   "source": [
    "#### Write"
   ]
  },
  {
   "cell_type": "markdown",
   "id": "e7744de4-f2c9-4838-b6be-f7287ad4def4",
   "metadata": {},
   "source": [
    "Create a folder called bootstrap:"
   ]
  },
  {
   "cell_type": "code",
   "execution_count": null,
   "id": "f7e5728e-89e5-449b-9fca-c3a2e032a811",
   "metadata": {},
   "outputs": [],
   "source": [
    "mkdir bootstrap"
   ]
  },
  {
   "cell_type": "markdown",
   "id": "76c2e538-e8ab-4020-98f5-d481bc2cfcc2",
   "metadata": {},
   "source": [
    "Remove the folder using the `-r` flag to also remove its subfolders if there are any"
   ]
  },
  {
   "cell_type": "code",
   "execution_count": null,
   "id": "8091939e-6107-4979-94b7-a6ca636488b0",
   "metadata": {
    "tags": []
   },
   "outputs": [],
   "source": [
    "rm -r bootstrap"
   ]
  },
  {
   "cell_type": "markdown",
   "id": "08a4b8fd-ec34-4a0a-8b13-62698b8a4df1",
   "metadata": {},
   "source": [
    "Create a text file and write with python:"
   ]
  },
  {
   "cell_type": "code",
   "execution_count": null,
   "id": "cd92ef39-0772-4772-ab70-2f666484dbc6",
   "metadata": {},
   "outputs": [],
   "source": [
    "file_name = 'bootstrap.txt'\n",
    "\n",
    "with open(file_name, 'w') as f: \n",
    "    \n",
    "    f.write('hi')"
   ]
  },
  {
   "cell_type": "markdown",
   "id": "f703ffe1-b0b4-46e7-a16c-8349c78c87c2",
   "metadata": {},
   "source": [
    "To pass python variables to your shell simply enclose them in `{}`"
   ]
  },
  {
   "cell_type": "code",
   "execution_count": null,
   "id": "d552015e-cb2d-43b3-957e-a152cc67f874",
   "metadata": {},
   "outputs": [],
   "source": [
    "rm {file_name}"
   ]
  },
  {
   "cell_type": "markdown",
   "id": "25a9d7e8-0fa6-4ece-9fe3-3d8b9dfe5921",
   "metadata": {},
   "source": [
    "While this communication between python and shell works fine, it's recommended to use a python module like [os](https://docs.python.org/3/library/os.html) for clarity."
   ]
  },
  {
   "cell_type": "markdown",
   "id": "8b9a8e0c-a70a-4063-bbbb-256e2834debb",
   "metadata": {},
   "source": [
    "### Github"
   ]
  },
  {
   "cell_type": "markdown",
   "id": "4c19a290-e33e-4a39-9ce4-6a13936ae0b9",
   "metadata": {},
   "source": [
    "#### Clone a git repository"
   ]
  },
  {
   "cell_type": "code",
   "execution_count": null,
   "id": "7ed7b165-6f81-48a6-914f-595c21f9303d",
   "metadata": {},
   "outputs": [],
   "source": [
    "!git clone https://github.com/jakevdp/PythonDataScienceHandbook.git"
   ]
  },
  {
   "cell_type": "code",
   "execution_count": null,
   "id": "61bff5f0-9678-4d6d-902c-f767c03f9938",
   "metadata": {},
   "outputs": [],
   "source": [
    "cd PythonDataScienceHandbook"
   ]
  },
  {
   "cell_type": "code",
   "execution_count": null,
   "id": "e46ee61d-4d09-4faa-bd4d-cc9160de231a",
   "metadata": {},
   "outputs": [],
   "source": [
    "ls notebooks"
   ]
  },
  {
   "cell_type": "code",
   "execution_count": null,
   "id": "2ae6c3ce-be9e-44c9-a27a-deff8db1c6cf",
   "metadata": {},
   "outputs": [],
   "source": [
    "cd .."
   ]
  },
  {
   "cell_type": "markdown",
   "id": "c25e8a96-f3a1-4941-ac3a-7e5225ea3c9d",
   "metadata": {},
   "source": [
    "#### Download a single file"
   ]
  },
  {
   "cell_type": "code",
   "execution_count": null,
   "id": "3ce57788-2352-410a-b7e9-2fad98e0940e",
   "metadata": {},
   "outputs": [],
   "source": [
    "!curl --remote-name --location https://api.github.com/repos/jakevdp/PythonDataScienceHandbook/contents/notebooks/data/california_cities.csv"
   ]
  },
  {
   "cell_type": "markdown",
   "id": "c91749d2-0014-4909-a9da-047023f0d720",
   "metadata": {},
   "source": [
    "### Display"
   ]
  },
  {
   "cell_type": "markdown",
   "id": "e190a820-dd8d-43bb-8f88-476d8622e5e6",
   "metadata": {},
   "source": [
    "#### Embedding a youtube video"
   ]
  },
  {
   "cell_type": "code",
   "execution_count": null,
   "id": "e0f15185-ddcc-4160-98e9-c4fc608560e9",
   "metadata": {},
   "outputs": [],
   "source": [
    "from IPython.display import YouTubeVideo\n",
    "YouTubeVideo('5QEp-oPaQto')"
   ]
  },
  {
   "cell_type": "markdown",
   "id": "3a25c9af-9301-488a-8742-cc0573de4c2c",
   "metadata": {},
   "source": [
    "#### Download and play an audio file"
   ]
  },
  {
   "cell_type": "markdown",
   "id": "e186616e-908b-4603-ae8c-2a5a275314bc",
   "metadata": {},
   "source": [
    "A shorter version of the curl command above:"
   ]
  },
  {
   "cell_type": "code",
   "execution_count": null,
   "id": "4bb888ff-25e3-42a7-98a8-7d618fb6e6b1",
   "metadata": {},
   "outputs": [],
   "source": [
    "!curl -O https://www.ee.columbia.edu/~dpwe/sounds/music/around_the_world-atc.wav"
   ]
  },
  {
   "cell_type": "code",
   "execution_count": null,
   "id": "9a8f1b8a-8895-44e4-aaff-31d96d5eb6ab",
   "metadata": {},
   "outputs": [],
   "source": [
    "from IPython.display import Audio\n",
    "Audio('around_the_world-atc.wav')"
   ]
  },
  {
   "cell_type": "markdown",
   "id": "7b3c79f5-70be-4004-9f63-012cf0c1e418",
   "metadata": {},
   "source": [
    "Make a directory 'audio' and move the file there."
   ]
  },
  {
   "cell_type": "code",
   "execution_count": null,
   "id": "128368bf-33b1-472f-9761-36997945e291",
   "metadata": {},
   "outputs": [],
   "source": [
    "mkdir audio"
   ]
  },
  {
   "cell_type": "code",
   "execution_count": null,
   "id": "b5711522-a859-46ad-b7de-c7b29d6fad56",
   "metadata": {},
   "outputs": [],
   "source": [
    "mv around_the_world-atc.wav audio/around_the_world-atc.wav"
   ]
  },
  {
   "cell_type": "markdown",
   "id": "61d1a8bf-9a4b-4bfd-bbc1-874cbdf569dd",
   "metadata": {},
   "source": [
    "Play audio directly from an URL:"
   ]
  },
  {
   "cell_type": "code",
   "execution_count": null,
   "id": "7805d6e6-56b1-4cdb-83e0-7fcad7a0f74b",
   "metadata": {},
   "outputs": [],
   "source": [
    "Audio(url=\"http://www.w3schools.com/html/horse.ogg\")"
   ]
  },
  {
   "cell_type": "markdown",
   "id": "c6bb5a41-7cc0-4ad8-98f1-5c4caf603102",
   "metadata": {},
   "source": [
    "#### Display an image from URL:"
   ]
  },
  {
   "cell_type": "code",
   "execution_count": 2,
   "id": "fd846c7d-77f9-4cc9-b4f4-0e07f790b755",
   "metadata": {},
   "outputs": [
    {
     "data": {
      "text/html": [
       "<img src=\"https://encrypted-tbn0.gstatic.com/images?q=tbn:ANd9GcT4WB4VL65JoPgMkBmTRIwpinJf6reQNbMhXg&usqp=CAU\"/>"
      ],
      "text/plain": [
       "<IPython.core.display.Image object>"
      ]
     },
     "execution_count": 2,
     "metadata": {},
     "output_type": "execute_result"
    }
   ],
   "source": [
    "from IPython.display import Image\n",
    "Image(url='https://encrypted-tbn0.gstatic.com/images?q=tbn:ANd9GcT4WB4VL65JoPgMkBmTRIwpinJf6reQNbMhXg&usqp=CAU')"
   ]
  },
  {
   "cell_type": "markdown",
   "id": "a692816b-e140-43c9-a9db-34ad71037777",
   "metadata": {},
   "source": [
    "There are many more types of data you can [display](https://ipython.readthedocs.io/en/stable/api/generated/IPython.display.html)"
   ]
  }
 ],
 "metadata": {
  "kernelspec": {
   "display_name": "Python 3 (ipykernel)",
   "language": "python",
   "name": "python3"
  },
  "language_info": {
   "codemirror_mode": {
    "name": "ipython",
    "version": 3
   },
   "file_extension": ".py",
   "mimetype": "text/x-python",
   "name": "python",
   "nbconvert_exporter": "python",
   "pygments_lexer": "ipython3",
   "version": "3.9.13"
  }
 },
 "nbformat": 4,
 "nbformat_minor": 5
}
