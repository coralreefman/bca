{
 "cells": [
  {
   "cell_type": "markdown",
   "id": "3baf6e31-0fdf-4646-b5c0-74eb9288ee47",
   "metadata": {},
   "source": [
    "# Jupyter basics"
   ]
  },
  {
   "cell_type": "markdown",
   "id": "1e23a974-a5bd-4479-a3f6-a058880f0cf5",
   "metadata": {},
   "source": [
    "**[Jupyter](https://www.jupyter.org)**\n",
    " is an interactive environment where `executable code(python/R/others)` and `rich text(markdown)` can be contained in a single document. Besides code and documentation/comments, also media and HTML can be embedded. The name is a portmanteau of the computer languages Julia, Python and R."
   ]
  },
  {
   "cell_type": "markdown",
   "id": "d7135409-b715-497c-afcb-08dbfedb6dd4",
   "metadata": {},
   "source": [
    "## Literate Programming\n",
    "Literate Programming was first invented by **Donald Knuth** in 1980’s in an attempt to emphasize communication to other members on your team. As Donald Knuth once wrote:\n",
    "\n",
    "*\"Let us change our traditional attitude to the construction of programs. Instead of imagining that our main task is to instruct a computer what to do, let us concentrate rather on explaining to human beings what we want a computer to do.\"*\n",
    "\n",
    "The effect of this simple shift of emphasis can be so profound as to change one’s whole approach to programming. Under the literate programming paradigm, the central activity of programming becomes that of conveying meaning to other intelligent beings rather than merely convincing the computer to behave in a particular way. It is the difference between performing and exposing a magic trick. - Ross Williams   \n",
    "[literateprogramming.com](http://literateprogramming.com)"
   ]
  },
  {
   "cell_type": "markdown",
   "id": "20c6883a-0e2c-4403-a291-ee7e7179a970",
   "metadata": {},
   "source": [
    "**Donald Knuth** is a major head in computer science. He wrote the multi volumme **The Art of Computer Programming**, *the* reference on computer algorithms. He is also the inventor of the typesetting language **LaTex** that is widely used in scientific publications as it allows the formatting of mathematical equations. Then he is also an organist. Check him [out](https://en.wikipedia.org/wiki/Donald_Knuth)."
   ]
  },
  {
   "cell_type": "markdown",
   "id": "ef4ea920-502d-44c7-8c6f-8cf7bbe55afa",
   "metadata": {},
   "source": [
    "Run me:"
   ]
  },
  {
   "cell_type": "code",
   "execution_count": 1,
   "id": "ab63764c-3d91-4b25-ae78-ccc858f0a349",
   "metadata": {},
   "outputs": [
    {
     "data": {
      "text/html": [
       "<img src=\"https://ieeecs-media.computer.org/wp-media/2018/03/11020301/donald-knuth-e1523412218270.jpg\"/>"
      ],
      "text/plain": [
       "<IPython.core.display.Image object>"
      ]
     },
     "execution_count": 1,
     "metadata": {},
     "output_type": "execute_result"
    }
   ],
   "source": [
    "from IPython.display import Image\n",
    "Image(url='https://ieeecs-media.computer.org/wp-media/2018/03/11020301/donald-knuth-e1523412218270.jpg')"
   ]
  },
  {
   "cell_type": "code",
   "execution_count": 3,
   "id": "5a008097-a7f4-4e84-9f96-07e2253e626e",
   "metadata": {},
   "outputs": [
    {
     "name": "stdout",
     "output_type": "stream",
     "text": [
      "86400\n"
     ]
    }
   ],
   "source": [
    "# this is a **code cell**\n",
    "dayseconds = 24 * 60 * 60\n",
    "print(dayseconds)"
   ]
  },
  {
   "cell_type": "markdown",
   "id": "2d4734a2-c431-4f60-a0c2-60527a76da75",
   "metadata": {},
   "source": [
    "Variables that you define in one cell can later be used in other cells:"
   ]
  },
  {
   "cell_type": "code",
   "execution_count": 4,
   "id": "0b29c154-0983-4331-9dc8-25cff79e34a8",
   "metadata": {},
   "outputs": [
    {
     "data": {
      "text/plain": [
       "604800"
      ]
     },
     "execution_count": 4,
     "metadata": {},
     "output_type": "execute_result"
    }
   ],
   "source": [
    "weekseconds = 7 * dayseconds\n",
    "weekseconds"
   ]
  },
  {
   "cell_type": "markdown",
   "id": "1ed2e5be-5246-4781-8115-94909e96201c",
   "metadata": {},
   "source": [
    "You can use the same commands as in your terminal, simply add a \"!\" at the beginning of your command"
   ]
  },
  {
   "cell_type": "code",
   "execution_count": 5,
   "id": "d612b69f-7d2f-4136-978a-44a36119bfb6",
   "metadata": {},
   "outputs": [
    {
     "name": "stdout",
     "output_type": "stream",
     "text": [
      "/home/artelse/anaconda3/envs/bca/bin/python\n"
     ]
    }
   ],
   "source": [
    "!which python"
   ]
  },
  {
   "cell_type": "markdown",
   "id": "7391bd27-9ddb-4488-822e-4e486168345a",
   "metadata": {},
   "source": [
    "### Files"
   ]
  },
  {
   "cell_type": "markdown",
   "id": "927844fa-1be1-4277-af1d-9dca582e7be8",
   "metadata": {},
   "source": [
    "#### Inspect"
   ]
  },
  {
   "cell_type": "markdown",
   "id": "31282ec9-dbfb-4310-b06a-ab78dff78415",
   "metadata": {},
   "source": [
    "You can use `cd` to change directory but if you add a `!` at the beginning of your command, jupyter will only change the directory for the execution of the cell."
   ]
  },
  {
   "cell_type": "code",
   "execution_count": null,
   "id": "4b7553ce-ba07-4503-85a6-4ddfa3903e30",
   "metadata": {},
   "outputs": [],
   "source": [
    "!cd .."
   ]
  },
  {
   "cell_type": "code",
   "execution_count": null,
   "id": "f51a9d18-09ad-48c4-9883-a86f5fab682f",
   "metadata": {},
   "outputs": [],
   "source": [
    "!ls"
   ]
  },
  {
   "cell_type": "markdown",
   "id": "20012281-9979-4158-a0de-35df541bcd57",
   "metadata": {},
   "source": [
    "To change directory permanently you can prefix your command with the magic `%`"
   ]
  },
  {
   "cell_type": "code",
   "execution_count": null,
   "id": "fd59e247-e1cd-4891-884c-0911c2a975ac",
   "metadata": {},
   "outputs": [],
   "source": [
    "%cd .."
   ]
  },
  {
   "cell_type": "code",
   "execution_count": null,
   "id": "8d3a119d-5552-4f6e-b253-cc1882bb646b",
   "metadata": {},
   "outputs": [],
   "source": [
    "!ls"
   ]
  },
  {
   "cell_type": "markdown",
   "id": "8e0a4c1a-88a1-4771-af5d-b09261936472",
   "metadata": {},
   "source": [
    "You can also toggle on jupyter's automagic, so you don't need to prefix commands (this should be the default)."
   ]
  },
  {
   "cell_type": "code",
   "execution_count": null,
   "id": "c7cd1aaa-15d2-4d10-8524-01ee61abbac0",
   "metadata": {},
   "outputs": [],
   "source": [
    "%automagic on"
   ]
  },
  {
   "cell_type": "markdown",
   "id": "18f655e5-bfb7-43b8-9cfc-b5d4fa4e668f",
   "metadata": {},
   "source": [
    "Use `ls` to list all items in your current directory."
   ]
  },
  {
   "cell_type": "code",
   "execution_count": null,
   "id": "90d9149a-4a0f-4180-b084-76a7bf30fa4e",
   "metadata": {},
   "outputs": [],
   "source": [
    "ls"
   ]
  },
  {
   "cell_type": "code",
   "execution_count": null,
   "id": "997a62e5-d7b1-42ab-8cce-687ed61291da",
   "metadata": {},
   "outputs": [],
   "source": [
    "cd BCA"
   ]
  },
  {
   "cell_type": "markdown",
   "id": "f628fdbb-bc88-4d31-a5b2-aeacbfb89e3c",
   "metadata": {},
   "source": [
    "#### Write"
   ]
  },
  {
   "cell_type": "markdown",
   "id": "e7744de4-f2c9-4838-b6be-f7287ad4def4",
   "metadata": {},
   "source": [
    "Create a folder called bootstrap:"
   ]
  },
  {
   "cell_type": "code",
   "execution_count": null,
   "id": "f7e5728e-89e5-449b-9fca-c3a2e032a811",
   "metadata": {},
   "outputs": [],
   "source": [
    "mkdir bootstrap"
   ]
  },
  {
   "cell_type": "markdown",
   "id": "76c2e538-e8ab-4020-98f5-d481bc2cfcc2",
   "metadata": {},
   "source": [
    "Remove the folder using the `-r` flag to also remove its subfolders if there are any"
   ]
  },
  {
   "cell_type": "code",
   "execution_count": null,
   "id": "8091939e-6107-4979-94b7-a6ca636488b0",
   "metadata": {
    "tags": []
   },
   "outputs": [],
   "source": [
    "rm -r bootstrap"
   ]
  },
  {
   "cell_type": "markdown",
   "id": "08a4b8fd-ec34-4a0a-8b13-62698b8a4df1",
   "metadata": {},
   "source": [
    "Create a text file and write with python:"
   ]
  },
  {
   "cell_type": "code",
   "execution_count": null,
   "id": "cd92ef39-0772-4772-ab70-2f666484dbc6",
   "metadata": {},
   "outputs": [],
   "source": [
    "file_name = 'bootstrap.txt'\n",
    "\n",
    "with open(file_name, 'w') as f: \n",
    "    \n",
    "    f.write('hi')"
   ]
  },
  {
   "cell_type": "markdown",
   "id": "f703ffe1-b0b4-46e7-a16c-8349c78c87c2",
   "metadata": {},
   "source": [
    "To pass python variables to your shell simply enclose them in `{}`"
   ]
  },
  {
   "cell_type": "code",
   "execution_count": null,
   "id": "d552015e-cb2d-43b3-957e-a152cc67f874",
   "metadata": {},
   "outputs": [],
   "source": [
    "rm {file_name}"
   ]
  },
  {
   "cell_type": "markdown",
   "id": "25a9d7e8-0fa6-4ece-9fe3-3d8b9dfe5921",
   "metadata": {},
   "source": [
    "While this communication between python and shell works fine, it's recommended to use a python module like [os](https://docs.python.org/3/library/os.html) for clarity."
   ]
  },
  {
   "cell_type": "markdown",
   "id": "8b9a8e0c-a70a-4063-bbbb-256e2834debb",
   "metadata": {},
   "source": [
    "### Github"
   ]
  },
  {
   "cell_type": "markdown",
   "id": "4c19a290-e33e-4a39-9ce4-6a13936ae0b9",
   "metadata": {},
   "source": [
    "#### Clone a git repository"
   ]
  },
  {
   "cell_type": "code",
   "execution_count": null,
   "id": "7ed7b165-6f81-48a6-914f-595c21f9303d",
   "metadata": {},
   "outputs": [],
   "source": [
    "!git clone https://github.com/jakevdp/PythonDataScienceHandbook.git"
   ]
  },
  {
   "cell_type": "code",
   "execution_count": null,
   "id": "61bff5f0-9678-4d6d-902c-f767c03f9938",
   "metadata": {},
   "outputs": [],
   "source": [
    "cd PythonDataScienceHandbook"
   ]
  },
  {
   "cell_type": "code",
   "execution_count": null,
   "id": "e46ee61d-4d09-4faa-bd4d-cc9160de231a",
   "metadata": {},
   "outputs": [],
   "source": [
    "ls notebooks"
   ]
  },
  {
   "cell_type": "code",
   "execution_count": null,
   "id": "2ae6c3ce-be9e-44c9-a27a-deff8db1c6cf",
   "metadata": {},
   "outputs": [],
   "source": [
    "cd .."
   ]
  },
  {
   "cell_type": "markdown",
   "id": "c25e8a96-f3a1-4941-ac3a-7e5225ea3c9d",
   "metadata": {},
   "source": [
    "#### Download a single file"
   ]
  },
  {
   "cell_type": "code",
   "execution_count": null,
   "id": "3ce57788-2352-410a-b7e9-2fad98e0940e",
   "metadata": {},
   "outputs": [],
   "source": [
    "!curl --remote-name --location https://api.github.com/repos/jakevdp/PythonDataScienceHandbook/contents/notebooks/data/california_cities.csv"
   ]
  },
  {
   "cell_type": "markdown",
   "id": "c91749d2-0014-4909-a9da-047023f0d720",
   "metadata": {},
   "source": [
    "### Display"
   ]
  },
  {
   "cell_type": "markdown",
   "id": "e190a820-dd8d-43bb-8f88-476d8622e5e6",
   "metadata": {},
   "source": [
    "#### Embedding a youtube video"
   ]
  },
  {
   "cell_type": "code",
   "execution_count": 3,
   "id": "e0f15185-ddcc-4160-98e9-c4fc608560e9",
   "metadata": {},
   "outputs": [
    {
     "data": {
      "image/jpeg": "[encoded data removed]",
      "text/html": [
       "\n",
       "        <iframe\n",
       "            width=\"400\"\n",
       "            height=\"300\"\n",
       "            src=\"https://www.youtube.com/embed/5QEp-oPaQto\"\n",
       "            frameborder=\"0\"\n",
       "            allowfullscreen\n",
       "            \n",
       "        ></iframe>\n",
       "        "
      ],
      "text/plain": [
       "<IPython.lib.display.YouTubeVideo at 0x7f43403888e0>"
      ]
     },
     "execution_count": 3,
     "metadata": {},
     "output_type": "execute_result"
    }
   ],
   "source": [
    "from IPython.display import YouTubeVideo\n",
    "YouTubeVideo('5QEp-oPaQto')"
   ]
  },
  {
   "cell_type": "markdown",
   "id": "3a25c9af-9301-488a-8742-cc0573de4c2c",
   "metadata": {},
   "source": [
    "#### Download and play an audio file"
   ]
  },
  {
   "cell_type": "markdown",
   "id": "e186616e-908b-4603-ae8c-2a5a275314bc",
   "metadata": {},
   "source": [
    "A shorter version of the curl command above:"
   ]
  },
  {
   "cell_type": "code",
   "execution_count": 10,
   "id": "4bb888ff-25e3-42a7-98a8-7d618fb6e6b1",
   "metadata": {},
   "outputs": [
    {
     "name": "stdout",
     "output_type": "stream",
     "text": [
      "  % Total    % Received % Xferd  Average Speed   Time    Time     Time  Current\n",
      "                                 Dload  Upload   Total   Spent    Left  Speed\n",
      "100  9152  100  9152    0     0  53930      0 --:--:-- --:--:-- --:--:-- 54153\n"
     ]
    }
   ],
   "source": [
    "!curl -O https://www.ee.columbia.edu/~dpwe/sounds/music/around_the_world-atc.wav"
   ]
  },
  {
   "cell_type": "code",
   "execution_count": 8,
   "id": "9a8f1b8a-8895-44e4-aaff-31d96d5eb6ab",
   "metadata": {
    "scrolled": true
   },
   "outputs": [
    {
     "data": {
      "text/html": [
       "\n",
       "                <audio  controls=\"controls\" >\n",
       "                    <source src=\"data:audio/x-wav;base64,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\" type=\"audio/x-wav\" />\n",
       "                    Your browser does not support the audio element.\n",
       "                </audio>\n",
       "              "
      ],
      "text/plain": [
       "<IPython.lib.display.Audio object>"
      ]
     },
     "execution_count": 8,
     "metadata": {},
     "output_type": "execute_result"
    }
   ],
   "source": [
    "from IPython.display import Audio\n",
    "Audio('around_the_world-atc.wav')"
   ]
  },
  {
   "cell_type": "markdown",
   "id": "7b3c79f5-70be-4004-9f63-012cf0c1e418",
   "metadata": {},
   "source": [
    "Make a directory 'audio' and move the file there."
   ]
  },
  {
   "cell_type": "code",
   "execution_count": null,
   "id": "128368bf-33b1-472f-9761-36997945e291",
   "metadata": {},
   "outputs": [],
   "source": [
    "mkdir audio"
   ]
  },
  {
   "cell_type": "code",
   "execution_count": null,
   "id": "b5711522-a859-46ad-b7de-c7b29d6fad56",
   "metadata": {},
   "outputs": [],
   "source": [
    "mv around_the_world-atc.wav audio/around_the_world-atc.wav"
   ]
  },
  {
   "cell_type": "markdown",
   "id": "61d1a8bf-9a4b-4bfd-bbc1-874cbdf569dd",
   "metadata": {},
   "source": [
    "Play audio directly from an URL:"
   ]
  },
  {
   "cell_type": "code",
   "execution_count": 7,
   "id": "7805d6e6-56b1-4cdb-83e0-7fcad7a0f74b",
   "metadata": {},
   "outputs": [
    {
     "data": {
      "text/html": [
       "\n",
       "                <audio  controls=\"controls\" >\n",
       "                    <source src=\"http://www.w3schools.com/html/horse.ogg\" type=\"audio/ogg\" />\n",
       "                    Your browser does not support the audio element.\n",
       "                </audio>\n",
       "              "
      ],
      "text/plain": [
       "<IPython.lib.display.Audio object>"
      ]
     },
     "execution_count": 7,
     "metadata": {},
     "output_type": "execute_result"
    }
   ],
   "source": [
    "Audio(url=\"http://www.w3schools.com/html/horse.ogg\")"
   ]
  },
  {
   "cell_type": "markdown",
   "id": "c6bb5a41-7cc0-4ad8-98f1-5c4caf603102",
   "metadata": {},
   "source": [
    "#### Display an image from URL:"
   ]
  },
  {
   "cell_type": "code",
   "execution_count": 2,
   "id": "fd846c7d-77f9-4cc9-b4f4-0e07f790b755",
   "metadata": {},
   "outputs": [
    {
     "data": {
      "text/html": [
       "<img src=\"https://encrypted-tbn0.gstatic.com/images?q=tbn:ANd9GcT4WB4VL65JoPgMkBmTRIwpinJf6reQNbMhXg&usqp=CAU\"/>"
      ],
      "text/plain": [
       "<IPython.core.display.Image object>"
      ]
     },
     "execution_count": 2,
     "metadata": {},
     "output_type": "execute_result"
    }
   ],
   "source": [
    "from IPython.display import Image\n",
    "Image(url='https://encrypted-tbn0.gstatic.com/images?q=tbn:ANd9GcT4WB4VL65JoPgMkBmTRIwpinJf6reQNbMhXg&usqp=CAU')"
   ]
  },
  {
   "cell_type": "markdown",
   "id": "a692816b-e140-43c9-a9db-34ad71037777",
   "metadata": {},
   "source": [
    "There are many more types of data you can [display](https://ipython.readthedocs.io/en/stable/api/generated/IPython.display.html)"
   ]
  }
 ],
 "metadata": {
  "kernelspec": {
   "display_name": "Python 3 (ipykernel)",
   "language": "python",
   "name": "python3"
  },
  "language_info": {
   "codemirror_mode": {
    "name": "ipython",
    "version": 3
   },
   "file_extension": ".py",
   "mimetype": "text/x-python",
   "name": "python",
   "nbconvert_exporter": "python",
   "pygments_lexer": "ipython3",
   "version": "3.10.12"
  }
 },
 "nbformat": 4,
 "nbformat_minor": 5
}
