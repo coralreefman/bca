{
 "cells": [
  {
   "cell_type": "markdown",
   "id": "3baf6e31-0fdf-4646-b5c0-74eb9288ee47",
   "metadata": {},
   "source": [
    "# Jupyter basics"
   ]
  },
  {
   "cell_type": "markdown",
   "id": "1e23a974-a5bd-4479-a3f6-a058880f0cf5",
   "metadata": {},
   "source": [
    "**[Jupyter](https://www.jupyter.org)**\n",
    " is an interactive environment where `executable code(python/R/others)` and `rich text(markdown)` can be contained in a single document. Besides code and documentation/comments, also media and HTML can be embedded. The name is a portmanteau of the computer languages Julia, Python and R."
   ]
  },
  {
   "cell_type": "markdown",
   "id": "d7135409-b715-497c-afcb-08dbfedb6dd4",
   "metadata": {},
   "source": [
    "## Literate Programming\n",
    "Literate Programming was first invented by **Donald Knuth** in 1980’s in an attempt to emphasize communication to other members on your team. As Donald Knuth once wrote:\n",
    "\n",
    "*\"Let us change our traditional attitude to the construction of programs. Instead of imagining that our main task is to instruct a computer what to do, let us concentrate rather on explaining to human beings what we want a computer to do.\"*\n",
    "\n",
    "The effect of this simple shift of emphasis can be so profound as to change one’s whole approach to programming. Under the literate programming paradigm, the central activity of programming becomes that of conveying meaning to other intelligent beings rather than merely convincing the computer to behave in a particular way. It is the difference between performing and exposing a magic trick. - Ross Williams   \n",
    "[literateprogramming.com](http://literateprogramming.com)"
   ]
  },
  {
   "cell_type": "markdown",
   "id": "20c6883a-0e2c-4403-a291-ee7e7179a970",
   "metadata": {},
   "source": [
    "**Donald Knuth** is a major head in computer science. He wrote the multi volumme **The Art of Computer Programming**, *the* reference on computer algorithms. He is also the inventor of the typesetting language **LaTex** that is widely used in scientific publications as it allows the formatting of mathematical equations. Then he is also an organist. Check him [out](https://en.wikipedia.org/wiki/Donald_Knuth)."
   ]
  },
  {
   "cell_type": "markdown",
   "id": "bd6e89ae",
   "metadata": {},
   "source": [
    "Now that we've discussed the concept of literate programming and its originator, let's dive into some practical examples using Jupyter notebooks. We'll start by displaying an image of Donald Knuth himself, demonstrating how Jupyter allows us to seamlessly blend code, text, and media."
   ]
  },
  {
   "cell_type": "markdown",
   "id": "ef4ea920-502d-44c7-8c6f-8cf7bbe55afa",
   "metadata": {},
   "source": [
    "Run me:"
   ]
  },
  {
   "cell_type": "code",
   "execution_count": 11,
   "id": "e293a107",
   "metadata": {},
   "outputs": [],
   "source": [
    "from IPython.display import Image\n",
    "# Import the Image class from IPython.display to show images in the notebook"
   ]
  },
  {
   "cell_type": "code",
   "execution_count": 12,
   "id": "ab63764c-3d91-4b25-ae78-ccc858f0a349",
   "metadata": {},
   "outputs": [
    {
     "data": {
      "text/html": [
       "<img src=\"https://ieeecs-media.computer.org/wp-media/2018/03/11020301/donald-knuth-e1523412218270.jpg\"/>"
      ],
      "text/plain": [
       "<IPython.core.display.Image object>"
      ]
     },
     "execution_count": 12,
     "metadata": {},
     "output_type": "execute_result"
    }
   ],
   "source": [
    "Image(url='https://ieeecs-media.computer.org/wp-media/2018/03/11020301/donald-knuth-e1523412218270.jpg')\n",
    "# Display an image of Donald Knuth from a URL"
   ]
  },
  {
   "cell_type": "code",
   "execution_count": 15,
   "id": "5a008097-a7f4-4e84-9f96-07e2253e626e",
   "metadata": {},
   "outputs": [
    {
     "name": "stdout",
     "output_type": "stream",
     "text": [
      "86400\n"
     ]
    }
   ],
   "source": [
    "# this is a ** Pythoncode cell**\n",
    "dayseconds = 24 * 60 * 60 # Calculate seconds in a day\n",
    "print(dayseconds) # Print the result"
   ]
  },
  {
   "cell_type": "code",
   "execution_count": 16,
   "id": "fd63ab8a-48cf-4c4a-8482-fdde455dcfab",
   "metadata": {},
   "outputs": [
    {
     "name": "stdout",
     "output_type": "stream",
     "text": [
      "hello\n"
     ]
    }
   ],
   "source": [
    "print(\"hello\")"
   ]
  },
  {
   "cell_type": "code",
   "execution_count": 19,
   "id": "fd8658d3-34eb-4c9b-b2b6-c718d12ff179",
   "metadata": {},
   "outputs": [
    {
     "name": "stdout",
     "output_type": "stream",
     "text": [
      "/Users/c/Desktop/Code/bca/notebooks\n"
     ]
    }
   ],
   "source": [
    "!pwd"
   ]
  },
  {
   "cell_type": "code",
   "execution_count": 25,
   "id": "e44d6853-bf19-4bc2-b582-5969bf1dab3e",
   "metadata": {},
   "outputs": [
    {
     "name": "stdout",
     "output_type": "stream",
     "text": [
      "/Users/c/Desktop/Code\n"
     ]
    }
   ],
   "source": [
    "%cd .."
   ]
  },
  {
   "cell_type": "markdown",
   "id": "2d4734a2-c431-4f60-a0c2-60527a76da75",
   "metadata": {},
   "source": [
    "Variables that you define in one cell can later be used in other cells:"
   ]
  },
  {
   "cell_type": "code",
   "execution_count": null,
   "id": "0b29c154-0983-4331-9dc8-25cff79e34a8",
   "metadata": {},
   "outputs": [],
   "source": [
    "# Python variables persist across cells\n",
    "weekseconds = 7 * dayseconds # Calculate seconds in a week using the previously defined variable\n",
    "weekseconds # Print the result"
   ]
  },
  {
   "cell_type": "markdown",
   "id": "1ed2e5be-5246-4781-8115-94909e96201c",
   "metadata": {},
   "source": [
    "Now, let's see how we can use terminal commands in Jupyter.  \n",
    "You can use the same commands as in your terminal, simply add a \"!\" at the beginning of your command."
   ]
  },
  {
   "cell_type": "code",
   "execution_count": 26,
   "id": "d612b69f-7d2f-4136-978a-44a36119bfb6",
   "metadata": {},
   "outputs": [
    {
     "name": "stdout",
     "output_type": "stream",
     "text": [
      "/Users/c/anaconda3/envs/bca/bin/python\n"
     ]
    }
   ],
   "source": [
    "!which python\n",
    "# This cell executes a terminal command to show the path of the Python interpreter"
   ]
  },
  {
   "cell_type": "markdown",
   "id": "7391bd27-9ddb-4488-822e-4e486168345a",
   "metadata": {},
   "source": [
    "### Files"
   ]
  },
  {
   "cell_type": "markdown",
   "id": "21b8facb",
   "metadata": {},
   "source": [
    "Let's explore file operations using both terminal commands and Python."
   ]
  },
  {
   "cell_type": "markdown",
   "id": "927844fa-1be1-4277-af1d-9dca582e7be8",
   "metadata": {},
   "source": [
    "#### Inspect"
   ]
  },
  {
   "cell_type": "markdown",
   "id": "31282ec9-dbfb-4310-b06a-ab78dff78415",
   "metadata": {},
   "source": [
    "You can use `cd` to change directory but if you add a `!` at the beginning of your command, jupyter will only change the directory for the execution of the cell."
   ]
  },
  {
   "cell_type": "code",
   "execution_count": null,
   "id": "4b7553ce-ba07-4503-85a6-4ddfa3903e30",
   "metadata": {},
   "outputs": [],
   "source": [
    "!cd .."
   ]
  },
  {
   "cell_type": "markdown",
   "id": "5f1020cd",
   "metadata": {},
   "source": [
    "List contents of the directory using a terminal command."
   ]
  },
  {
   "cell_type": "code",
   "execution_count": null,
   "id": "f51a9d18-09ad-48c4-9883-a86f5fab682f",
   "metadata": {},
   "outputs": [],
   "source": [
    "!ls"
   ]
  },
  {
   "cell_type": "markdown",
   "id": "20012281-9979-4158-a0de-35df541bcd57",
   "metadata": {},
   "source": [
    "To change directory permanently you can prefix your command with the magic `%`"
   ]
  },
  {
   "cell_type": "code",
   "execution_count": null,
   "id": "fd59e247-e1cd-4891-884c-0911c2a975ac",
   "metadata": {},
   "outputs": [],
   "source": [
    "%cd .."
   ]
  },
  {
   "cell_type": "markdown",
   "id": "2db9449a",
   "metadata": {},
   "source": [
    "List contents again to confirm the change."
   ]
  },
  {
   "cell_type": "code",
   "execution_count": null,
   "id": "8d3a119d-5552-4f6e-b253-cc1882bb646b",
   "metadata": {},
   "outputs": [],
   "source": [
    "!ls"
   ]
  },
  {
   "cell_type": "markdown",
   "id": "8e0a4c1a-88a1-4771-af5d-b09261936472",
   "metadata": {},
   "source": [
    "You can also toggle on jupyter's automagic, so you don't need to prefix commands (this should be the default)."
   ]
  },
  {
   "cell_type": "code",
   "execution_count": 27,
   "id": "c7cd1aaa-15d2-4d10-8524-01ee61abbac0",
   "metadata": {},
   "outputs": [
    {
     "name": "stdout",
     "output_type": "stream",
     "text": [
      "\n",
      "Automagic is ON, % prefix IS NOT needed for line magics.\n"
     ]
    }
   ],
   "source": [
    "%automagic on"
   ]
  },
  {
   "cell_type": "markdown",
   "id": "18f655e5-bfb7-43b8-9cfc-b5d4fa4e668f",
   "metadata": {},
   "source": [
    "Use `ls` to list all items in your current directory."
   ]
  },
  {
   "cell_type": "code",
   "execution_count": 28,
   "id": "90d9149a-4a0f-4180-b084-76a7bf30fa4e",
   "metadata": {},
   "outputs": [
    {
     "name": "stdout",
     "output_type": "stream",
     "text": [
      "\u001b[1m\u001b[36mbca\u001b[m\u001b[m/\n"
     ]
    }
   ],
   "source": [
    "ls"
   ]
  },
  {
   "cell_type": "code",
   "execution_count": 31,
   "id": "997a62e5-d7b1-42ab-8cce-687ed61291da",
   "metadata": {},
   "outputs": [
    {
     "name": "stdout",
     "output_type": "stream",
     "text": [
      "/Users/c/Desktop/Code/bca\n"
     ]
    }
   ],
   "source": [
    "cd bca"
   ]
  },
  {
   "cell_type": "markdown",
   "id": "f628fdbb-bc88-4d31-a5b2-aeacbfb89e3c",
   "metadata": {},
   "source": [
    "#### Write"
   ]
  },
  {
   "cell_type": "markdown",
   "id": "e7744de4-f2c9-4838-b6be-f7287ad4def4",
   "metadata": {},
   "source": [
    "Create a folder called bootstrap:"
   ]
  },
  {
   "cell_type": "code",
   "execution_count": 32,
   "id": "f7e5728e-89e5-449b-9fca-c3a2e032a811",
   "metadata": {},
   "outputs": [],
   "source": [
    "mkdir bootstrap"
   ]
  },
  {
   "cell_type": "markdown",
   "id": "76c2e538-e8ab-4020-98f5-d481bc2cfcc2",
   "metadata": {},
   "source": [
    "Remove the folder using the `-r` flag to also remove its subfolders if there are any"
   ]
  },
  {
   "cell_type": "code",
   "execution_count": 33,
   "id": "8091939e-6107-4979-94b7-a6ca636488b0",
   "metadata": {
    "tags": []
   },
   "outputs": [],
   "source": [
    "rm -r bootstrap"
   ]
  },
  {
   "cell_type": "markdown",
   "id": "08a4b8fd-ec34-4a0a-8b13-62698b8a4df1",
   "metadata": {},
   "source": [
    "Create a text file and write with python:"
   ]
  },
  {
   "cell_type": "code",
   "execution_count": null,
   "id": "cd92ef39-0772-4772-ab70-2f666484dbc6",
   "metadata": {},
   "outputs": [],
   "source": [
    "file_name = 'bootstrap.txt'\n",
    "\n",
    "with open(file_name, 'w') as f: \n",
    "    \n",
    "    f.write(\"hi y'all\")"
   ]
  },
  {
   "cell_type": "markdown",
   "id": "f703ffe1-b0b4-46e7-a16c-8349c78c87c2",
   "metadata": {},
   "source": [
    "To pass python variables to your shell simply enclose them in `{}`"
   ]
  },
  {
   "cell_type": "code",
   "execution_count": null,
   "id": "d552015e-cb2d-43b3-957e-a152cc67f874",
   "metadata": {},
   "outputs": [],
   "source": [
    "rm {file_name}"
   ]
  },
  {
   "cell_type": "markdown",
   "id": "25a9d7e8-0fa6-4ece-9fe3-3d8b9dfe5921",
   "metadata": {},
   "source": [
    "While this communication between python and shell works fine, it's recommended to use a python module like [os](https://docs.python.org/3/library/os.html) for clarity."
   ]
  },
  {
   "cell_type": "markdown",
   "id": "8b9a8e0c-a70a-4063-bbbb-256e2834debb",
   "metadata": {},
   "source": [
    "### Github"
   ]
  },
  {
   "cell_type": "markdown",
   "id": "4c19a290-e33e-4a39-9ce4-6a13936ae0b9",
   "metadata": {},
   "source": [
    "#### Clone a git repository"
   ]
  },
  {
   "cell_type": "code",
   "execution_count": null,
   "id": "7ed7b165-6f81-48a6-914f-595c21f9303d",
   "metadata": {},
   "outputs": [],
   "source": [
    "!git clone https://github.com/jakevdp/PythonDataScienceHandbook.git"
   ]
  },
  {
   "cell_type": "code",
   "execution_count": null,
   "id": "61bff5f0-9678-4d6d-902c-f767c03f9938",
   "metadata": {},
   "outputs": [],
   "source": [
    "cd PythonDataScienceHandbook"
   ]
  },
  {
   "cell_type": "code",
   "execution_count": null,
   "id": "e46ee61d-4d09-4faa-bd4d-cc9160de231a",
   "metadata": {},
   "outputs": [],
   "source": [
    "ls notebooks"
   ]
  },
  {
   "cell_type": "code",
   "execution_count": null,
   "id": "2ae6c3ce-be9e-44c9-a27a-deff8db1c6cf",
   "metadata": {},
   "outputs": [],
   "source": [
    "cd .."
   ]
  },
  {
   "cell_type": "markdown",
   "id": "c25e8a96-f3a1-4941-ac3a-7e5225ea3c9d",
   "metadata": {},
   "source": [
    "#### Download a single file"
   ]
  },
  {
   "cell_type": "markdown",
   "id": "6d1b757c",
   "metadata": {},
   "source": [
    "Here we're using curl to download a text file containing the Zen of Python.  \n",
    "The -o flag specifies the output filename, and the URL points to the raw content on GitHub."
   ]
  },
  {
   "cell_type": "code",
   "execution_count": null,
   "id": "3ce57788-2352-410a-b7e9-2fad98e0940e",
   "metadata": {},
   "outputs": [],
   "source": [
    "!curl -o zen_of_python.txt https://gist.githubusercontent.com/baccenfutter/61c5eb9c482df4200611/raw/5acfab2350116f076f47b44cb991950b3e1db7c8/zen-of-python.txt"
   ]
  },
  {
   "cell_type": "markdown",
   "id": "a691d6ad",
   "metadata": {},
   "source": [
    "Now let's display the contents of the downloaded file  \n",
    "The 'cat' command is used to print the contents of a file to the console"
   ]
  },
  {
   "cell_type": "code",
   "execution_count": null,
   "id": "70e36f71",
   "metadata": {},
   "outputs": [],
   "source": [
    "!cat zen_of_python.txt"
   ]
  },
  {
   "cell_type": "markdown",
   "id": "2cfaddae",
   "metadata": {},
   "source": [
    "Fun fact: Python has a built-in way to show the Zen of Python.  \n",
    "Just run this and see what happens:"
   ]
  },
  {
   "cell_type": "code",
   "execution_count": 46,
   "id": "189b5a01",
   "metadata": {},
   "outputs": [
    {
     "name": "stdout",
     "output_type": "stream",
     "text": [
      "The Zen of Python, by Tim Peters\n",
      "\n",
      "Beautiful is better than ugly.\n",
      "Explicit is better than implicit.\n",
      "Simple is better than complex.\n",
      "Complex is better than complicated.\n",
      "Flat is better than nested.\n",
      "Sparse is better than dense.\n",
      "Readability counts.\n",
      "Special cases aren't special enough to break the rules.\n",
      "Although practicality beats purity.\n",
      "Errors should never pass silently.\n",
      "Unless explicitly silenced.\n",
      "In the face of ambiguity, refuse the temptation to guess.\n",
      "There should be one-- and preferably only one --obvious way to do it.\n",
      "Although that way may not be obvious at first unless you're Dutch.\n",
      "Now is better than never.\n",
      "Although never is often better than *right* now.\n",
      "If the implementation is hard to explain, it's a bad idea.\n",
      "If the implementation is easy to explain, it may be a good idea.\n",
      "Namespaces are one honking great idea -- let's do more of those!\n"
     ]
    }
   ],
   "source": [
    "import this"
   ]
  },
  {
   "cell_type": "markdown",
   "id": "c91749d2-0014-4909-a9da-047023f0d720",
   "metadata": {},
   "source": [
    "### Display"
   ]
  },
  {
   "cell_type": "markdown",
   "id": "e190a820-dd8d-43bb-8f88-476d8622e5e6",
   "metadata": {},
   "source": [
    "#### Embedding a youtube video"
   ]
  },
  {
   "cell_type": "code",
   "execution_count": null,
   "id": "66f0eb49",
   "metadata": {},
   "outputs": [],
   "source": [
    "from IPython.display import YouTubeVideo\n",
    "# Import YouTubeVideo class to embed YouTube videos in the notebook"
   ]
  },
  {
   "cell_type": "code",
   "execution_count": null,
   "id": "e0f15185-ddcc-4160-98e9-c4fc608560e9",
   "metadata": {},
   "outputs": [],
   "source": [
    "YouTubeVideo('5QEp-oPaQto')\n",
    "# Embed a YouTube video using its ID"
   ]
  },
  {
   "cell_type": "markdown",
   "id": "3a25c9af-9301-488a-8742-cc0573de4c2c",
   "metadata": {},
   "source": [
    "#### Download and play an audio file"
   ]
  },
  {
   "cell_type": "markdown",
   "id": "e186616e-908b-4603-ae8c-2a5a275314bc",
   "metadata": {},
   "source": [
    "A shorter version of the curl command above:"
   ]
  },
  {
   "cell_type": "code",
   "execution_count": 35,
   "id": "4bb888ff-25e3-42a7-98a8-7d618fb6e6b1",
   "metadata": {},
   "outputs": [
    {
     "name": "stdout",
     "output_type": "stream",
     "text": [
      "  % Total    % Received % Xferd  Average Speed   Time    Time     Time  Current\n",
      "                                 Dload  Upload   Total   Spent    Left  Speed\n",
      "100  8877  100  8877    0     0  34233      0 --:--:-- --:--:-- --:--:-- 34274\n"
     ]
    }
   ],
   "source": [
    "!curl -O https://www.ee.columbia.edu/~dpwe/sounds/music/around_the_world-atc.wav"
   ]
  },
  {
   "cell_type": "code",
   "execution_count": 42,
   "id": "cad33db5",
   "metadata": {},
   "outputs": [],
   "source": [
    "from IPython.display import Audio\n",
    "# Import Audio class to play audio files in the notebook"
   ]
  },
  {
   "cell_type": "code",
   "execution_count": 44,
   "id": "211d0f94-dce0-4075-b830-a7e873ec433f",
   "metadata": {},
   "outputs": [
    {
     "name": "stdout",
     "output_type": "stream",
     "text": [
      "around_the_world-atc.wav\n"
     ]
    }
   ],
   "source": [
    "!ls audio"
   ]
  },
  {
   "cell_type": "code",
   "execution_count": 45,
   "id": "9a8f1b8a-8895-44e4-aaff-31d96d5eb6ab",
   "metadata": {
    "scrolled": true
   },
   "outputs": [
    {
     "data": {
      "text/html": [
       "\n",
       "                <audio  controls=\"controls\" >\n",
       "                    <source src=\"data:audio/x-wav;base64,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\" type=\"audio/x-wav\" />\n",
       "                    Your browser does not support the audio element.\n",
       "                </audio>\n",
       "              "
      ],
      "text/plain": [
       "<IPython.lib.display.Audio object>"
      ]
     },
     "execution_count": 45,
     "metadata": {},
     "output_type": "execute_result"
    }
   ],
   "source": [
    "Audio('audio/around_the_world-atc.wav')\n",
    "# Play the downloaded audio file"
   ]
  },
  {
   "cell_type": "markdown",
   "id": "7b3c79f5-70be-4004-9f63-012cf0c1e418",
   "metadata": {},
   "source": [
    "Make a directory 'audio' and move the file there."
   ]
  },
  {
   "cell_type": "code",
   "execution_count": 38,
   "id": "128368bf-33b1-472f-9761-36997945e291",
   "metadata": {},
   "outputs": [],
   "source": [
    "mkdir audio"
   ]
  },
  {
   "cell_type": "code",
   "execution_count": 41,
   "id": "b5711522-a859-46ad-b7de-c7b29d6fad56",
   "metadata": {},
   "outputs": [
    {
     "name": "stdout",
     "output_type": "stream",
     "text": [
      "mv: around_the_world-atc.wav: No such file or directory\n"
     ]
    }
   ],
   "source": [
    "mv around_the_world-atc.wav audio/around_the_world-atc.wav"
   ]
  },
  {
   "cell_type": "markdown",
   "id": "61d1a8bf-9a4b-4bfd-bbc1-874cbdf569dd",
   "metadata": {},
   "source": [
    "Play audio directly from an URL:"
   ]
  },
  {
   "cell_type": "code",
   "execution_count": 40,
   "id": "7805d6e6-56b1-4cdb-83e0-7fcad7a0f74b",
   "metadata": {},
   "outputs": [
    {
     "data": {
      "text/html": [
       "\n",
       "                <audio  controls=\"controls\" >\n",
       "                    <source src=\"http://www.w3schools.com/html/horse.ogg\" type=\"audio/ogg\" />\n",
       "                    Your browser does not support the audio element.\n",
       "                </audio>\n",
       "              "
      ],
      "text/plain": [
       "<IPython.lib.display.Audio object>"
      ]
     },
     "execution_count": 40,
     "metadata": {},
     "output_type": "execute_result"
    }
   ],
   "source": [
    "Audio(url=\"http://www.w3schools.com/html/horse.ogg\")"
   ]
  },
  {
   "cell_type": "markdown",
   "id": "c6bb5a41-7cc0-4ad8-98f1-5c4caf603102",
   "metadata": {},
   "source": [
    "#### Display an image from URL:"
   ]
  },
  {
   "cell_type": "code",
   "execution_count": null,
   "id": "d1c18572",
   "metadata": {},
   "outputs": [],
   "source": [
    "from IPython.display import Image\n",
    "# Import Image class again (it was imported earlier, but it's good practice to import in the cell where it's used)"
   ]
  },
  {
   "cell_type": "code",
   "execution_count": null,
   "id": "fd846c7d-77f9-4cc9-b4f4-0e07f790b755",
   "metadata": {},
   "outputs": [],
   "source": [
    "Image(url='https://encrypted-tbn0.gstatic.com/images?q=tbn:ANd9GcT4WB4VL65JoPgMkBmTRIwpinJf6reQNbMhXg&usqp=CAU')"
   ]
  },
  {
   "cell_type": "markdown",
   "id": "a692816b-e140-43c9-a9db-34ad71037777",
   "metadata": {},
   "source": [
    "There are many more types of data you can [display](https://ipython.readthedocs.io/en/stable/api/generated/IPython.display.html)"
   ]
  }
 ],
 "metadata": {
  "kernelspec": {
   "display_name": "Python 3 (ipykernel)",
   "language": "python",
   "name": "python3"
  },
  "language_info": {
   "codemirror_mode": {
    "name": "ipython",
    "version": 3
   },
   "file_extension": ".py",
   "mimetype": "text/x-python",
   "name": "python",
   "nbconvert_exporter": "python",
   "pygments_lexer": "ipython3",
   "version": "3.12.5"
  }
 },
 "nbformat": 4,
 "nbformat_minor": 5
}
