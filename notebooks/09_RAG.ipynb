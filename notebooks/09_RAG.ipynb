{
 "cells": [
  {
   "cell_type": "markdown",
   "id": "fe77b344",
   "metadata": {},
   "source": [
    "# Local Retrieval-Augmented Generation (RAG) Basics\n"
   ]
  },
  {
   "cell_type": "markdown",
   "id": "9d95efa2",
   "metadata": {},
   "source": [
    "### What is Retrieval-Augmented Generation (RAG)?\n",
    "RAG = Combine retrieval (finding relevant information) with generation (producing responses).\n",
    "Useful for question-answering, creative text generation, etc."
   ]
  },
  {
   "cell_type": "markdown",
   "id": "9299500f",
   "metadata": {},
   "source": [
    "# Retrieval\n",
    "\n",
    "First, let's focus on the retrieval part "
   ]
  },
  {
   "cell_type": "markdown",
   "id": "2a6dabf5",
   "metadata": {},
   "source": [
    "## Embeddings Basics\n",
    "\n",
    "We use sentence-transformer for our embeddings.  \n",
    "Sentence Transformers (a.k.a. SBERT) is the go-to Python module for accessing, using, and training state-of-the-art embedding and reranker models.  \n",
    "You can check it out here:  \n",
    "https://www.sbert.net/index.html "
   ]
  },
  {
   "cell_type": "code",
   "execution_count": 1,
   "id": "a5a0c8ea",
   "metadata": {},
   "outputs": [
    {
     "name": "stderr",
     "output_type": "stream",
     "text": [
      "/Users/c/anaconda3/envs/bca/lib/python3.12/site-packages/tqdm/auto.py:21: TqdmWarning: IProgress not found. Please update jupyter and ipywidgets. See https://ipywidgets.readthedocs.io/en/stable/user_install.html\n",
      "  from .autonotebook import tqdm as notebook_tqdm\n"
     ]
    }
   ],
   "source": [
    "from sentence_transformers import SentenceTransformer\n",
    "\n",
    "embeddings_model = SentenceTransformer('all-MiniLM-L6-v2') # a small general purpose model (80MB)\n",
    "# this will download the model to your machine, might take a while when you run it for the first time"
   ]
  },
  {
   "cell_type": "markdown",
   "id": "ccf8d94f",
   "metadata": {},
   "source": [
    "Next, let's define some sentences and encode them.\n",
    "Encoding means that we convert our sentences into vectors (embeddings)"
   ]
  },
  {
   "cell_type": "code",
   "execution_count": 2,
   "id": "5d8b9bea",
   "metadata": {},
   "outputs": [],
   "source": [
    "sentences = [\n",
    "    \"Ping me if you need anything.\",\n",
    "    \"Let me know if you have any questions.\",\n",
    "    \"this email thread was used to train a drone\",\n",
    "]\n",
    "\n",
    "embedded_sentences = embeddings_model.encode(sentences)"
   ]
  },
  {
   "cell_type": "markdown",
   "id": "f29b869d",
   "metadata": {},
   "source": [
    "When we print the shape of our embeddings we can see we have three sentences with 384 dimensions each"
   ]
  },
  {
   "cell_type": "code",
   "execution_count": 3,
   "id": "bc3f59b0",
   "metadata": {},
   "outputs": [
    {
     "name": "stdout",
     "output_type": "stream",
     "text": [
      "(3, 384)\n"
     ]
    }
   ],
   "source": [
    "print(embedded_sentences.shape)"
   ]
  },
  {
   "cell_type": "markdown",
   "id": "82050aa8",
   "metadata": {},
   "source": [
    "with our embeddings ready, we can now compute the semantic similarity between all sentences."
   ]
  },
  {
   "cell_type": "code",
   "execution_count": 4,
   "id": "b803f698",
   "metadata": {},
   "outputs": [
    {
     "name": "stdout",
     "output_type": "stream",
     "text": [
      "tensor([[1.0000, 0.4350, 0.1338],\n",
      "        [0.4350, 1.0000, 0.1194],\n",
      "        [0.1338, 0.1194, 1.0000]])\n"
     ]
    }
   ],
   "source": [
    "similarities = embeddings_model.similarity(embedded_sentences, embedded_sentences)\n",
    "print(similarities)"
   ]
  },
  {
   "cell_type": "markdown",
   "id": "6c63ecbd",
   "metadata": {},
   "source": [
    "Let's visualize it"
   ]
  },
  {
   "cell_type": "code",
   "execution_count": 5,
   "id": "9c780bf8",
   "metadata": {},
   "outputs": [
    {
     "data": {
      "image/png": "[encoded data removed]",
      "text/plain": [
       "<Figure size 640x480 with 2 Axes>"
      ]
     },
     "metadata": {},
     "output_type": "display_data"
    }
   ],
   "source": [
    "import matplotlib.pyplot as plt\n",
    "\n",
    "plt.imshow(similarities, cmap=\"copper\")\n",
    "plt.colorbar()\n",
    "plt.xticks(range(len(sentences)))\n",
    "plt.yticks(range(len(sentences)))\n",
    "plt.title(\"Similarity Matrix\")\n",
    "plt.show()"
   ]
  },
  {
   "cell_type": "markdown",
   "id": "ca57dcba",
   "metadata": {},
   "source": [
    "Each row and column corresponds to one sentence. The number at position [i, j] shows similarity between sentence i and sentence j.\n",
    "As you can see sentence 0 and 1 are somwhat related but sentence 2 is not related to either of them. the diagonal line are the sentences being fully related to themselves.\n",
    "Sentence 0 (“ping me”) and Sentence 1 (“let me know”) → Similarity 0.435 (related).\n",
    "Sentence 0 and Sentence 2 (“train a drone”) → Similarity 0.1194 (unrelated)."
   ]
  },
  {
   "cell_type": "markdown",
   "id": "eb8b6306",
   "metadata": {},
   "source": [
    "## Chunking (splitting text)\n",
    "\n",
    "Let's say we want to work with longer texts, it's a good idea to split or *chunk* it into smaller parts."
   ]
  },
  {
   "cell_type": "code",
   "execution_count": 6,
   "id": "b9e23924",
   "metadata": {},
   "outputs": [],
   "source": [
    "example_text = \"\"\"\n",
    "A measure of uncertainty of an outcome, rather than the perceived lack of order. \n",
    "A random sequence of events, symbols or steps often has no order and does not follow an intelligible pattern or combination. \n",
    "Randomness exists when some outcomes occur without any order, unpredictably, or by chance. \n",
    "These notions are distinct, but they all have a close connection to probability. \n",
    "Individual random events are unpredictable, but since they often follow a probability distribution, the frequency of different outcomes over numerous events (or “trials”) is predictable: \n",
    "when throwing two dice, the outcome of any particular roll is unpredictable, but a sum of 7 will occur twice as often as 4.\n",
    "\"\"\""
   ]
  },
  {
   "cell_type": "markdown",
   "id": "e49e4a56",
   "metadata": {},
   "source": [
    "We can write our own chunking functions, for example using a max character length per chunk:"
   ]
  },
  {
   "cell_type": "code",
   "execution_count": 7,
   "id": "60ef031f",
   "metadata": {},
   "outputs": [],
   "source": [
    "def chunk_text_by_length(text, max_length):\n",
    "    chunks = []\n",
    "    current_chunk = \"\"\n",
    "\n",
    "    for word in text.split():\n",
    "        # Check if adding the next word exceeds the max length\n",
    "        if len(current_chunk) + len(word) + 1 <= max_length:\n",
    "            current_chunk += (word + \" \")\n",
    "        else:\n",
    "            chunks.append(current_chunk.strip())\n",
    "            current_chunk = word + \" \"\n",
    "    \n",
    "    if current_chunk:\n",
    "        chunks.append(current_chunk.strip())\n",
    "    \n",
    "    return chunks"
   ]
  },
  {
   "cell_type": "code",
   "execution_count": 8,
   "id": "8b87e31a",
   "metadata": {},
   "outputs": [
    {
     "name": "stdout",
     "output_type": "stream",
     "text": [
      "['A measure of uncertainty of an outcome, rather', 'than the perceived lack of order. A random', 'sequence of events, symbols or steps often has no', 'order and does not follow an intelligible pattern', 'or combination. Randomness exists when some', 'outcomes occur without any order, unpredictably,', 'or by chance. These notions are distinct, but', 'they all have a close connection to probability.', 'Individual random events are unpredictable, but', 'since they often follow a probability', 'distribution, the frequency of different outcomes', 'over numerous events (or “trials”) is', 'predictable: when throwing two dice, the outcome', 'of any particular roll is unpredictable, but a', 'sum of 7 will occur twice as often as 4.']\n"
     ]
    }
   ],
   "source": [
    "print(chunk_text_by_length(example_text, 50))"
   ]
  },
  {
   "cell_type": "markdown",
   "id": "86c12bee",
   "metadata": {},
   "source": [
    "as you can see that might not be the best approach as a lot of meaning is getting lost between chunks.\n",
    "Another approach could be to simply chunk by periods, so that we ideally end up with single sentences."
   ]
  },
  {
   "cell_type": "code",
   "execution_count": 9,
   "id": "c451530c",
   "metadata": {},
   "outputs": [],
   "source": [
    "def chunk_text_by_period(text):\n",
    "    sentences = text.split('.')\n",
    "    chunks = []\n",
    "\n",
    "    for sentence in sentences:\n",
    "        sentence = sentence.strip()\n",
    "        if sentence:\n",
    "            chunks.append(sentence + '.')\n",
    "\n",
    "    return chunks"
   ]
  },
  {
   "cell_type": "code",
   "execution_count": 10,
   "id": "146e7bfe",
   "metadata": {},
   "outputs": [
    {
     "name": "stdout",
     "output_type": "stream",
     "text": [
      "['A measure of uncertainty of an outcome, rather than the perceived lack of order.', 'A random sequence of events, symbols or steps often has no order and does not follow an intelligible pattern or combination.', 'Randomness exists when some outcomes occur without any order, unpredictably, or by chance.', 'These notions are distinct, but they all have a close connection to probability.', 'Individual random events are unpredictable, but since they often follow a probability distribution, the frequency of different outcomes over numerous events (or “trials”) is predictable: \\nwhen throwing two dice, the outcome of any particular roll is unpredictable, but a sum of 7 will occur twice as often as 4.']\n"
     ]
    }
   ],
   "source": [
    "print(chunk_text_by_period(example_text))"
   ]
  },
  {
   "cell_type": "markdown",
   "id": "a0ce0e9c",
   "metadata": {},
   "source": [
    "this is already an improvement, however it can result in chunks of varying length. Also it might be good in many cases to have bigger chunks, what about paragraphs for example? since text can have so many forms, there is no one-size-fits-all solution.\n",
    "There are some prewritten methods that you can use to chunk text that we will cover later."
   ]
  },
  {
   "cell_type": "code",
   "execution_count": 11,
   "id": "1976810d",
   "metadata": {},
   "outputs": [
    {
     "name": "stdout",
     "output_type": "stream",
     "text": [
      "['A measure of uncertainty of an outcome, rather than the perceived lack of order.', 'A random sequence of events, symbols or steps often has no order and does not follow an intelligible pattern or combination.', 'Randomness exists when some outcomes occur without any order, unpredictably, or by chance.', 'These notions are distinct, but they all have a close connection to probability.', 'Individual random events are unpredictable, but since they often follow a probability distribution, the frequency of different outcomes over numerous events (or “trials”) is predictable: \\nwhen throwing two dice, the outcome of any particular roll is unpredictable, but a sum of 7 will occur twice as often as 4.']\n"
     ]
    }
   ],
   "source": [
    "# here add chunking functions\n",
    "\n",
    "chunks = chunk_text_by_period(example_text)\n",
    "print(chunks)"
   ]
  },
  {
   "cell_type": "markdown",
   "id": "b9422712",
   "metadata": {},
   "source": [
    "## Vector Databases (Chroma DB)\n",
    "\n",
    "We use Chroma as a vector database. When working with a large number of embeddings it's a good idea to store them in a DB. Chroma is an open-source search and retrieval database that you can easily deploy locally.  \n",
    "You can check it out here: https://www.trychroma.com/ "
   ]
  },
  {
   "cell_type": "code",
   "execution_count": 12,
   "id": "f4d47cb0",
   "metadata": {},
   "outputs": [],
   "source": [
    "import chromadb\n",
    "\n",
    "# Create client and collection\n",
    "client = chromadb.PersistentClient() # we use a persistent client to store our db \n",
    "# client.delete_collection(name=\"example_collection\")\n",
    "collection = client.create_collection(\"example_collection_rag\")\n",
    "\n",
    "embedded_chunks = embeddings_model.encode(chunks)\n",
    "\n",
    "# Add embeddings manually\n",
    "collection.add(\n",
    "    embeddings=embedded_chunks,\n",
    "    documents=chunks,\n",
    "    ids=[\"chunk1\", \"chunk2\", \"chunk3\", \"chunk4\", \"chunk5\"] # improve this\n",
    ")"
   ]
  },
  {
   "cell_type": "markdown",
   "id": "cc8cf7d5",
   "metadata": {},
   "source": [
    "## Similarity Search "
   ]
  },
  {
   "cell_type": "code",
   "execution_count": 14,
   "id": "c698357f",
   "metadata": {},
   "outputs": [
    {
     "name": "stdout",
     "output_type": "stream",
     "text": [
      "Results: {'ids': [['chunk3', 'chunk5']], 'embeddings': None, 'documents': [['Randomness exists when some outcomes occur without any order, unpredictably, or by chance.', 'Individual random events are unpredictable, but since they often follow a probability distribution, the frequency of different outcomes over numerous events (or “trials”) is predictable: \\nwhen throwing two dice, the outcome of any particular roll is unpredictable, but a sum of 7 will occur twice as often as 4.']], 'uris': None, 'included': ['metadatas', 'documents', 'distances'], 'data': None, 'metadatas': [[None, None]], 'distances': [[0.5814827084541321, 0.7597775459289551]]}\n"
     ]
    }
   ],
   "source": [
    "query = \"What is random?\"\n",
    "query_embedding = embeddings_model.encode(query)\n",
    "\n",
    "results = collection.query(\n",
    "    query_embeddings=[query_embedding],\n",
    "    n_results=2\n",
    ")\n",
    "\n",
    "print(\"Results:\", results)"
   ]
  },
  {
   "cell_type": "markdown",
   "id": "cd308713",
   "metadata": {},
   "source": [
    "## Ollama \n",
    "Ollama is a local runtime to work with LLM's on you local machine. We'll use to simply download models and generate text based on our retrieved documents.  \n",
    "Essentially it's a wrapper around https://github.com/ggml-org/llama.cpp but we'll stick with ollama for now since it's very easy to use.\n",
    "You can download Ollama here: https://ollama.com/download  \n",
    "\n",
    "If you run the GUI, it automatically serves all downloaded models on your PC\n",
    "\n",
    "you can check which models you already downloaded with `ollama list`  \n",
    "\n",
    "To run a model from your terminal, simply `ollama run` and select a model for example `ollama run gemma3:1b`  if you haven't downloaded it yet it will do so automatically.  \n",
    "\n",
    "to stop chatting with a model, type `/bye`  "
   ]
  },
  {
   "cell_type": "markdown",
   "id": "5925e1a9",
   "metadata": {},
   "source": [
    "To use ollama in python, we need to `pip install ollama` to install the bindings.  \n",
    "Then we can test it like this:"
   ]
  },
  {
   "cell_type": "code",
   "execution_count": 15,
   "id": "c1fdced1",
   "metadata": {},
   "outputs": [
    {
     "name": "stdout",
     "output_type": "stream",
     "text": [
      "Okay, let's break down what randomness is. It's a fascinating and surprisingly complex concept, and it's something that has puzzled philosophers, mathematicians, and computer scientists for centuries. Here’s a breakdown of different perspectives on randomness:\n",
      "\n",
      "**1. The Basic Definition:**\n",
      "\n",
      "At its core, **randomness** refers to the *lack of predictable or regular patterns*.  It’s when a process produces results that seem unpredictable, even if they're generated by the same rules.\n",
      "\n",
      "**2. Different Levels of Randomness:**\n",
      "\n",
      "* **Statistical Randomness:** This is the most common understanding of randomness. It’s generated by algorithms that have a probability distribution.  Think of rolling dice, shuffling a deck of cards, or creating a random number sequence.  The output *appears* random because it’s based on probabilities, but it's fundamentally determined by the starting point and the algorithm.\n",
      "\n",
      "* **True Randomness:** This is *much* harder to achieve and is what we really want in situations where security and unpredictability are critical (like cryptography). True randomness comes from unpredictable physical phenomena – things like:\n",
      "    * **Quantum phenomena:**  Quantum mechanics dictates that certain processes, like the decay of atoms, produce results that are inherently unpredictable.\n",
      "    * **Radioactive decay:**  The random decay of particles can be used to generate a truly random sequence.\n",
      "\n",
      "**3. Why is it Difficult to Define Completely?**\n",
      "\n",
      "* **Human Perception:** Our brains are wired to seek patterns. We naturally try to find correlations, even when there aren't any. This makes it hard to truly *measure* randomness.\n",
      "* **The Observer Effect:**  The act of observing a system can change it.  If you watch a die roll, you're influencing the outcome.  This raises questions about whether true randomness is actually possible.\n",
      "* **Subjectivity:** What one person considers random, another might find predictable. This is linked to the concept of \"degrees of freedom.\"\n",
      "\n",
      "**4.  Examples of Randomness in the Real World:**\n",
      "\n",
      "* **Coin flips:**  You can't predict the result of a coin flip with certainty.\n",
      "* **Random number generators:** Computers use these to produce numbers without a defined pattern.\n",
      "* **Weather patterns:**  Weather systems are inherently random, influenced by complex interactions.\n",
      "* **Genetic mutations:**  Random changes in DNA sequence lead to new variations in organisms.\n",
      "* **Gambling:**  The outcome of a lottery or game is based on a random selection of numbers.\n",
      "\n",
      "\n",
      "**5.  The Philosophical Perspective**\n",
      "\n",
      "Philosophers have wrestled with the concept of randomness for millennia, posing questions like:\n",
      "\n",
      "* **Is randomness desirable?** Some argue that true randomness is essential for creativity, novelty, and the emergence of complex systems.\n",
      "* **Does randomness violate determinism?** If a system is completely random, does that imply it's not causally determined (meaning it doesn't have a specific history or predetermined path)?\n",
      "\n",
      "\n",
      "**In short, randomness isn't just about *not* having a pattern. It's about a process that produces results that are unpredictable, often through underlying physical or mathematical processes.**\n",
      "\n",
      "---\n",
      "\n",
      "**Do you want me to elaborate on any of these points, like:**\n",
      "\n",
      "*   The difference between statistical and true randomness?\n",
      "*   How randomness is used in cryptography?\n",
      "*   The philosophical implications of randomness?\n",
      "Okay, let's break down what randomness is. It's a fascinating and surprisingly complex concept, and it's something that has puzzled philosophers, mathematicians, and computer scientists for centuries. Here’s a breakdown of different perspectives on randomness:\n",
      "\n",
      "**1. The Basic Definition:**\n",
      "\n",
      "At its core, **randomness** refers to the *lack of predictable or regular patterns*.  It’s when a process produces results that seem unpredictable, even if they're generated by the same rules.\n",
      "\n",
      "**2. Different Levels of Randomness:**\n",
      "\n",
      "* **Statistical Randomness:** This is the most common understanding of randomness. It’s generated by algorithms that have a probability distribution.  Think of rolling dice, shuffling a deck of cards, or creating a random number sequence.  The output *appears* random because it’s based on probabilities, but it's fundamentally determined by the starting point and the algorithm.\n",
      "\n",
      "* **True Randomness:** This is *much* harder to achieve and is what we really want in situations where security and unpredictability are critical (like cryptography). True randomness comes from unpredictable physical phenomena – things like:\n",
      "    * **Quantum phenomena:**  Quantum mechanics dictates that certain processes, like the decay of atoms, produce results that are inherently unpredictable.\n",
      "    * **Radioactive decay:**  The random decay of particles can be used to generate a truly random sequence.\n",
      "\n",
      "**3. Why is it Difficult to Define Completely?**\n",
      "\n",
      "* **Human Perception:** Our brains are wired to seek patterns. We naturally try to find correlations, even when there aren't any. This makes it hard to truly *measure* randomness.\n",
      "* **The Observer Effect:**  The act of observing a system can change it.  If you watch a die roll, you're influencing the outcome.  This raises questions about whether true randomness is actually possible.\n",
      "* **Subjectivity:** What one person considers random, another might find predictable. This is linked to the concept of \"degrees of freedom.\"\n",
      "\n",
      "**4.  Examples of Randomness in the Real World:**\n",
      "\n",
      "* **Coin flips:**  You can't predict the result of a coin flip with certainty.\n",
      "* **Random number generators:** Computers use these to produce numbers without a defined pattern.\n",
      "* **Weather patterns:**  Weather systems are inherently random, influenced by complex interactions.\n",
      "* **Genetic mutations:**  Random changes in DNA sequence lead to new variations in organisms.\n",
      "* **Gambling:**  The outcome of a lottery or game is based on a random selection of numbers.\n",
      "\n",
      "\n",
      "**5.  The Philosophical Perspective**\n",
      "\n",
      "Philosophers have wrestled with the concept of randomness for millennia, posing questions like:\n",
      "\n",
      "* **Is randomness desirable?** Some argue that true randomness is essential for creativity, novelty, and the emergence of complex systems.\n",
      "* **Does randomness violate determinism?** If a system is completely random, does that imply it's not causally determined (meaning it doesn't have a specific history or predetermined path)?\n",
      "\n",
      "\n",
      "**In short, randomness isn't just about *not* having a pattern. It's about a process that produces results that are unpredictable, often through underlying physical or mathematical processes.**\n",
      "\n",
      "---\n",
      "\n",
      "**Do you want me to elaborate on any of these points, like:**\n",
      "\n",
      "*   The difference between statistical and true randomness?\n",
      "*   How randomness is used in cryptography?\n",
      "*   The philosophical implications of randomness?\n"
     ]
    }
   ],
   "source": [
    "from ollama import chat\n",
    "from ollama import ChatResponse\n",
    "\n",
    "# the query we send to the LLM\n",
    "query = \"What is randomness?\"\n",
    "\n",
    "# this is the structure expected by the ollama API\n",
    "response: ChatResponse = chat(model='gemma3:1b', messages=[\n",
    "  {\n",
    "    'role': 'user',\n",
    "    'content': query,\n",
    "  },\n",
    "])\n",
    "\n",
    "print(response['message']['content'])\n",
    "# or access fields directly from the response object\n",
    "print(response.message.content)"
   ]
  },
  {
   "cell_type": "markdown",
   "id": "29aa5faa",
   "metadata": {},
   "source": [
    "## Connecting Retrieval and Generation"
   ]
  },
  {
   "cell_type": "code",
   "execution_count": 20,
   "id": "3d38bca7",
   "metadata": {},
   "outputs": [
    {
     "name": "stdout",
     "output_type": "stream",
     "text": [
      "Prompt:\n",
      "Using the following context, answer the question:\n",
      "\n",
      "Context:\n",
      "Randomness exists when some outcomes occur without any order, unpredictably, or by chance.\n",
      "\n",
      "Question:\n",
      "What is random?\n",
      "\n",
      "Response:\n",
      "According to the context, random means outcomes occur without any order, unpredictably, or by chance.\n"
     ]
    }
   ],
   "source": [
    "def query_rag(query, top_k=1):\n",
    "    \n",
    "    query_embedding = embeddings_model.encode(query)\n",
    "    results = collection.query(\n",
    "        query_embeddings=[query_embedding],\n",
    "        n_results=top_k\n",
    "    )\n",
    "    context = \"\\n\".join(results['documents'][0])\n",
    "    \n",
    "    # Prompt the local Ollama model\n",
    "    prompt = f\"Using the following context, answer the question:\\n\\nContext:\\n{context}\\n\\nQuestion:\\n{query}\\n\"\n",
    "\n",
    "    print(f\"Prompt:\\n{prompt}\")\n",
    "    \n",
    "    response: ChatResponse = chat(\n",
    "        model='gemma3:1b', \n",
    "        messages=[\n",
    "            {\n",
    "                'role': 'user',\n",
    "                'content': prompt,\n",
    "            },\n",
    "        ]\n",
    "        )\n",
    "    return response.message.content\n",
    "\n",
    "# Test query\n",
    "query = \"What is random?\"\n",
    "response = query_rag(query)\n",
    "\n",
    "print(f\"Response:\\n{response}\")"
   ]
  },
  {
   "cell_type": "code",
   "execution_count": null,
   "id": "6b4c25a6",
   "metadata": {},
   "outputs": [],
   "source": [
    "# Next Steps: Parsing PDF & Using LangChain (covered later)\n"
   ]
  }
 ],
 "metadata": {
  "kernelspec": {
   "display_name": "bca",
   "language": "python",
   "name": "python3"
  },
  "language_info": {
   "codemirror_mode": {
    "name": "ipython",
    "version": 3
   },
   "file_extension": ".py",
   "mimetype": "text/x-python",
   "name": "python",
   "nbconvert_exporter": "python",
   "pygments_lexer": "ipython3",
   "version": "3.12.5"
  }
 },
 "nbformat": 4,
 "nbformat_minor": 5
}
