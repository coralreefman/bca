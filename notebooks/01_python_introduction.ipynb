{
 "cells": [
  {
   "cell_type": "markdown",
   "id": "33fe5335-af47-4bd7-934e-12067de7d049",
   "metadata": {},
   "source": [
    "# Python basics\n",
    "\n",
    "*data types, containers, functions, classes*"
   ]
  },
  {
   "cell_type": "markdown",
   "id": "f50d10d3-b6d9-4344-a6d5-89aef7fce43f",
   "metadata": {},
   "source": [
    "### Data types"
   ]
  },
  {
   "cell_type": "markdown",
   "id": "0bcf2aa8-5c58-475e-a10c-730bb39eaf72",
   "metadata": {},
   "source": [
    "#### Numbers"
   ]
  },
  {
   "cell_type": "markdown",
   "id": "44baa53c-45b7-4c8c-a950-604b1c53166c",
   "metadata": {},
   "source": [
    "Integers and floats work as you would expect from other languages:"
   ]
  },
  {
   "cell_type": "code",
   "execution_count": 2,
   "id": "da12a393-9978-46e9-b8d5-93e93c2ea589",
   "metadata": {},
   "outputs": [],
   "source": [
    "a_great_variable = \"they're\""
   ]
  },
  {
   "cell_type": "code",
   "execution_count": null,
   "id": "d9bdce07-0ffa-4921-96a0-b5d90836e2a4",
   "metadata": {},
   "outputs": [],
   "source": [
    "()"
   ]
  },
  {
   "cell_type": "code",
   "execution_count": 4,
   "id": "f17c9c3c-9f85-46c2-9182-de7ab15b3f2f",
   "metadata": {},
   "outputs": [],
   "source": [
    "a_great_variable = 5.3234"
   ]
  },
  {
   "cell_type": "code",
   "execution_count": 5,
   "id": "95090ee6-d041-4781-8f9d-5aaac6b2eaab",
   "metadata": {},
   "outputs": [
    {
     "name": "stdout",
     "output_type": "stream",
     "text": [
      "5\n"
     ]
    }
   ],
   "source": [
    "print(a_great_variable)"
   ]
  },
  {
   "cell_type": "code",
   "execution_count": 10,
   "id": "41fb5817-f33e-4633-8adc-e9098b9e1b2f",
   "metadata": {},
   "outputs": [
    {
     "name": "stdout",
     "output_type": "stream",
     "text": [
      "5 <class 'int'>\n"
     ]
    }
   ],
   "source": [
    "x = 5\n",
    "print(x, type(x))"
   ]
  },
  {
   "cell_type": "code",
   "execution_count": 11,
   "id": "453c7d67-0947-4766-b1b6-10ca49f5e5c7",
   "metadata": {},
   "outputs": [
    {
     "name": "stdout",
     "output_type": "stream",
     "text": [
      "6\n",
      "4\n",
      "10\n",
      "25\n"
     ]
    }
   ],
   "source": [
    "print(x + 1)   # Addition;\n",
    "print(x - 1)   # Subtraction;\n",
    "print(x * 2)   # Multiplication;\n",
    "print(x ** 2)  # Exponentiation;"
   ]
  },
  {
   "cell_type": "code",
   "execution_count": 12,
   "id": "51ba7388-9b59-4dc9-bd16-f39df2156572",
   "metadata": {},
   "outputs": [
    {
     "name": "stdout",
     "output_type": "stream",
     "text": [
      "6\n",
      "12\n",
      "<class 'float'>\n",
      "2.5 3.5 5.0 6.25\n"
     ]
    }
   ],
   "source": [
    "x += 1\n",
    "print(x)\n",
    "x *= 2\n",
    "print(x)\n",
    "y = 2.5\n",
    "print(type(y))\n",
    "print(y, y + 1, y * 2, y ** 2)"
   ]
  },
  {
   "cell_type": "markdown",
   "id": "05e63bc0-b74f-4712-8acd-77d0e4d6073d",
   "metadata": {},
   "source": [
    "#### Booleans"
   ]
  },
  {
   "cell_type": "markdown",
   "id": "40c6e18e-d087-4c3c-9995-0a61a746767d",
   "metadata": {},
   "source": [
    "Python implements Boolean logic using English words rather than symbols (`&&`, `||`, etc.)"
   ]
  },
  {
   "cell_type": "code",
   "execution_count": 13,
   "id": "5dc7ac0a-e1de-4762-8a4c-a3916c8813eb",
   "metadata": {},
   "outputs": [
    {
     "name": "stdout",
     "output_type": "stream",
     "text": [
      "<class 'bool'>\n",
      "False\n",
      "True\n",
      "False\n",
      "True\n"
     ]
    }
   ],
   "source": [
    "t = True\n",
    "f = False\n",
    "\n",
    "t, f = True, False\n",
    "print(type(t))\n",
    "\n",
    "# the operations\n",
    "print(t and f) # logical AND;\n",
    "print(t or f)  # logical OR;\n",
    "print(not t)   # logical NOT;\n",
    "print(t != f)  # logical XOR;"
   ]
  },
  {
   "cell_type": "markdown",
   "id": "9d4e5aa1-0e3f-4f1e-ae30-76026b6a0361",
   "metadata": {},
   "source": [
    "#### Strings"
   ]
  },
  {
   "cell_type": "code",
   "execution_count": 15,
   "id": "ff5500aa-21b5-430f-a0e2-2baee4556e5b",
   "metadata": {},
   "outputs": [
    {
     "name": "stdout",
     "output_type": "stream",
     "text": [
      "BYE 3\n"
     ]
    }
   ],
   "source": [
    "hello = 'BYE'         # string literals can use single quotes\n",
    "world = \"anti-matter\"   # or double quotes\n",
    "print(hello, len(hello))"
   ]
  },
  {
   "cell_type": "code",
   "execution_count": 16,
   "id": "e8820dd2-3a72-4cb1-bcb3-6f83dd3b30e1",
   "metadata": {},
   "outputs": [
    {
     "name": "stdout",
     "output_type": "stream",
     "text": [
      "BYE anti-matter\n"
     ]
    }
   ],
   "source": [
    "hw = hello + ' ' + world  # string concatenation\n",
    "print(hw)"
   ]
  },
  {
   "cell_type": "code",
   "execution_count": 22,
   "id": "b3722878-47e1-4581-b144-3819837df17f",
   "metadata": {},
   "outputs": [
    {
     "name": "stdout",
     "output_type": "stream",
     "text": [
      "Date:BYE anti-matter\n"
     ]
    }
   ],
   "source": [
    "hw12 = '{} {} {}'.format(hello, world, 12)  # string format method\n",
    "print(hw12)"
   ]
  },
  {
   "cell_type": "code",
   "execution_count": 20,
   "id": "403c57f7-df1a-4322-962e-e260b8e2bf5c",
   "metadata": {},
   "outputs": [
    {
     "name": "stdout",
     "output_type": "stream",
     "text": [
      "anti-matter hello anti-matter 12\n"
     ]
    }
   ],
   "source": [
    "print(f\"{world} hello {world} {12}\")"
   ]
  },
  {
   "cell_type": "markdown",
   "id": "06ffbbc3-4dce-4da1-879a-ead3fd89f337",
   "metadata": {},
   "source": [
    "some string methods:"
   ]
  },
  {
   "cell_type": "code",
   "execution_count": 23,
   "id": "cf56dc2a-9da3-4dc4-b612-4464ce7ba9b5",
   "metadata": {},
   "outputs": [
    {
     "name": "stdout",
     "output_type": "stream",
     "text": [
      "Hello\n",
      "HELLO\n",
      "  hello\n",
      " hello \n"
     ]
    }
   ],
   "source": [
    "s = \"hello\"\n",
    "print(s.capitalize())\n",
    "print(s.upper())\n",
    "print(s.rjust(7))      # right-justify, padding with spaces; prints \"  hello\"\n",
    "print(s.center(7))     # center a string, padding with spaces; prints \" hello \""
   ]
  },
  {
   "cell_type": "code",
   "execution_count": 24,
   "id": "ac703903-134d-4d3b-a08d-8f48f8d25b94",
   "metadata": {},
   "outputs": [
    {
     "name": "stdout",
     "output_type": "stream",
     "text": [
      "he(ell)(ell)o\n"
     ]
    }
   ],
   "source": [
    "# replace all instances of one substring with another;\n",
    "print(s.replace('l', '(ell)')) "
   ]
  },
  {
   "cell_type": "code",
   "execution_count": 25,
   "id": "d5d787fc-6cdb-4747-80a2-8fcf751146c8",
   "metadata": {},
   "outputs": [
    {
     "name": "stdout",
     "output_type": "stream",
     "text": [
      "world\n"
     ]
    }
   ],
   "source": [
    "# strip leading and trailing whitespace; prints \"world\"\n",
    "print('  world '.strip())"
   ]
  },
  {
   "cell_type": "code",
   "execution_count": 26,
   "id": "142dcbd2-73c4-4afb-aef3-21b10d67b423",
   "metadata": {},
   "outputs": [
    {
     "name": "stdout",
     "output_type": "stream",
     "text": [
      "banana\n"
     ]
    }
   ],
   "source": [
    "# strip also accepts characters as arguments\n",
    "txt = \",,,,,rrttgg.....banana....rrr\"\n",
    "print(txt.strip(\",.grt\"))"
   ]
  },
  {
   "cell_type": "markdown",
   "id": "21ba8630-adda-46e2-87c4-41550b4a67ee",
   "metadata": {},
   "source": [
    "[more string methods](https://docs.python.org/3.8/library/stdtypes.html#string-methods)"
   ]
  },
  {
   "cell_type": "markdown",
   "id": "153cb50b-ead0-49ab-9077-13835cbce769",
   "metadata": {},
   "source": [
    "### Containers"
   ]
  },
  {
   "cell_type": "markdown",
   "id": "bb65ce0e-bbf3-41fd-a10c-320b2f39ea08",
   "metadata": {},
   "source": [
    "#### Lists"
   ]
  },
  {
   "cell_type": "markdown",
   "id": "817592a6-079e-4c9b-a8af-ccd63603cf51",
   "metadata": {},
   "source": [
    "A list is the Python equivalent of an array, but is resizeable and can contain elements of different types:"
   ]
  },
  {
   "cell_type": "code",
   "execution_count": 27,
   "id": "2e1c3ae2-f669-4f15-b89d-7a7ce31d4b78",
   "metadata": {},
   "outputs": [
    {
     "name": "stdout",
     "output_type": "stream",
     "text": [
      "[3, 1, 5] 5\n",
      "5\n"
     ]
    }
   ],
   "source": [
    "xs = [3, 1, 5]   # create a list\n",
    "print(xs, xs[2])\n",
    "print(xs[-1])     # negative indices count from the end of the list; prints \"2\""
   ]
  },
  {
   "cell_type": "code",
   "execution_count": 28,
   "id": "85a1f8a6-abaa-4319-8b18-5bcc5b7ae005",
   "metadata": {},
   "outputs": [
    {
     "name": "stdout",
     "output_type": "stream",
     "text": [
      "[3, 1, 'foo']\n"
     ]
    }
   ],
   "source": [
    "xs[2] = 'foo'    # Lists can contain elements of different types\n",
    "print(xs)"
   ]
  },
  {
   "cell_type": "code",
   "execution_count": 29,
   "id": "fc0c7d1f-6e45-40a9-a907-3d05204894f9",
   "metadata": {},
   "outputs": [
    {
     "name": "stdout",
     "output_type": "stream",
     "text": [
      "[3, 1, 'foo', 'bar']\n"
     ]
    }
   ],
   "source": [
    "xs.append('bar') # Add a new element to the end of the list\n",
    "print(xs)  "
   ]
  },
  {
   "cell_type": "code",
   "execution_count": 30,
   "id": "d2911f69-42f2-4207-b053-9677df2a54cd",
   "metadata": {},
   "outputs": [
    {
     "name": "stdout",
     "output_type": "stream",
     "text": [
      "bar [3, 1, 'foo']\n"
     ]
    }
   ],
   "source": [
    "x = xs.pop()     # Remove and return the last element of the list\n",
    "print(x, xs) "
   ]
  },
  {
   "cell_type": "markdown",
   "id": "3c5ae0e4-f0df-434d-8df4-6838bb217f48",
   "metadata": {},
   "source": [
    "[more on lists](https://docs.python.org/3/tutorial/datastructures.html#more-on-lists)"
   ]
  },
  {
   "cell_type": "markdown",
   "id": "7b463c20-4f3d-4daa-8e2a-0447eddd6b9e",
   "metadata": {},
   "source": [
    "#### Slicing"
   ]
  },
  {
   "cell_type": "code",
   "execution_count": 31,
   "id": "2ccf4a7c-ad87-44a8-9fab-54df2d2381ba",
   "metadata": {},
   "outputs": [
    {
     "name": "stdout",
     "output_type": "stream",
     "text": [
      "[0, 1, 2, 3, 4]\n",
      "[2, 3]\n",
      "[2, 3, 4]\n",
      "[0, 1]\n",
      "[0, 1, 2, 3, 4]\n",
      "[0, 1, 2, 3]\n",
      "[0, 1, 8, 9, 4]\n"
     ]
    }
   ],
   "source": [
    "nums = list(range(5))   # create a list of integers from 1-5\n",
    "\n",
    "print(nums)         # Prints \"[0, 1, 2, 3, 4]\"\n",
    "print(nums[2:4])    # Get a slice from index 2 to 4 (exclusive); prints \"[2, 3]\"\n",
    "print(nums[2:])     # Get a slice from index 2 to the end; prints \"[2, 3, 4]\"\n",
    "print(nums[:2])     # Get a slice from the start to index 2 (exclusive); prints \"[0, 1]\"\n",
    "print(nums[:])      # Get a slice of the whole list; prints [\"0, 1, 2, 3, 4]\"\n",
    "print(nums[:-1])    # Slice indices can be negative; prints [\"0, 1, 2, 3]\"\n",
    "\n",
    "nums[2:4] = [8, 9]  # Assign a new sublist to a slice\n",
    "print(nums)         # Prints \"[0, 1, 8, 9, 4]\""
   ]
  },
  {
   "cell_type": "markdown",
   "id": "022d517c-b482-4c0f-9f3e-f9caddb3abc7",
   "metadata": {},
   "source": [
    "#### For loops"
   ]
  },
  {
   "cell_type": "markdown",
   "id": "b7a4f6ce-fd6b-4cdc-b6d1-a78c9574ce3f",
   "metadata": {},
   "source": [
    "You can loop over the elements of a list like this:"
   ]
  },
  {
   "cell_type": "code",
   "execution_count": 32,
   "id": "43e22cbd-58ad-4d4f-866d-77e4d992c4d8",
   "metadata": {},
   "outputs": [
    {
     "name": "stdout",
     "output_type": "stream",
     "text": [
      "cat\n",
      "dog\n",
      "monkey\n"
     ]
    }
   ],
   "source": [
    "animals = ['cat', 'dog', 'monkey']\n",
    "\n",
    "for animal in animals:\n",
    "    \n",
    "    print(animal)"
   ]
  },
  {
   "cell_type": "markdown",
   "id": "6e5949d4-9473-4290-b81f-4cd212464f8d",
   "metadata": {},
   "source": [
    "Use enumerate to access the index of each element within the body of a loop:"
   ]
  },
  {
   "cell_type": "code",
   "execution_count": 35,
   "id": "a8a7935b-c8a2-4d0c-b2cd-b188b4969d57",
   "metadata": {},
   "outputs": [
    {
     "name": "stdout",
     "output_type": "stream",
     "text": [
      "#1: cat\n",
      "#2: dog\n",
      "#3: monkey\n"
     ]
    }
   ],
   "source": [
    "animals = ['cat', 'dog', 'monkey']\n",
    "\n",
    "for idx, animal in enumerate(animals):\n",
    "    \n",
    "    print('#{}: {}'.format(idx + 1, animal))"
   ]
  },
  {
   "cell_type": "markdown",
   "id": "7385ed13-3282-4f4f-b324-dff623c5f10b",
   "metadata": {},
   "source": [
    "#### List comprehensions"
   ]
  },
  {
   "cell_type": "markdown",
   "id": "457947ea-0457-4950-81d1-fa3d094e2000",
   "metadata": {},
   "source": [
    "When programming, frequently we want to transform one type of data into another. As a simple example, consider the following code that computes square numbers:"
   ]
  },
  {
   "cell_type": "code",
   "execution_count": 36,
   "id": "f4fe38b3-0dde-4465-8246-3ec7e29b3949",
   "metadata": {},
   "outputs": [
    {
     "name": "stdout",
     "output_type": "stream",
     "text": [
      "[0, 1, 4, 9, 16]\n"
     ]
    }
   ],
   "source": [
    "nums = [0, 1, 2, 3, 4]\n",
    "\n",
    "squares = []\n",
    "\n",
    "for x in nums:\n",
    "    \n",
    "    squares.append(x ** 2)\n",
    "    \n",
    "print(squares)"
   ]
  },
  {
   "cell_type": "markdown",
   "id": "d1ca2f5e-6c16-4f2a-b91d-95d7a94dd03d",
   "metadata": {},
   "source": [
    "You can make this code simpler using a list comprehension:"
   ]
  },
  {
   "cell_type": "code",
   "execution_count": null,
   "id": "6a7c4cf4-35a2-480e-a1bf-a77b3ae901cf",
   "metadata": {},
   "outputs": [],
   "source": [
    "nums = [0, 1, 2, 3, 4]\n",
    "squares = [x ** 2 for x in nums]\n",
    "print(squares)"
   ]
  },
  {
   "cell_type": "markdown",
   "id": "8c51bfe0-b0e7-441a-9ad5-08a6083e8d52",
   "metadata": {},
   "source": [
    "List comprehensions can also contain conditions:"
   ]
  },
  {
   "cell_type": "code",
   "execution_count": 37,
   "id": "3394be81-85da-4c39-929f-ad650e2c0861",
   "metadata": {},
   "outputs": [
    {
     "name": "stdout",
     "output_type": "stream",
     "text": [
      "[0, 4, 16]\n"
     ]
    }
   ],
   "source": [
    "nums = [0, 1, 2, 3, 4]\n",
    "even_squares = [x ** 2 for x in nums if x % 2 == 0]\n",
    "print(even_squares)"
   ]
  },
  {
   "cell_type": "markdown",
   "id": "bfc3b051-28e5-4634-b6e9-7e3ca7383d93",
   "metadata": {},
   "source": [
    "#### Modulo"
   ]
  },
  {
   "cell_type": "markdown",
   "id": "29f3e112-3e6e-49a4-8b4b-8fc1e51c9e45",
   "metadata": {},
   "source": [
    "The modulo operator is used to get the remainder of the division of one number by another which called the modulus. For example the remainder of 21 with a modulus 5 would be 1, as 20 can be divided by 5:"
   ]
  },
  {
   "cell_type": "code",
   "execution_count": null,
   "id": "3587981e-e7ff-4a67-a4a6-db51ae5d4c0a",
   "metadata": {},
   "outputs": [],
   "source": [
    "21 % 5"
   ]
  },
  {
   "cell_type": "code",
   "execution_count": null,
   "id": "4fcaa68a-c1eb-43ae-b4ce-47692145bff3",
   "metadata": {},
   "outputs": [],
   "source": [
    "for i in range(11):\n",
    "    \n",
    "    print(i % 5)"
   ]
  },
  {
   "cell_type": "markdown",
   "id": "8885efa1-b867-4b58-a438-2a1ba1fb723b",
   "metadata": {},
   "source": [
    "The modulo can be useful to find even numbers as in the list comprehension example above but it has many more applications. For example to turn a 24 hour clock into a 12 hour clock"
   ]
  },
  {
   "cell_type": "code",
   "execution_count": null,
   "id": "a0cfb553-1478-4b13-af42-0426919d35f6",
   "metadata": {},
   "outputs": [],
   "source": [
    "for i in range(24):\n",
    "    \n",
    "    print(i % 12 + 1)"
   ]
  },
  {
   "cell_type": "markdown",
   "id": "a74a0f66-5a7b-409e-a268-b76a8b697085",
   "metadata": {},
   "source": [
    "In python the modulo also accepts float values:"
   ]
  },
  {
   "cell_type": "code",
   "execution_count": null,
   "id": "4e9110ab-417d-4008-b623-86a497c619c0",
   "metadata": {},
   "outputs": [],
   "source": [
    "12.5 % 5.5"
   ]
  },
  {
   "cell_type": "code",
   "execution_count": 42,
   "id": "258ba2e0-5965-47ea-a166-ecade6ddaff7",
   "metadata": {},
   "outputs": [
    {
     "ename": "ZeroDivisionError",
     "evalue": "float modulo",
     "output_type": "error",
     "traceback": [
      "\u001b[0;31m---------------------------------------------------------------------------\u001b[0m",
      "\u001b[0;31mZeroDivisionError\u001b[0m                         Traceback (most recent call last)",
      "Cell \u001b[0;32mIn[42], line 5\u001b[0m\n\u001b[1;32m      1\u001b[0m numbers \u001b[38;5;241m=\u001b[39m [\u001b[38;5;241m1.23\u001b[39m, \u001b[38;5;241m2.0\u001b[39m, \u001b[38;5;241m3.124\u001b[39m, \u001b[38;5;241m4.124\u001b[39m, \u001b[38;5;241m5.55\u001b[39m]\n\u001b[1;32m      3\u001b[0m \u001b[38;5;28;01mfor\u001b[39;00m n \u001b[38;5;129;01min\u001b[39;00m numbers:\n\u001b[0;32m----> 5\u001b[0m     \u001b[38;5;28;01mif\u001b[39;00m \u001b[43mn\u001b[49m\u001b[38;5;241;43m%\u001b[39;49m\u001b[38;5;241;43m0.0\u001b[39;49m \u001b[38;5;241m==\u001b[39m \u001b[38;5;241m0.0\u001b[39m:\n\u001b[1;32m      7\u001b[0m         \u001b[38;5;28mprint\u001b[39m(\u001b[38;5;124m\"\u001b[39m\u001b[38;5;132;01m{}\u001b[39;00m\u001b[38;5;124m is even\u001b[39m\u001b[38;5;124m\"\u001b[39m\u001b[38;5;241m.\u001b[39mformat(n))\n\u001b[1;32m      8\u001b[0m     \u001b[38;5;28;01melse\u001b[39;00m:\n",
      "\u001b[0;31mZeroDivisionError\u001b[0m: float modulo"
     ]
    }
   ],
   "source": [
    "numbers = [1.23, 2.0, 3.124, 4.124, 5.55]\n",
    "\n",
    "for n in numbers:\n",
    "\n",
    "    if n%0.0 == 0.0:\n",
    "        \n",
    "        print(\"{} is even\".format(n))\n",
    "    else:\n",
    "        print(f\"{n} is odd\")\n",
    "\n"
   ]
  },
  {
   "cell_type": "markdown",
   "id": "700b4069-473d-45b0-bfb2-81abd26acb42",
   "metadata": {},
   "source": [
    "#### Dictionaries"
   ]
  },
  {
   "cell_type": "markdown",
   "id": "96ea183f-d822-4133-890b-b6f1f218832d",
   "metadata": {},
   "source": [
    "A dictionary stores (key, value) pairs, similar to a Map in Java or an object in Javascript. You can use it like this:"
   ]
  },
  {
   "cell_type": "code",
   "execution_count": 43,
   "id": "36bec5c1-9e94-46a4-bc21-982d1ae3307b",
   "metadata": {},
   "outputs": [
    {
     "name": "stdout",
     "output_type": "stream",
     "text": [
      "cute\n",
      "True\n"
     ]
    }
   ],
   "source": [
    "d = {'cat': 'cute', 'dog': 'furry'}  # Create a new dictionary with some data\n",
    "print(d['cat'])       # Get an entry from a dictionary; prints \"cute\"\n",
    "print('cat' in d)     # Check if a dictionary has a given key; prints \"True\""
   ]
  },
  {
   "cell_type": "code",
   "execution_count": 44,
   "id": "d41d5a88-c839-4d40-89d9-051a028be01e",
   "metadata": {},
   "outputs": [
    {
     "name": "stdout",
     "output_type": "stream",
     "text": [
      "wet\n",
      "{'cat': 'cute', 'dog': 'furry', 'fish': 'wet'}\n"
     ]
    }
   ],
   "source": [
    "d['fish'] = 'wet'    # Set an entry in a dictionary\n",
    "print(d['fish'])      # Prints \"wet\"\n",
    "print(d)"
   ]
  },
  {
   "cell_type": "code",
   "execution_count": 45,
   "id": "4bde92ba-65ae-4905-88c0-7e5c34109f34",
   "metadata": {},
   "outputs": [
    {
     "ename": "KeyError",
     "evalue": "'monkey'",
     "output_type": "error",
     "traceback": [
      "\u001b[0;31m---------------------------------------------------------------------------\u001b[0m",
      "\u001b[0;31mKeyError\u001b[0m                                  Traceback (most recent call last)",
      "Cell \u001b[0;32mIn[45], line 1\u001b[0m\n\u001b[0;32m----> 1\u001b[0m \u001b[38;5;28mprint\u001b[39m(\u001b[43md\u001b[49m\u001b[43m[\u001b[49m\u001b[38;5;124;43m'\u001b[39;49m\u001b[38;5;124;43mmonkey\u001b[39;49m\u001b[38;5;124;43m'\u001b[39;49m\u001b[43m]\u001b[49m)  \u001b[38;5;66;03m# KeyError: 'monkey' not a key of d\u001b[39;00m\n",
      "\u001b[0;31mKeyError\u001b[0m: 'monkey'"
     ]
    }
   ],
   "source": [
    "print(d['monkey'])  # KeyError: 'monkey' not a key of d"
   ]
  },
  {
   "cell_type": "code",
   "execution_count": 46,
   "id": "3d67bdbc-4de7-4999-814f-663f243745b4",
   "metadata": {},
   "outputs": [
    {
     "name": "stdout",
     "output_type": "stream",
     "text": [
      "wet\n",
      "None\n"
     ]
    }
   ],
   "source": [
    "print(d.get('fish'))    # Get the value of a specific key; prints \"wet\"\n",
    "print(d.get('monkey'))  # Key doesn't exist; returns None"
   ]
  },
  {
   "cell_type": "code",
   "execution_count": 47,
   "id": "8382ce84-220c-4a55-b625-a81417db559a",
   "metadata": {},
   "outputs": [
    {
     "name": "stdout",
     "output_type": "stream",
     "text": [
      "None\n"
     ]
    }
   ],
   "source": [
    "del d['fish']        # Remove an element from a dictionary\n",
    "print(d.get('fish')) # \"fish\" is no longer a key; prints None"
   ]
  },
  {
   "cell_type": "markdown",
   "id": "89e3eb2e-fd13-42d7-b773-f18feedda2be",
   "metadata": {},
   "source": [
    "You can find all you need to know about dictionaries in the [documentation](https://docs.python.org/3/tutorial/datastructures.html#dictionaries)."
   ]
  },
  {
   "cell_type": "markdown",
   "id": "ba861520-de79-47a9-85bf-b4d203e41c01",
   "metadata": {},
   "source": [
    "Iterate over the keys in a dictionary:"
   ]
  },
  {
   "cell_type": "code",
   "execution_count": 52,
   "id": "5c6e062b-d42b-4d7f-a21b-8d7b82b9dc2b",
   "metadata": {},
   "outputs": [
    {
     "name": "stdout",
     "output_type": "stream",
     "text": [
      "# 0 A person has 2 legs\n",
      "# 1 A cat has 4 legs\n",
      "# 2 A spider has 8 legs\n"
     ]
    }
   ],
   "source": [
    "d = {'person': 2, 'cat': 4, 'spider': 8}\n",
    "for idx, animal in enumerate(d):\n",
    "    legs = d[animal]\n",
    "    print('# {} A {} has {} legs'.format(idx, animal, legs)) "
   ]
  },
  {
   "cell_type": "markdown",
   "id": "088c969e-4425-41c1-a14c-8974fbfd4895",
   "metadata": {},
   "source": [
    "Using items method to access keys and their corresponding values:"
   ]
  },
  {
   "cell_type": "code",
   "execution_count": 49,
   "id": "58a55729-7893-4d30-8c59-21409da63391",
   "metadata": {},
   "outputs": [
    {
     "name": "stdout",
     "output_type": "stream",
     "text": [
      "A person has 2 legs\n",
      "A cat has 4 legs\n",
      "A spider has 8 legs\n"
     ]
    }
   ],
   "source": [
    "d = {'person': 2, 'cat': 4, 'spider': 8}\n",
    "for animal, legs in d.items():\n",
    "    print('A {} has {} legs'.format(animal, legs))"
   ]
  },
  {
   "cell_type": "markdown",
   "id": "d053b999-00f0-4ba0-9834-e76f42ef159f",
   "metadata": {},
   "source": [
    "Dictionary comprehensions: These are similar to list comprehensions, but allow you to easily construct dictionaries. For example:"
   ]
  },
  {
   "cell_type": "code",
   "execution_count": 50,
   "id": "e2993612-51c8-44fd-92e1-bf4949009ff7",
   "metadata": {},
   "outputs": [
    {
     "name": "stdout",
     "output_type": "stream",
     "text": [
      "{0: 0, 2: 4, 4: 16}\n"
     ]
    }
   ],
   "source": [
    "nums = [0, 1, 2, 3, 4]\n",
    "even_num_to_square = {x: x ** 2 for x in nums if x % 2 == 0}\n",
    "print(even_num_to_square)"
   ]
  },
  {
   "cell_type": "markdown",
   "id": "b9c61b2a-f8a0-437a-9acd-a5be49eea67d",
   "metadata": {},
   "source": [
    "#### Sets"
   ]
  },
  {
   "cell_type": "markdown",
   "id": "1210a34f-8157-4bd0-8b42-ccd534222691",
   "metadata": {},
   "source": [
    "A set is a collection of distinct elements which is unordered, unchangeable, and unindexed. As a simple example, consider the following:"
   ]
  },
  {
   "cell_type": "code",
   "execution_count": 51,
   "id": "3ae763c2-5456-453d-a842-b11569b0cf55",
   "metadata": {},
   "outputs": [
    {
     "name": "stdout",
     "output_type": "stream",
     "text": [
      "True\n",
      "False\n"
     ]
    }
   ],
   "source": [
    "animals = {'cat', 'dog'}\n",
    "print('cat' in animals)   # Check if an element is in a set; prints \"True\"\n",
    "print('fish' in animals)  # prints \"False\""
   ]
  },
  {
   "cell_type": "markdown",
   "id": "5e69726a-7faf-47fb-9a42-8d6c3f4e977a",
   "metadata": {},
   "source": [
    "Set items are unchangeable, but you can remove items and add new items:"
   ]
  },
  {
   "cell_type": "code",
   "execution_count": null,
   "id": "b81e4177-62f1-4cea-95b6-0ec0dc70ab03",
   "metadata": {},
   "outputs": [],
   "source": [
    "animals.add('fish')      # Add an element to a set\n",
    "print('fish' in animals)\n",
    "print(len(animals))       # Number of elements in a set;"
   ]
  },
  {
   "cell_type": "code",
   "execution_count": null,
   "id": "2a8d0122-a270-40b8-bd71-594166ebd4da",
   "metadata": {},
   "outputs": [],
   "source": [
    "animals.add('cat')       # Adding an element that is already in the set does nothing\n",
    "print(len(animals))       \n",
    "animals.remove('cat')    # Remove an element from a set\n",
    "print(len(animals))"
   ]
  },
  {
   "cell_type": "markdown",
   "id": "a95faaf7-5559-477a-938d-9c9fb33b4585",
   "metadata": {},
   "source": [
    "Loops: Iterating over a set has the same syntax as iterating over a list; however since sets are unordered, you cannot make assumptions about the order in which you visit the elements of the set:"
   ]
  },
  {
   "cell_type": "code",
   "execution_count": null,
   "id": "0cba5952-d2ec-4f76-8dda-0d8c9da52f5f",
   "metadata": {},
   "outputs": [],
   "source": [
    "animals = {'cat', 'dog', 'fish'}\n",
    "for idx, animal in enumerate(animals):\n",
    "    print('#%d: %s' % (idx + 1, animal))\n",
    "# Prints \"#1: fish\", \"#2: dog\", \"#3: cat\""
   ]
  },
  {
   "cell_type": "markdown",
   "id": "623acdf6-531a-44c8-82ef-e198ace8265c",
   "metadata": {},
   "source": [
    "Set comprehensions: Like lists and dictionaries, we can easily construct sets using set comprehensions:"
   ]
  },
  {
   "cell_type": "code",
   "execution_count": null,
   "id": "6860b593-8f0d-4617-9df5-5fd9b70f59ed",
   "metadata": {},
   "outputs": [],
   "source": [
    "from math import sqrt\n",
    "print({int(sqrt(x)) for x in range(30)})\n",
    "# prints each square root from 1-30 that is an integer: 0=0, 1=1, 9=3, etc."
   ]
  },
  {
   "cell_type": "markdown",
   "id": "48d05e01-828d-4474-8f8b-61e49175592c",
   "metadata": {},
   "source": [
    "#### Tuples"
   ]
  },
  {
   "cell_type": "markdown",
   "id": "dbf82db2-f817-43e4-81a0-de9616e98d9e",
   "metadata": {},
   "source": [
    "A tuple is an (immutable) ordered list of values. A tuple is in many ways similar to a list; one of the most important differences is that tuples can be used as keys in dictionaries and as elements of sets, while lists cannot. Here is a trivial example:"
   ]
  },
  {
   "cell_type": "code",
   "execution_count": null,
   "id": "3896e31b-0923-47f1-aec1-ceec24d8868d",
   "metadata": {},
   "outputs": [],
   "source": [
    "d = {(x, x + 1): x for x in range(10)}  # Create a dictionary with tuple keys\n",
    "t = (5, 6)       # Create a tuple\n",
    "print(d)\n",
    "print(type(t))\n",
    "print(d[t])       \n",
    "print(d[(1, 2)])"
   ]
  },
  {
   "cell_type": "code",
   "execution_count": null,
   "id": "04346cf3-93ab-48fb-97ff-b488c10b400e",
   "metadata": {},
   "outputs": [],
   "source": [
    "t[0] = 1 # immutable means that once created you can't change a tuple"
   ]
  },
  {
   "cell_type": "markdown",
   "id": "ab45c166-3696-47d5-9422-9c11e23c229f",
   "metadata": {},
   "source": [
    "### Functions"
   ]
  },
  {
   "cell_type": "code",
   "execution_count": 59,
   "id": "856a526d-0305-4a8b-bd8f-7b0cd98c8c08",
   "metadata": {},
   "outputs": [
    {
     "name": "stdout",
     "output_type": "stream",
     "text": [
      "negative\n",
      "negative\n",
      "negative\n",
      "negative\n",
      "negative\n",
      "negative\n",
      "negative\n",
      "negative\n",
      "negative\n",
      "negative\n",
      "zero\n",
      "positive\n",
      "positive\n",
      "positive\n",
      "positive\n",
      "positive\n",
      "positive\n",
      "positive\n",
      "positive\n",
      "positive\n"
     ]
    }
   ],
   "source": [
    "# functions are defined using the `def` keyword\n",
    "def sign(x):\n",
    "    \n",
    "    if x > 0:\n",
    "        return 'positive'\n",
    "    elif x < 0:\n",
    "        return 'negative'\n",
    "    else:\n",
    "        return 'zero'\n",
    "\n",
    "# sign(-24)\n",
    "        \n",
    "for x in range(-10, 10):\n",
    "    \n",
    "    print(sign(x))"
   ]
  },
  {
   "cell_type": "markdown",
   "id": "3e89f0c5-fe8d-48b5-90a2-ecb4ae17b54d",
   "metadata": {},
   "source": [
    "You can define functions to take optional keyword arguments with defaults:"
   ]
  },
  {
   "cell_type": "code",
   "execution_count": 60,
   "id": "fee8c331-7331-44c8-b638-cf899956937b",
   "metadata": {},
   "outputs": [
    {
     "name": "stdout",
     "output_type": "stream",
     "text": [
      "Hello, Bob\n",
      "HELLO, FRED!\n"
     ]
    }
   ],
   "source": [
    "def hello(name, loud=False):\n",
    "    \n",
    "    if loud:\n",
    "        print('HELLO, {}!'.format(name.upper()))\n",
    "    else:\n",
    "        print('Hello, {}'.format(name))\n",
    "\n",
    "hello('Bob')\n",
    "hello('Fred', loud=True)"
   ]
  },
  {
   "cell_type": "markdown",
   "id": "2bca1166-76d0-428a-9c7b-f0aaf9c43cf2",
   "metadata": {},
   "source": [
    "### Classes"
   ]
  },
  {
   "cell_type": "markdown",
   "id": "31a42fe3-d016-4458-9c88-780df4f1f257",
   "metadata": {},
   "source": [
    "Syntax for defining classes:"
   ]
  },
  {
   "cell_type": "code",
   "execution_count": 61,
   "id": "db7aeb29-8d3e-4978-ae61-d02c9f655036",
   "metadata": {},
   "outputs": [],
   "source": [
    "face = \"blue\"\n",
    "\n",
    "class Greeter:\n",
    "\n",
    "    # Constructor\n",
    "    def __init__(self, cool_name, nice_face_color):\n",
    "        self.name = cool_name  # Create an instance variable\n",
    "        self.face = nice_face_color\n",
    "\n",
    "    # Instance method\n",
    "    def greet(self, loud=False):\n",
    "        if loud:\n",
    "            print('HELLO, {}!'.format(self.name.upper()))\n",
    "        else:\n",
    "            print('Hello, {}'.format(self.name))\n",
    "\n",
    "    if self.face == \"red\":\n",
    "        \n",
    "        self.greet()\n",
    "\n",
    "g = Greeter('Fred', \"green\")  # Construct an instance of the Greeter class\n",
    "# print(g.name)\n",
    "# g.greet()            # Call an instance method; prints \"Hello, Fred\"\n",
    "\n",
    "# another_g = Greeter('Arthur')\n",
    "\n",
    "# another_g.greet(loud=True)\n",
    "# g.greet(loud=True)   # Call an instance method; prints \"HELLO, FRED!\""
   ]
  },
  {
   "cell_type": "code",
   "execution_count": 66,
   "id": "6fa17495-889f-43bb-b44a-eff7b3106d92",
   "metadata": {},
   "outputs": [],
   "source": [
    "another_g = Greeter('Arthur')"
   ]
  },
  {
   "cell_type": "code",
   "execution_count": 67,
   "id": "59b16f43-1fb2-4583-99db-550c1df920f7",
   "metadata": {},
   "outputs": [
    {
     "name": "stdout",
     "output_type": "stream",
     "text": [
      "HELLO, ARTHUR!\n"
     ]
    }
   ],
   "source": [
    "another_g.greet(loud=True)"
   ]
  }
 ],
 "metadata": {
  "kernelspec": {
   "display_name": "Python 3 (ipykernel)",
   "language": "python",
   "name": "python3"
  },
  "language_info": {
   "codemirror_mode": {
    "name": "ipython",
    "version": 3
   },
   "file_extension": ".py",
   "mimetype": "text/x-python",
   "name": "python",
   "nbconvert_exporter": "python",
   "pygments_lexer": "ipython3",
   "version": "3.12.5"
  }
 },
 "nbformat": 4,
 "nbformat_minor": 5
}
