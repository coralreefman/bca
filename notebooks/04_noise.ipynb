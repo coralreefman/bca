{
 "cells": [
  {
   "cell_type": "code",
   "execution_count": null,
   "id": "0f0d3fca-7fd5-4f9a-81b5-4c4a41299745",
   "metadata": {},
   "outputs": [],
   "source": [
    "import numpy as np\n",
    "import matplotlib.pyplot as plt"
   ]
  },
  {
   "cell_type": "markdown",
   "id": "71e1eccf-b4be-404d-ac68-6946622cf967",
   "metadata": {},
   "source": [
    "Randomizing a frequency:"
   ]
  },
  {
   "cell_type": "code",
   "execution_count": null,
   "id": "0681e65a-036f-407d-9f9d-73cc9e8b1d87",
   "metadata": {},
   "outputs": [],
   "source": [
    "# create a random number generator\n",
    "rng = np.random.default_rng()\n",
    "\n",
    "time = np.arange(0, 50, 0.1)\n",
    "\n",
    "frequency = rng.random(size=time.shape)\n",
    "\n",
    "plt.plot(time, frequency)\n",
    "plt.show()"
   ]
  },
  {
   "cell_type": "markdown",
   "id": "0b1144e8-349a-4229-973c-fa3c8584e63a",
   "metadata": {},
   "source": [
    "Generating sound with a random frequency for each sample (White Noise):"
   ]
  },
  {
   "cell_type": "code",
   "execution_count": null,
   "id": "be5dc44b-42ea-4d82-8ff0-891c74fbeadc",
   "metadata": {},
   "outputs": [],
   "source": [
    "from IPython.display import Audio\n",
    "\n",
    "sample_rate = 44100 # Samples per second\n",
    "\n",
    "duration = 5.0 # Duration in seconds\n",
    "\n",
    "samples = np.arange(duration * sample_rate)\n",
    "\n",
    "freq_hz = rng.random(size=samples.shape) # Frequency / pitch of the sine wave\n",
    "\n",
    "freq_hz *= 0.3 # lower the volume\n",
    "\n",
    "Audio(freq_hz, rate=sample_rate)"
   ]
  },
  {
   "cell_type": "code",
   "execution_count": null,
   "id": "82d95dad-1320-421e-98c0-cf3122e227ad",
   "metadata": {},
   "outputs": [],
   "source": [
    "amplitude = np.sin(samples)"
   ]
  },
  {
   "cell_type": "markdown",
   "id": "16f1b3fa-1f46-4cdc-ae32-af9cefd82a77",
   "metadata": {},
   "source": [
    "We can generate a simple sine wave in numpy like so:"
   ]
  },
  {
   "cell_type": "code",
   "execution_count": null,
   "id": "70a3c279-831a-4194-b8ab-57016446d364",
   "metadata": {},
   "outputs": [],
   "source": [
    "# Get x values of the sine wave\n",
    "samples = np.arange(0, 10, 0.1) # create an array from 0 to 10 in 0.1 increments\n",
    "\n",
    "# Amplitude of the sine wave is sine of a variable like samples\n",
    "amplitude = np.sin(samples)\n",
    "\n",
    "# Plot a sine wave using samples and amplitude obtained for the sine wave\n",
    "plt.plot(samples, amplitude)\n",
    "plt.show()"
   ]
  },
  {
   "cell_type": "markdown",
   "id": "b0d2f309-8a08-4980-987d-2697723fbc31",
   "metadata": {},
   "source": [
    "Adding some noise to the wave:"
   ]
  },
  {
   "cell_type": "code",
   "execution_count": null,
   "id": "e00cf99e-2072-4bea-a786-08a2c820582a",
   "metadata": {},
   "outputs": [],
   "source": [
    "samples = np.linspace(1, 10, num=100) # another way to create an array from 0 to 10 in 0.1 increments\n",
    "\n",
    "amplitude = np.sin(samples) \n",
    "\n",
    "# create a random number generator\n",
    "rng = np.random.default_rng()\n",
    "\n",
    "noisy_amplitude = amplitude + rng.normal(scale=0.1, size=amplitude.shape) # Draw random samples from a normal (Gaussian) distribution.\n",
    "\n",
    "# Plot a sine wave using samples and amplitude obtained for the sine wave\n",
    "plt.plot(samples, noisy_amplitude)\n",
    "plt.show()"
   ]
  },
  {
   "cell_type": "markdown",
   "id": "c33bda2f-bc54-459a-b8a1-fada7638489c",
   "metadata": {},
   "source": [
    "#### Generate sound"
   ]
  },
  {
   "cell_type": "markdown",
   "id": "cf3a53cb-9b3c-4f72-8de9-28a4ac371397",
   "metadata": {},
   "source": [
    "It's possible to use the concept from above to generate sound:"
   ]
  },
  {
   "cell_type": "code",
   "execution_count": null,
   "id": "26b7211b-3950-4343-9cdd-30c1fbb28c08",
   "metadata": {},
   "outputs": [],
   "source": [
    "from IPython.display import Audio\n",
    "\n",
    "sample_rate = 44100 # Samples per second\n",
    "\n",
    "freq_hz = 400.0 # Frequency / pitch of the sine wave\n",
    "\n",
    "duration = 5.0 # Duration in seconds\n",
    "\n",
    "samples = np.arange(duration * sample_rate)\n",
    "\n",
    "waveform = np.sin(2 * np.pi * samples * freq_hz / sample_rate)\n",
    "\n",
    "waveform *= 0.3 # lower the volume\n",
    "\n",
    "# plt.plot(samples/sample_rate, waveform)\n",
    "# plt.show()\n",
    "\n",
    "Audio(waveform, rate=sample_rate)"
   ]
  },
  {
   "cell_type": "markdown",
   "id": "ea2524b9-c32b-410e-a737-6bc353430bd0",
   "metadata": {},
   "source": [
    "Let's add some noise:"
   ]
  },
  {
   "cell_type": "code",
   "execution_count": null,
   "id": "d8ed9c63-8b30-4e6a-8805-7ec72c543632",
   "metadata": {},
   "outputs": [],
   "source": [
    "noisy_waveform = waveform + rng.normal(scale=0.1, size=waveform.shape)\n",
    "Audio(noisy_waveform, rate=sample_rate)"
   ]
  },
  {
   "cell_type": "markdown",
   "id": "4fe6b8a6-a3c1-4932-bc87-bc8bff25adbd",
   "metadata": {},
   "source": [
    "Extra: Modulating a sine wave"
   ]
  },
  {
   "cell_type": "code",
   "execution_count": null,
   "id": "680107f6-ea4d-4176-ae33-4669f399fd6e",
   "metadata": {},
   "outputs": [],
   "source": [
    "sample_rate = 44100\n",
    "\n",
    "duration = 3.0\n",
    "\n",
    "f_c = 440.0 # Frequency of the carrier, in hz\n",
    "f_m = 110.0 # Frequency of the modulator, in hz\n",
    "k = 3.0 # deviation constant.\n",
    "\n",
    "samples = np.arange(duration * sample_rate)\n",
    "carrier = 2 * np.pi * samples * f_c / sample_rate\n",
    "modulator = k * np.sin(2 * np.pi * samples * f_m / sample_rate)\n",
    "waveform = np.cos(carrier + modulator)\n",
    "\n",
    "waveform *= 0.3\n",
    "\n",
    "Audio(waveform, rate=sample_rate)"
   ]
  },
  {
   "cell_type": "markdown",
   "id": "ae47102d-88c5-43e6-a914-f2d482d3f6f6",
   "metadata": {},
   "source": [
    "### Perlin Noise"
   ]
  },
  {
   "cell_type": "code",
   "execution_count": null,
   "id": "a82d3b5c-2d9c-4964-b41f-632267a1c77a",
   "metadata": {},
   "outputs": [],
   "source": [
    "!pip install git+https://github.com/pvigier/perlin-numpy"
   ]
  },
  {
   "cell_type": "code",
   "execution_count": null,
   "id": "a63c8ae8-babe-489f-bff5-64a436c31013",
   "metadata": {},
   "outputs": [],
   "source": [
    "from perlin_numpy import generate_perlin_noise_2d, generate_fractal_noise_2d\n",
    "\n",
    "np.random.seed(54)\n",
    "noise = generate_perlin_noise_2d((256, 256), (8, 8))\n",
    "\n",
    "plt.figure(figsize=(8,8))\n",
    "plt.imshow(noise, cmap='magma', interpolation='lanczos')\n",
    "\n",
    "np.random.seed(0)\n",
    "noise = generate_fractal_noise_2d((256, 256), (8, 8), 5)\n",
    "\n",
    "plt.figure(figsize=(8,8))\n",
    "plt.imshow(noise, cmap='magma', interpolation='lanczos')\n",
    "\n",
    "plt.show()"
   ]
  },
  {
   "cell_type": "code",
   "execution_count": null,
   "id": "e6e3a478-8a44-4b67-b64a-376cd4cc40ea",
   "metadata": {},
   "outputs": [],
   "source": [
    "import matplotlib.animation as animation\n",
    "from IPython.display import HTML\n",
    "from perlin_numpy import generate_perlin_noise_3d\n",
    "\n",
    "np.random.seed(0)\n",
    "noise = generate_perlin_noise_3d(\n",
    "    (32, 256, 256), (1, 4, 4), tileable=(True, False, False)\n",
    ")\n",
    "\n",
    "fig = plt.figure()\n",
    "images = [\n",
    "    [plt.imshow(\n",
    "        layer, cmap='magma', interpolation='lanczos', animated=True\n",
    "    )]\n",
    "    for layer in noise\n",
    "]\n",
    "\n",
    "anim = animation.ArtistAnimation(fig, images, interval=50, blit=True)\n",
    "\n",
    "# plt.show()\n",
    "plt.close()\n",
    "HTML(anim.to_html5_video())"
   ]
  },
  {
   "cell_type": "code",
   "execution_count": null,
   "id": "3983016e-6210-498d-bb85-75bd8f230d7c",
   "metadata": {
    "tags": []
   },
   "outputs": [],
   "source": [
    "from perlin_numpy import generate_fractal_noise_3d\n",
    "\n",
    "np.random.seed(0)\n",
    "noise = generate_fractal_noise_3d(\n",
    "    (32, 256, 256), (1, 4, 4), 4, tileable=(True, False, False)\n",
    ")\n",
    "\n",
    "fig = plt.figure()\n",
    "images = [\n",
    "    [plt.imshow(\n",
    "        layer, cmap='magma', interpolation='lanczos', animated=True\n",
    "    )]\n",
    "    for layer in noise\n",
    "]\n",
    "anim = animation.ArtistAnimation(fig, images, interval=50, blit=True)\n",
    "\n",
    "# plt.show()\n",
    "plt.close()\n",
    "HTML(anim.to_html5_video())"
   ]
  },
  {
   "cell_type": "markdown",
   "id": "607f7e67-59ff-45ff-ba57-4cef0de98928",
   "metadata": {},
   "source": [
    "#### Simplex Noise"
   ]
  },
  {
   "cell_type": "code",
   "execution_count": null,
   "id": "e3a85e25-c5d8-44b4-8601-303bdf412917",
   "metadata": {},
   "outputs": [],
   "source": [
    "!pip install opensimplex"
   ]
  },
  {
   "cell_type": "markdown",
   "id": "6ce48676-0439-41a7-a4c8-d78ac99dc93e",
   "metadata": {},
   "source": [
    "OpenSimplex noise is an n-dimensional (up to 4D) gradient noise function that was developed in order to overcome the patent-related issues surrounding simplex noise, while likewise avoiding the visually-significant directional artifacts characteristic of Perlin noise. "
   ]
  },
  {
   "cell_type": "code",
   "execution_count": null,
   "id": "b0a05566-135b-451a-afd8-2881e112b166",
   "metadata": {},
   "outputs": [],
   "source": [
    "import opensimplex\n",
    "\n",
    "noise = opensimplex.OpenSimplex(seed=10)\n",
    "n = 100 # Number of values\n",
    "x = [i for i in range(n)] # List of numbers from 0 to 99\n",
    "\n",
    "y = []\n",
    "for i in np.linspace(0, 10, n): # Create 100 point from 0 to 10\n",
    "    y.append(noise.noise2(i, 0))\n",
    "\n",
    "plt.xlim((0, n))\n",
    "plt.ylim((-1, 1))\n",
    "plt.scatter(x, y)\n",
    "plt.plot(x, y, 'r')\n",
    "plt.show()"
   ]
  },
  {
   "cell_type": "markdown",
   "id": "170c3cf6-2ee3-42b6-9cb7-e749c119457b",
   "metadata": {},
   "source": [
    "The pillow package allows to easily create, transform and save images in python. (PIL = Python Imaging Library)"
   ]
  },
  {
   "cell_type": "code",
   "execution_count": null,
   "id": "1bc8a9df-e980-4a93-9d76-cc7b5e5cd2cc",
   "metadata": {},
   "outputs": [],
   "source": [
    "!pip install Pillow"
   ]
  },
  {
   "cell_type": "code",
   "execution_count": null,
   "id": "c5657709-4d45-4749-91b6-144e50d68f94",
   "metadata": {},
   "outputs": [],
   "source": [
    "from PIL import Image\n",
    "\n",
    "width = 256\n",
    "height = 256\n",
    "feature_size = 24.0\n",
    "\n",
    "print('Generating 2D image...')\n",
    "\n",
    "im = Image.new('L', (width, height))\n",
    "\n",
    "for y in range(0, height):\n",
    "    for x in range(0, width):\n",
    "        value = opensimplex.noise2(x / feature_size, y / feature_size)\n",
    "        color = int((value + 1) * 128)\n",
    "        im.putpixel((x, y), color)\n",
    "\n",
    "from IPython.display import Image   \n",
    "display(im)"
   ]
  },
  {
   "cell_type": "code",
   "execution_count": null,
   "id": "20d9f672-4264-4a56-9abb-a20b1796477c",
   "metadata": {},
   "outputs": [],
   "source": [
    "im.save('noise2d.png')"
   ]
  },
  {
   "cell_type": "code",
   "execution_count": null,
   "id": "8a49fcb9-fcb1-46e0-8289-e89c854e1d72",
   "metadata": {},
   "outputs": [],
   "source": [
    "print('Generating 2D slice of 3D...')\n",
    "\n",
    "for y in range(0, height):\n",
    "    for x in range(0, width):\n",
    "        value = opensimplex.noise3(x / feature_size, y / feature_size, 0.0)\n",
    "        color = int((value + 1) * 128)\n",
    "        im.putpixel((x, y), color)\n",
    "\n",
    "display(im)"
   ]
  },
  {
   "cell_type": "markdown",
   "id": "7d16e5e2-f83e-4416-b49c-a45097e687bd",
   "metadata": {},
   "source": [
    "#### Extra: Generating colored noise\n",
    "source: https://github.com/felixpatzelt/colorednoise\n"
   ]
  },
  {
   "cell_type": "code",
   "execution_count": null,
   "id": "15b16e5c-0dfc-4689-bad7-f74ceff46216",
   "metadata": {},
   "outputs": [],
   "source": [
    "from numpy import sqrt, newaxis\n",
    "from numpy.fft import irfft, rfftfreq\n",
    "from numpy.random import normal\n",
    "from numpy import sum as npsum\n",
    "\n",
    "def powerlaw_psd_gaussian(exponent, size, fmin=0):\n",
    "    \n",
    "    \"\"\"Gaussian (1/f)**beta noise.\n",
    "    Based on the algorithm in:\n",
    "    Timmer, J. and Koenig, M.:\n",
    "    On generating power law noise.\n",
    "    Astron. Astrophys. 300, 707-710 (1995)\n",
    "    Normalised to unit variance\n",
    "    Parameters:\n",
    "    -----------\n",
    "    exponent : float\n",
    "        The power-spectrum of the generated noise is proportional to\n",
    "        S(f) = (1 / f)**beta\n",
    "        flicker / pink noise:   exponent beta = 1\n",
    "        brown noise:            exponent beta = 2\n",
    "        Furthermore, the autocorrelation decays proportional to lag**-gamma\n",
    "        with gamma = 1 - beta for 0 < beta < 1.\n",
    "        There may be finite-size issues for beta close to one.\n",
    "    shape : int or iterable\n",
    "        The output has the given shape, and the desired power spectrum in\n",
    "        the last coordinate. That is, the last dimension is taken as time,\n",
    "        and all other components are independent.\n",
    "    fmin : float, optional\n",
    "        Low-frequency cutoff.\n",
    "        Default: 0 corresponds to original paper. It is not actually\n",
    "        zero, but 1/samples.\n",
    "    Returns\n",
    "    -------\n",
    "    out : array\n",
    "        The samples.\n",
    "    Examples:\n",
    "    ---------\n",
    "    # generate 1/f noise == pink noise == flicker noise\n",
    "    >>> import colorednoise as cn\n",
    "    >>> y = cn.powerlaw_psd_gaussian(1, 5)\n",
    "    \"\"\"\n",
    "    \n",
    "    # Make sure size is a list so we can iterate it and assign to it.\n",
    "    try:\n",
    "        size = list(size)\n",
    "    except TypeError:\n",
    "        size = [size]\n",
    "    \n",
    "    # The number of samples in each time series\n",
    "    samples = size[-1]\n",
    "    \n",
    "    # Calculate Frequencies (we asume a sample rate of one)\n",
    "    # Use fft functions for real output (-> hermitian spectrum)\n",
    "    f = rfftfreq(samples)\n",
    "    \n",
    "    # Build scaling factors for all frequencies\n",
    "    s_scale = f\n",
    "    fmin = max(fmin, 1./samples) # Low frequency cutoff\n",
    "    ix   = npsum(s_scale < fmin)   # Index of the cutoff\n",
    "    if ix and ix < len(s_scale):\n",
    "        s_scale[:ix] = s_scale[ix]\n",
    "    s_scale = s_scale**(-exponent/2.)\n",
    "    \n",
    "    # Calculate theoretical output standard deviation from scaling\n",
    "    w      = s_scale[1:].copy()\n",
    "    w[-1] *= (1 + (samples % 2)) / 2. # correct f = +-0.5\n",
    "    sigma = 2 * sqrt(npsum(w**2)) / samples\n",
    "    \n",
    "    # Adjust size to generate one Fourier component per frequency\n",
    "    size[-1] = len(f)\n",
    "\n",
    "    # Add empty dimension(s) to broadcast s_scale along last\n",
    "    # dimension of generated random power + phase (below)\n",
    "    dims_to_add = len(size) - 1\n",
    "    s_scale     = s_scale[(newaxis,) * dims_to_add + (Ellipsis,)]\n",
    "    \n",
    "    # Generate scaled random power + phase\n",
    "    sr = normal(scale=s_scale, size=size)\n",
    "    si = normal(scale=s_scale, size=size)\n",
    "    \n",
    "    # If the signal length is even, frequencies +/- 0.5 are equal\n",
    "    # so the coefficient must be real.\n",
    "    if not (samples % 2): si[...,-1] = 0\n",
    "    \n",
    "    # Regardless of signal length, the DC component must be real\n",
    "    si[...,0] = 0\n",
    "    \n",
    "    # Combine power + corrected phase to Fourier components\n",
    "    s  = sr + 1J * si\n",
    "    \n",
    "    # Transform to real time series & scale to unit variance\n",
    "    y = irfft(s, n=samples, axis=-1) / sigma\n",
    "    \n",
    "    return y\n"
   ]
  },
  {
   "cell_type": "code",
   "execution_count": null,
   "id": "4d07fe9c-cbf7-4e13-b654-25aeed5ed8a6",
   "metadata": {},
   "outputs": [],
   "source": [
    "sample_rate = 32000\n",
    "beta = 2 # the exponent\n",
    "samples = sample_rate * 60 # number of samples to generate\n",
    "\n",
    "waveform = powerlaw_psd_gaussian(beta, samples)\n",
    "\n",
    "Audio(waveform, rate=sample_rate)    "
   ]
  }
 ],
 "metadata": {
  "kernelspec": {
   "display_name": "Python 3 (ipykernel)",
   "language": "python",
   "name": "python3"
  },
  "language_info": {
   "codemirror_mode": {
    "name": "ipython",
    "version": 3
   },
   "file_extension": ".py",
   "mimetype": "text/x-python",
   "name": "python",
   "nbconvert_exporter": "python",
   "pygments_lexer": "ipython3",
   "version": "3.9.13"
  }
 },
 "nbformat": 4,
 "nbformat_minor": 5
}
