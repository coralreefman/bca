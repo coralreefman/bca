{
 "cells": [
  {
   "cell_type": "markdown",
   "id": "e491c46f-e419-4d95-9960-ea7aea85e4dd",
   "metadata": {},
   "source": [
    "# Terminal Basics"
   ]
  },
  {
   "cell_type": "markdown",
   "id": "0911aec8-3ece-4c83-84c0-0f65055b786c",
   "metadata": {},
   "source": [
    "The gateway to power over your machine.  \n",
    "Open a terminal application on your computer."
   ]
  },
  {
   "cell_type": "markdown",
   "id": "671f73f7-2711-45e9-b2b1-d80b165429eb",
   "metadata": {},
   "source": [
    "You will see a prompt like this >  \n",
    "Where you can type commands.  \n",
    "Now type ls + enter.  \n",
    "\n",
    "It prints a list of the files and directories in your home folder.  \n",
    "\n",
    "ls -la for metadata on the files and directories.  \n",
    "\n",
    "List directory ls Documents  \n",
    "cd  \n",
    "cd ..  \n",
    "\n",
    "Navigation, super important:  \n",
    "Hit UP/DOWN arrows to move through the history of previous commands.  \n",
    "Hit TAB to complete a command or path.  \n",
    "\n",
    "Sometimes one need to install programs or data at a restricted location on your drive which requires you gain super user powers.  \n",
    "The sudo command allows one to do this:  \n",
    "sudo apt install library  \n",
    "=> be very careful though, you can severly fuck things up using the sudo command.  \n",
    "\n",
    "In general with Python we work in a clean environment that can be activated with -as we use here- conda.  \n",
    "\n",
    "\n"
   ]
  },
  {
   "cell_type": "markdown",
   "id": "598a2420-9e7b-464d-a7b4-63dd2b50e788",
   "metadata": {},
   "source": []
  }
 ],
 "metadata": {
  "kernelspec": {
   "display_name": "Python 3 (ipykernel)",
   "language": "python",
   "name": "python3"
  },
  "language_info": {
   "codemirror_mode": {
    "name": "ipython",
    "version": 3
   },
   "file_extension": ".py",
   "mimetype": "text/x-python",
   "name": "python",
   "nbconvert_exporter": "python",
   "pygments_lexer": "ipython3",
   "version": "3.9.17"
  }
 },
 "nbformat": 4,
 "nbformat_minor": 5
}
