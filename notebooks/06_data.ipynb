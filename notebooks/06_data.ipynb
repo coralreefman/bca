{
 "cells": [
  {
   "cell_type": "markdown",
   "id": "a6c4a0af-ea7f-4b14-9f5b-049dfeb54686",
   "metadata": {
    "tags": []
   },
   "source": [
    "# Getting Data (API's, scraping, etc.)"
   ]
  },
  {
   "cell_type": "code",
   "execution_count": 1,
   "id": "a4161438-a8cf-41fe-9639-6d153a5adc80",
   "metadata": {},
   "outputs": [
    {
     "data": {
      "text/html": [
       "<img src=\"https://cdn.sanity.io/images/rzso0e8h/production/da8c3c8105c221ea003ea67057b5a75de819d36d-1920x1280.jpg?w=1920&h=1280&auto=format\"/>"
      ],
      "text/plain": [
       "<IPython.core.display.Image object>"
      ]
     },
     "execution_count": 1,
     "metadata": {},
     "output_type": "execute_result"
    }
   ],
   "source": [
    "from IPython.display import Image\n",
    "Image(url='https://cdn.sanity.io/images/rzso0e8h/production/da8c3c8105c221ea003ea67057b5a75de819d36d-1920x1280.jpg?w=1920&h=1280&auto=format')"
   ]
  },
  {
   "cell_type": "markdown",
   "id": "9296ca5a-0d6b-4ed4-9983-b360fdf84510",
   "metadata": {},
   "source": [
    "source: https://labor.org.mx/en/exhibitions/printing-out-the-internet"
   ]
  },
  {
   "cell_type": "markdown",
   "id": "5d506c31-a283-4033-bc7a-76ff650bb24c",
   "metadata": {},
   "source": [
    "https://christopherbaker.net/projects/murmur-study/"
   ]
  },
  {
   "cell_type": "markdown",
   "id": "e1a129be-5982-4282-8e82-c0c509a56252",
   "metadata": {},
   "source": [
    "https://twitter.com/everylotla"
   ]
  },
  {
   "cell_type": "markdown",
   "id": "6f22e866-9fad-475b-b7a6-a325eb2db478",
   "metadata": {},
   "source": [
    "### Data sets\n",
    "\n",
    "Need a collection of hugs and kisses, a huge collection of New York Times articles?  \n",
    "https://academictorrents.com\n",
    "\n",
    "Text corpora  \n",
    "https://github.com/dariusk/corpora/tree/master/data\n",
    "\n",
    "Data from around the world  \n",
    "http://datacatalogs.org/\n",
    "\n",
    "Machine learning datasets  \n",
    "https://www.kaggle.com/datasets\n"
   ]
  },
  {
   "cell_type": "markdown",
   "id": "f5b27e2c-771a-4c5c-808a-be78628f6695",
   "metadata": {
    "tags": []
   },
   "source": [
    "### API's"
   ]
  },
  {
   "cell_type": "markdown",
   "id": "6da76ae1-537d-42ef-9d51-284106cd04ea",
   "metadata": {},
   "source": [
    "#### Wikipedia"
   ]
  },
  {
   "cell_type": "code",
   "execution_count": 2,
   "id": "eb91644c-fa5a-4cf1-9fb7-825b8eb61c32",
   "metadata": {},
   "outputs": [
    {
     "name": "stdout",
     "output_type": "stream",
     "text": [
      "Requirement already satisfied: wikipedia in /Users/c/anaconda3/envs/bca/lib/python3.9/site-packages (1.4.0)\n",
      "Requirement already satisfied: beautifulsoup4 in /Users/c/anaconda3/envs/bca/lib/python3.9/site-packages (from wikipedia) (4.11.1)\n",
      "Requirement already satisfied: requests<3.0.0,>=2.0.0 in /Users/c/anaconda3/envs/bca/lib/python3.9/site-packages (from wikipedia) (2.28.1)\n",
      "Requirement already satisfied: urllib3<1.27,>=1.21.1 in /Users/c/anaconda3/envs/bca/lib/python3.9/site-packages (from requests<3.0.0,>=2.0.0->wikipedia) (1.26.12)\n",
      "Requirement already satisfied: certifi>=2017.4.17 in /Users/c/anaconda3/envs/bca/lib/python3.9/site-packages (from requests<3.0.0,>=2.0.0->wikipedia) (2022.9.24)\n",
      "Requirement already satisfied: idna<4,>=2.5 in /Users/c/anaconda3/envs/bca/lib/python3.9/site-packages (from requests<3.0.0,>=2.0.0->wikipedia) (3.4)\n",
      "Requirement already satisfied: charset-normalizer<3,>=2 in /Users/c/anaconda3/envs/bca/lib/python3.9/site-packages (from requests<3.0.0,>=2.0.0->wikipedia) (2.1.1)\n",
      "Requirement already satisfied: soupsieve>1.2 in /Users/c/anaconda3/envs/bca/lib/python3.9/site-packages (from beautifulsoup4->wikipedia) (2.3.2.post1)\n"
     ]
    }
   ],
   "source": [
    "!pip install wikipedia"
   ]
  },
  {
   "cell_type": "code",
   "execution_count": 8,
   "id": "4d841271-f16c-4d9f-a927-6718763b3f24",
   "metadata": {},
   "outputs": [
    {
     "name": "stdout",
     "output_type": "stream",
     "text": [
      "['https://upload.wikimedia.org/wikipedia/commons/a/ae/C%C3%B4ne_textileII.png', 'https://upload.wikimedia.org/wikipedia/commons/c/c6/Fast_erroneous_self_switching_of_audio_amp_inputs.webm', 'https://upload.wikimedia.org/wikipedia/commons/3/3f/Monty_open_door.svg', 'https://upload.wikimedia.org/wikipedia/commons/3/3e/Nuvola_apps_edu_mathematics_blue-p.svg', 'https://upload.wikimedia.org/wikipedia/commons/3/37/People_icon.svg', 'https://upload.wikimedia.org/wikipedia/commons/e/ec/RandomBitmap.png', 'https://upload.wikimedia.org/wikipedia/commons/2/26/Roulette_wheel.jpg', 'https://upload.wikimedia.org/wikipedia/commons/3/3a/Standard_deviation_diagram_micro.svg', 'https://upload.wikimedia.org/wikipedia/commons/f/fa/Wikiquote-logo.svg', 'https://upload.wikimedia.org/wikipedia/commons/0/0b/Wikiversity_logo_2017.svg', 'https://upload.wikimedia.org/wikipedia/commons/9/99/Wiktionary-logo-en-v2.svg', 'https://upload.wikimedia.org/wikipedia/commons/1/1e/Circle_map_poincare_recurrence.jpeg', 'https://upload.wikimedia.org/wikipedia/en/4/4a/Commons-logo.svg', 'https://upload.wikimedia.org/wikipedia/en/8/8a/OOjs_UI_icon_edit-ltr-progressive.svg', 'https://upload.wikimedia.org/wikipedia/commons/1/16/Pompeii_-_Osteria_della_Via_di_Mercurio_-_Dice_Players.jpg', 'https://upload.wikimedia.org/wikipedia/en/1/1b/Semi-protection-shackle.svg', 'https://upload.wikimedia.org/wikipedia/en/9/96/Symbol_category_class.svg']\n"
     ]
    },
    {
     "data": {
      "text/html": [
       "<img src=\"https://upload.wikimedia.org/wikipedia/commons/a/ae/C%C3%B4ne_textileII.png\"/>"
      ],
      "text/plain": [
       "<IPython.core.display.Image object>"
      ]
     },
     "execution_count": 8,
     "metadata": {},
     "output_type": "execute_result"
    }
   ],
   "source": [
    "import wikipedia\n",
    "\n",
    "'''\n",
    "Install wikipedia first\n",
    "pip install wikipedia\n",
    "\n",
    "Check wikipedia API doc: \n",
    "https://wikipedia.readthedocs.io/en/latest/code.html#api\n",
    "'''\n",
    "\n",
    "# # Search for something\n",
    "# print(wikipedia.search(\"wtf\"))\n",
    "\n",
    "# # Get a summary of page \n",
    "# print(wikipedia.summary(\"random\"))\n",
    "\n",
    "# Get a number of random topics\n",
    "# print(wikipedia.random(pages=4))\n",
    "\n",
    "# # Get a list of image urls of a page\n",
    "print(wikipedia.page(\"random\").images)\n",
    "\n",
    "# # Or just the first image\n",
    "image_url = wikipedia.page(\"random\").images[0]\n",
    "\n",
    "from IPython.display import Image\n",
    "Image(url=image_url)"
   ]
  },
  {
   "cell_type": "markdown",
   "id": "585ec67f-ead2-4751-adda-3b34ff54b37d",
   "metadata": {},
   "source": [
    "https://en.wikipedia.org/wiki/Wikipedia:Getting_to_Philosophy"
   ]
  },
  {
   "cell_type": "markdown",
   "id": "f0cef3a6-112b-45c1-a7da-3b26e4626c49",
   "metadata": {},
   "source": [
    "### Reddit API wrapper (PRAW)"
   ]
  },
  {
   "cell_type": "code",
   "execution_count": 9,
   "id": "3783a8eb-398e-4124-84c3-8833f3a7bc5f",
   "metadata": {},
   "outputs": [
    {
     "name": "stdout",
     "output_type": "stream",
     "text": [
      "Requirement already satisfied: praw in /Users/c/anaconda3/envs/bca/lib/python3.9/site-packages (7.6.0)\n",
      "Requirement already satisfied: prawcore<3,>=2.1 in /Users/c/anaconda3/envs/bca/lib/python3.9/site-packages (from praw) (2.3.0)\n",
      "Requirement already satisfied: websocket-client>=0.54.0 in /Users/c/anaconda3/envs/bca/lib/python3.9/site-packages (from praw) (1.4.1)\n",
      "Requirement already satisfied: update-checker>=0.18 in /Users/c/anaconda3/envs/bca/lib/python3.9/site-packages (from praw) (0.18.0)\n",
      "Requirement already satisfied: requests<3.0,>=2.6.0 in /Users/c/anaconda3/envs/bca/lib/python3.9/site-packages (from prawcore<3,>=2.1->praw) (2.28.1)\n",
      "Requirement already satisfied: charset-normalizer<3,>=2 in /Users/c/anaconda3/envs/bca/lib/python3.9/site-packages (from requests<3.0,>=2.6.0->prawcore<3,>=2.1->praw) (2.1.1)\n",
      "Requirement already satisfied: idna<4,>=2.5 in /Users/c/anaconda3/envs/bca/lib/python3.9/site-packages (from requests<3.0,>=2.6.0->prawcore<3,>=2.1->praw) (3.4)\n",
      "Requirement already satisfied: urllib3<1.27,>=1.21.1 in /Users/c/anaconda3/envs/bca/lib/python3.9/site-packages (from requests<3.0,>=2.6.0->prawcore<3,>=2.1->praw) (1.26.12)\n",
      "Requirement already satisfied: certifi>=2017.4.17 in /Users/c/anaconda3/envs/bca/lib/python3.9/site-packages (from requests<3.0,>=2.6.0->prawcore<3,>=2.1->praw) (2022.9.24)\n"
     ]
    }
   ],
   "source": [
    "!pip install praw"
   ]
  },
  {
   "cell_type": "code",
   "execution_count": 10,
   "id": "3956b5a7-1ea6-4664-84f6-acfb2a9f9068",
   "metadata": {},
   "outputs": [],
   "source": [
    "import praw"
   ]
  },
  {
   "cell_type": "code",
   "execution_count": 12,
   "id": "1984aacc-ac73-4141-9c2a-b07fffc876b2",
   "metadata": {},
   "outputs": [
    {
     "name": "stdout",
     "output_type": "stream",
     "text": [
      "INFO: Connecting to reddit...\n",
      "INFO: Connected\n",
      "/r/WorldNews Live Thread: Russian Invasion of Ukraine Day 253, Part 1 (Thread #394)\n",
      "Putin calls for modernisation of Russian military weapons\n",
      "Germany to force plastic makers to help pay for cleanups\n",
      "Bolsonaro tells protesting truckers to clear roads\n",
      "Russia lost over 700 soldiers and 20 tanks on 2 November\n",
      "‘We are for democracy’: Brazil football fans clear pro-Bolsonaro blockades | Brazil\n",
      "Growing majority of Britons think Brexit was a mistake, new poll shows\n",
      "‘Final Destruction’: Russia Threatens Norway With Ugly Fall Out\n",
      "N.Korea fires over 20 missiles on Wednesday\n",
      "Putin has not yet decided if he'll run for new presidential term in 2024, Kremlin says\n"
     ]
    }
   ],
   "source": [
    "print(\"INFO: Connecting to reddit...\")\n",
    "\n",
    "# For this api to work you need to first register an account \n",
    "# and fill in the data here\n",
    "\n",
    "r = praw.Reddit(\n",
    "    client_id=\"XWqof3jNyi70G1kOhxfVQg\",\n",
    "    client_secret=\"zCBNFDW_b8EbV1nxRrNzBd0-gWmXvQ\",\n",
    "    user_agent=\"Zealousideal-Iron724\",\n",
    ")\n",
    "\n",
    "if not r.read_only:\n",
    "\n",
    "    raise Exception(\"ERROR: Can't connect to reddit\")\n",
    "\n",
    "else:\n",
    "\n",
    "    print(\"INFO: Connected\")\n",
    "    \n",
    "for submission in r.subreddit(\"worldnews\").hot(limit=10):\n",
    "    \n",
    "    print(submission.title)"
   ]
  },
  {
   "cell_type": "markdown",
   "id": "aa1b60ab-5f93-4bf9-aee5-ff9bc8f4fabb",
   "metadata": {},
   "source": [
    "### Youtube downloader (YT-DLP)"
   ]
  },
  {
   "cell_type": "code",
   "execution_count": 13,
   "id": "0d3c99e7-b0c4-41ea-b3ab-7bbc9ae1c424",
   "metadata": {},
   "outputs": [
    {
     "name": "stdout",
     "output_type": "stream",
     "text": [
      "Requirement already satisfied: yt-dlp in /Users/c/anaconda3/envs/bca/lib/python3.9/site-packages (2022.10.4)\n",
      "Requirement already satisfied: certifi in /Users/c/anaconda3/envs/bca/lib/python3.9/site-packages (from yt-dlp) (2022.9.24)\n",
      "Requirement already satisfied: brotli in /Users/c/anaconda3/envs/bca/lib/python3.9/site-packages (from yt-dlp) (1.0.9)\n",
      "Requirement already satisfied: mutagen in /Users/c/anaconda3/envs/bca/lib/python3.9/site-packages (from yt-dlp) (1.46.0)\n",
      "Requirement already satisfied: pycryptodomex in /Users/c/anaconda3/envs/bca/lib/python3.9/site-packages (from yt-dlp) (3.15.0)\n",
      "Requirement already satisfied: websockets in /Users/c/anaconda3/envs/bca/lib/python3.9/site-packages (from yt-dlp) (10.4)\n"
     ]
    }
   ],
   "source": [
    "!pip install yt-dlp"
   ]
  },
  {
   "cell_type": "code",
   "execution_count": 14,
   "id": "96cbe970-ded3-4352-a0bb-370386ae2000",
   "metadata": {},
   "outputs": [],
   "source": [
    "!mkdir yt_vids"
   ]
  },
  {
   "cell_type": "code",
   "execution_count": 15,
   "id": "42b78d7a-8d8a-48f5-b911-ddec64b311ab",
   "metadata": {},
   "outputs": [
    {
     "name": "stdout",
     "output_type": "stream",
     "text": [
      "[youtube] ysU9hh4pBjc: Downloading webpage\n",
      "[youtube] ysU9hh4pBjc: Downloading android player API JSON\n",
      "width: 640, height: 480, duration: 3, title: 360 Rotation of a Scorpion, id: ysU9hh4pBjc\n",
      "[youtube] ysU9hh4pBjc: Downloading webpage\n",
      "[youtube] ysU9hh4pBjc: Downloading android player API JSON\n",
      "[info] ysU9hh4pBjc: Downloading 1 format(s): 135+140\n",
      "[download] Destination: yt_vids/ysU9hh4pBjc.f135.mp4\n",
      "[download] 100% of  277.06KiB in 00:00:00 at 658.66KiB/s \n",
      "[download] Destination: yt_vids/ysU9hh4pBjc.f140.m4a\n",
      "[download] 100% of   55.40KiB in 00:00:00 at 569.01KiB/s \n",
      "[Merger] Merging formats into \"yt_vids/ysU9hh4pBjc.mp4\"\n",
      "Deleting original file yt_vids/ysU9hh4pBjc.f140.m4a (pass -k to keep)\n",
      "Deleting original file yt_vids/ysU9hh4pBjc.f135.mp4 (pass -k to keep)\n"
     ]
    }
   ],
   "source": [
    "import yt_dlp\n",
    "\n",
    "downloads = 'yt_vids'\n",
    "\n",
    "ydl_opts = {\n",
    "    'outtmpl': downloads + '/%(id)s.%(ext)s',\n",
    "    'quiet': False,\n",
    "    'format_sort': ['res:1080', 'ext:mp4:m4a'],\n",
    "    'ignoreerrors': False\n",
    "}\n",
    "\n",
    "URL = 'https://www.youtube.com/watch?v=ysU9hh4pBjc'\n",
    "\n",
    "with yt_dlp.YoutubeDL(ydl_opts) as ydl:\n",
    "    \n",
    "    info = ydl.extract_info(URL, download=False)\n",
    "    \n",
    "    if info:\n",
    "        width = info.get('width')\n",
    "        height = info.get('height')\n",
    "        duration = info.get('duration')\n",
    "        title = info.get('title')\n",
    "        id = info.get('id')\n",
    "        \n",
    "    \n",
    "    print(\"width: {}, height: {}, duration: {}, title: {}, id: {}\".format(width, height, duration, title, id))\n",
    "    ydl.download(URL)   "
   ]
  },
  {
   "cell_type": "code",
   "execution_count": 16,
   "id": "a47deabf-4090-42eb-bf6e-706e9fdbd9a2",
   "metadata": {},
   "outputs": [
    {
     "name": "stdout",
     "output_type": "stream",
     "text": [
      "ysU9hh4pBjc\n"
     ]
    }
   ],
   "source": [
    "print(id)"
   ]
  },
  {
   "cell_type": "code",
   "execution_count": 17,
   "id": "09a6fc68-a648-4e2a-816f-a7dc679e3c95",
   "metadata": {},
   "outputs": [
    {
     "data": {
      "text/html": [
       "<video src=\"yt_vids/ysU9hh4pBjc.mp4\" controls  >\n",
       "      Your browser does not support the <code>video</code> element.\n",
       "    </video>"
      ],
      "text/plain": [
       "<IPython.core.display.Video object>"
      ]
     },
     "execution_count": 17,
     "metadata": {},
     "output_type": "execute_result"
    }
   ],
   "source": [
    "from IPython.display import Video\n",
    "\n",
    "Video(\"yt_vids/{}.mp4\".format(id))  "
   ]
  },
  {
   "cell_type": "markdown",
   "id": "b10ee5b9-f68f-4680-8dc9-dc4a0eb5efd7",
   "metadata": {},
   "source": [
    "You can find some documentation here: https://github.com/yt-dlp/yt-dlp#embedding-yt-dlp"
   ]
  },
  {
   "cell_type": "markdown",
   "id": "94192dc6-9d28-4224-98ad-a478890d60a9",
   "metadata": {},
   "source": [
    "### Downloading unsecured IP cameras"
   ]
  },
  {
   "cell_type": "code",
   "execution_count": null,
   "id": "47ec1417-bea5-4a54-829b-9f5ff4929b8a",
   "metadata": {},
   "outputs": [],
   "source": [
    "http://insecam.org/en/view/921591/"
   ]
  },
  {
   "cell_type": "code",
   "execution_count": null,
   "id": "cc3ab26b-bd7f-4804-a2e3-05a6ee449202",
   "metadata": {},
   "outputs": [],
   "source": [
    "!pip install ffmpeg-python"
   ]
  },
  {
   "cell_type": "code",
   "execution_count": 21,
   "id": "3f137d11-9848-48fc-8893-eb9d89dbb0ef",
   "metadata": {},
   "outputs": [],
   "source": [
    "import ffmpeg \n",
    "import os\n",
    "import time"
   ]
  },
  {
   "cell_type": "code",
   "execution_count": 22,
   "id": "daeb4bed-31bd-4e5c-b4c7-01827f2b0281",
   "metadata": {},
   "outputs": [],
   "source": [
    "cam_urls = [\n",
    "    \"http://128.101.85.194/mjpg/video.mjpg\",\n",
    "    \"http://96.91.239.26:1024/mjpg/video.mjpg\",\n",
    "    \"http://84.82.29.229:8080/mjpg/video.mjpg\"\n",
    "]"
   ]
  },
  {
   "cell_type": "code",
   "execution_count": 23,
   "id": "62f2bd39-2472-4388-b249-9d6ea7c809c5",
   "metadata": {},
   "outputs": [],
   "source": [
    "def download_from_ip(url, dir, idx):\n",
    "\n",
    "    out_path = os.path.join(dir, \"stream_{:03d}\".format(idx))\n",
    "    \n",
    "    process = (\n",
    "        ffmpeg\n",
    "        .input(url)\n",
    "        .output('{}.mkv'.format(out_path), codec=\"copy\")\n",
    "        .overwrite_output()\n",
    "        .run_async(pipe_stdout=True)\n",
    "    )\n",
    "    \n",
    "    print(\"starting capture\")\n",
    "    time.sleep(10)\n",
    "    print(\"ending capture\")\n",
    "    process.stdout.close()\n",
    "    process.kill()\n",
    "        "
   ]
  },
  {
   "cell_type": "code",
   "execution_count": 24,
   "id": "430720da-a275-491e-9ae3-b3afb48ea54c",
   "metadata": {},
   "outputs": [
    {
     "name": "stdout",
     "output_type": "stream",
     "text": [
      "starting capture\n"
     ]
    },
    {
     "name": "stderr",
     "output_type": "stream",
     "text": [
      "ffmpeg version 5.0.1 Copyright (c) 2000-2022 the FFmpeg developers\n",
      "  built with Apple clang version 13.0.0 (clang-1300.0.29.30)\n",
      "  configuration: --prefix=/usr/local/Cellar/ffmpeg/5.0.1 --enable-shared --enable-pthreads --enable-version3 --cc=clang --host-cflags= --host-ldflags= --enable-ffplay --enable-gnutls --enable-gpl --enable-libaom --enable-libbluray --enable-libdav1d --enable-libmp3lame --enable-libopus --enable-librav1e --enable-librist --enable-librubberband --enable-libsnappy --enable-libsrt --enable-libtesseract --enable-libtheora --enable-libvidstab --enable-libvmaf --enable-libvorbis --enable-libvpx --enable-libwebp --enable-libx264 --enable-libx265 --enable-libxml2 --enable-libxvid --enable-lzma --enable-libfontconfig --enable-libfreetype --enable-frei0r --enable-libass --enable-libopencore-amrnb --enable-libopencore-amrwb --enable-libopenjpeg --enable-libspeex --enable-libsoxr --enable-libzmq --enable-libzimg --disable-libjack --disable-indev=jack --enable-videotoolbox\n",
      "  libavutil      57. 17.100 / 57. 17.100\n",
      "  libavcodec     59. 18.100 / 59. 18.100\n",
      "  libavformat    59. 16.100 / 59. 16.100\n",
      "  libavdevice    59.  4.100 / 59.  4.100\n",
      "  libavfilter     8. 24.100 /  8. 24.100\n",
      "  libswscale      6.  4.100 /  6.  4.100\n",
      "  libswresample   4.  3.100 /  4.  3.100\n",
      "  libpostproc    56.  3.100 / 56.  3.100\n",
      "Input #0, mpjpeg, from 'http://128.101.85.194/mjpg/video.mjpg':\n",
      "  Duration: N/A, bitrate: N/A\n",
      "  Stream #0:0: Video: mjpeg (Baseline), yuvj420p(pc, bt470bg/unknown/unknown), 1280x720 [SAR 1:1 DAR 16:9], 25 tbr, 25 tbn\n",
      "Output #0, matroska, to 'insecam_streams/stream_000.mkv':\n",
      "  Metadata:\n",
      "    encoder         : Lavf59.16.100\n",
      "  Stream #0:0: Video: mjpeg (Baseline) (MJPG / 0x47504A4D), yuvj420p(pc, bt470bg/unknown/unknown), 1280x720 [SAR 1:1 DAR 16:9], q=2-31, 25 tbr, 1k tbn\n",
      "Stream mapping:\n",
      "  Stream #0:0 -> #0:0 (copy)\n",
      "Press [q] to stop, [?] for help\n",
      "frame=   22 fps=3.0 q=-1.0 size=    2816kB time=00:00:00.84 bitrate=27430.0kbits/s speed=0.114x    \r"
     ]
    },
    {
     "name": "stdout",
     "output_type": "stream",
     "text": [
      "ending capture\n",
      "starting capture\n"
     ]
    },
    {
     "name": "stderr",
     "output_type": "stream",
     "text": [
      "ffmpeg version 5.0.1 Copyright (c) 2000-2022 the FFmpeg developers\n",
      "  built with Apple clang version 13.0.0 (clang-1300.0.29.30)\n",
      "  configuration: --prefix=/usr/local/Cellar/ffmpeg/5.0.1 --enable-shared --enable-pthreads --enable-version3 --cc=clang --host-cflags= --host-ldflags= --enable-ffplay --enable-gnutls --enable-gpl --enable-libaom --enable-libbluray --enable-libdav1d --enable-libmp3lame --enable-libopus --enable-librav1e --enable-librist --enable-librubberband --enable-libsnappy --enable-libsrt --enable-libtesseract --enable-libtheora --enable-libvidstab --enable-libvmaf --enable-libvorbis --enable-libvpx --enable-libwebp --enable-libx264 --enable-libx265 --enable-libxml2 --enable-libxvid --enable-lzma --enable-libfontconfig --enable-libfreetype --enable-frei0r --enable-libass --enable-libopencore-amrnb --enable-libopencore-amrwb --enable-libopenjpeg --enable-libspeex --enable-libsoxr --enable-libzmq --enable-libzimg --disable-libjack --disable-indev=jack --enable-videotoolbox\n",
      "  libavutil      57. 17.100 / 57. 17.100\n",
      "  libavcodec     59. 18.100 / 59. 18.100\n",
      "  libavformat    59. 16.100 / 59. 16.100\n",
      "  libavdevice    59.  4.100 / 59.  4.100\n",
      "  libavfilter     8. 24.100 /  8. 24.100\n",
      "  libswscale      6.  4.100 /  6.  4.100\n",
      "  libswresample   4.  3.100 /  4.  3.100\n",
      "  libpostproc    56.  3.100 / 56.  3.100\n",
      "Input #0, mpjpeg, from 'http://96.91.239.26:1024/mjpg/video.mjpg':\n",
      "  Duration: N/A, bitrate: N/A\n",
      "  Stream #0:0: Video: mjpeg (Baseline), yuvj420p(pc, bt470bg/unknown/unknown), 1280x720 [SAR 1:1 DAR 16:9], 25 tbr, 25 tbn\n",
      "Output #0, matroska, to 'insecam_streams/stream_001.mkv':\n",
      "  Metadata:\n",
      "    encoder         : Lavf59.16.100\n",
      "  Stream #0:0: Video: mjpeg (Baseline) (MJPG / 0x47504A4D), yuvj420p(pc, bt470bg/unknown/unknown), 1280x720 [SAR 1:1 DAR 16:9], q=2-31, 25 tbr, 1k tbn\n",
      "Stream mapping:\n",
      "  Stream #0:0 -> #0:0 (copy)\n",
      "Press [q] to stop, [?] for help\n",
      "frame=   73 fps=8.5 q=-1.0 size=    3328kB time=00:00:02.88 bitrate=9463.0kbits/s speed=0.335x    \r"
     ]
    },
    {
     "name": "stdout",
     "output_type": "stream",
     "text": [
      "ending capture\n",
      "starting capture\n"
     ]
    },
    {
     "name": "stderr",
     "output_type": "stream",
     "text": [
      "ffmpeg version 5.0.1 Copyright (c) 2000-2022 the FFmpeg developers\n",
      "  built with Apple clang version 13.0.0 (clang-1300.0.29.30)\n",
      "  configuration: --prefix=/usr/local/Cellar/ffmpeg/5.0.1 --enable-shared --enable-pthreads --enable-version3 --cc=clang --host-cflags= --host-ldflags= --enable-ffplay --enable-gnutls --enable-gpl --enable-libaom --enable-libbluray --enable-libdav1d --enable-libmp3lame --enable-libopus --enable-librav1e --enable-librist --enable-librubberband --enable-libsnappy --enable-libsrt --enable-libtesseract --enable-libtheora --enable-libvidstab --enable-libvmaf --enable-libvorbis --enable-libvpx --enable-libwebp --enable-libx264 --enable-libx265 --enable-libxml2 --enable-libxvid --enable-lzma --enable-libfontconfig --enable-libfreetype --enable-frei0r --enable-libass --enable-libopencore-amrnb --enable-libopencore-amrwb --enable-libopenjpeg --enable-libspeex --enable-libsoxr --enable-libzmq --enable-libzimg --disable-libjack --disable-indev=jack --enable-videotoolbox\n",
      "  libavutil      57. 17.100 / 57. 17.100\n",
      "  libavcodec     59. 18.100 / 59. 18.100\n",
      "  libavformat    59. 16.100 / 59. 16.100\n",
      "  libavdevice    59.  4.100 / 59.  4.100\n",
      "  libavfilter     8. 24.100 /  8. 24.100\n",
      "  libswscale      6.  4.100 /  6.  4.100\n",
      "  libswresample   4.  3.100 /  4.  3.100\n",
      "  libpostproc    56.  3.100 / 56.  3.100\n",
      "Input #0, mpjpeg, from 'http://84.82.29.229:8080/mjpg/video.mjpg':\n",
      "  Duration: N/A, bitrate: N/A\n",
      "  Stream #0:0: Video: mjpeg (Baseline), yuvj420p(pc, bt470bg/unknown/unknown), 800x600 [SAR 1:1 DAR 4:3], 25 tbr, 25 tbn\n",
      "Output #0, matroska, to 'insecam_streams/stream_002.mkv':\n",
      "  Metadata:\n",
      "    encoder         : Lavf59.16.100\n",
      "  Stream #0:0: Video: mjpeg (Baseline) (MJPG / 0x47504A4D), yuvj420p(pc, bt470bg/unknown/unknown), 800x600 [SAR 1:1 DAR 4:3], q=2-31, 25 tbr, 1k tbn\n",
      "Stream mapping:\n",
      "  Stream #0:0 -> #0:0 (copy)\n",
      "Press [q] to stop, [?] for help\n",
      "frame=  287 fps= 30 q=-1.0 size=   12544kB time=00:00:11.44 bitrate=8981.8kbits/s speed=1.21x     \r"
     ]
    },
    {
     "name": "stdout",
     "output_type": "stream",
     "text": [
      "ending capture\n"
     ]
    }
   ],
   "source": [
    "out_dir = \"insecam_streams\"\n",
    "\n",
    "if not os.path.exists(out_dir):\n",
    "    \n",
    "    os.makedirs(out_dir)\n",
    "\n",
    "for idx, url in enumerate(cam_urls):\n",
    "\n",
    "    download_from_ip(url, out_dir, idx)"
   ]
  },
  {
   "cell_type": "markdown",
   "id": "01447d37-cb30-4100-92f9-5264a4265bc2",
   "metadata": {},
   "source": [
    "### Download livstreams with streamlink"
   ]
  },
  {
   "cell_type": "code",
   "execution_count": 27,
   "id": "be5344d7-c29b-4d9a-b46f-8cb4388fc360",
   "metadata": {},
   "outputs": [
    {
     "name": "stdout",
     "output_type": "stream",
     "text": [
      "Requirement already satisfied: streamlink in /Users/c/anaconda3/envs/bca/lib/python3.9/site-packages (5.0.1)\n",
      "Requirement already satisfied: pycountry in /Users/c/anaconda3/envs/bca/lib/python3.9/site-packages (from streamlink) (22.3.5)\n",
      "Requirement already satisfied: lxml<5.0,>=4.6.4 in /Users/c/anaconda3/envs/bca/lib/python3.9/site-packages (from streamlink) (4.9.1)\n",
      "Requirement already satisfied: requests<3.0,>=2.26.0 in /Users/c/anaconda3/envs/bca/lib/python3.9/site-packages (from streamlink) (2.28.1)\n",
      "Requirement already satisfied: isodate in /Users/c/anaconda3/envs/bca/lib/python3.9/site-packages (from streamlink) (0.6.1)\n",
      "Requirement already satisfied: pycryptodome<4,>=3.4.3 in /Users/c/anaconda3/envs/bca/lib/python3.9/site-packages (from streamlink) (3.15.0)\n",
      "Requirement already satisfied: PySocks!=1.5.7,>=1.5.6 in /Users/c/anaconda3/envs/bca/lib/python3.9/site-packages (from streamlink) (1.7.1)\n",
      "Requirement already satisfied: websocket-client<2.0,>=1.2.1 in /Users/c/anaconda3/envs/bca/lib/python3.9/site-packages (from streamlink) (1.4.1)\n",
      "Requirement already satisfied: certifi>=2017.4.17 in /Users/c/anaconda3/envs/bca/lib/python3.9/site-packages (from requests<3.0,>=2.26.0->streamlink) (2022.9.24)\n",
      "Requirement already satisfied: urllib3<1.27,>=1.21.1 in /Users/c/anaconda3/envs/bca/lib/python3.9/site-packages (from requests<3.0,>=2.26.0->streamlink) (1.26.12)\n",
      "Requirement already satisfied: idna<4,>=2.5 in /Users/c/anaconda3/envs/bca/lib/python3.9/site-packages (from requests<3.0,>=2.26.0->streamlink) (3.4)\n",
      "Requirement already satisfied: charset-normalizer<3,>=2 in /Users/c/anaconda3/envs/bca/lib/python3.9/site-packages (from requests<3.0,>=2.26.0->streamlink) (2.1.1)\n",
      "Requirement already satisfied: six in /Users/c/anaconda3/envs/bca/lib/python3.9/site-packages (from isodate->streamlink) (1.16.0)\n",
      "Requirement already satisfied: setuptools in /Users/c/anaconda3/envs/bca/lib/python3.9/site-packages (from pycountry->streamlink) (65.4.0)\n"
     ]
    }
   ],
   "source": [
    "!pip install streamlink"
   ]
  },
  {
   "cell_type": "code",
   "execution_count": 29,
   "id": "d7993c13-61cc-44bc-a4f9-49c3708a7c66",
   "metadata": {},
   "outputs": [
    {
     "name": "stdout",
     "output_type": "stream",
     "text": [
      "found stream at https://adultswim-vodlive.cdn.turner.com/live/rick-and-morty/stream_7.m3u8\n",
      "starting capture\n"
     ]
    },
    {
     "name": "stderr",
     "output_type": "stream",
     "text": [
      "ffmpeg version 5.0.1 Copyright (c) 2000-2022 the FFmpeg developers\n",
      "  built with Apple clang version 13.0.0 (clang-1300.0.29.30)\n",
      "  configuration: --prefix=/usr/local/Cellar/ffmpeg/5.0.1 --enable-shared --enable-pthreads --enable-version3 --cc=clang --host-cflags= --host-ldflags= --enable-ffplay --enable-gnutls --enable-gpl --enable-libaom --enable-libbluray --enable-libdav1d --enable-libmp3lame --enable-libopus --enable-librav1e --enable-librist --enable-librubberband --enable-libsnappy --enable-libsrt --enable-libtesseract --enable-libtheora --enable-libvidstab --enable-libvmaf --enable-libvorbis --enable-libvpx --enable-libwebp --enable-libx264 --enable-libx265 --enable-libxml2 --enable-libxvid --enable-lzma --enable-libfontconfig --enable-libfreetype --enable-frei0r --enable-libass --enable-libopencore-amrnb --enable-libopencore-amrwb --enable-libopenjpeg --enable-libspeex --enable-libsoxr --enable-libzmq --enable-libzimg --disable-libjack --disable-indev=jack --enable-videotoolbox\n",
      "  libavutil      57. 17.100 / 57. 17.100\n",
      "  libavcodec     59. 18.100 / 59. 18.100\n",
      "  libavformat    59. 16.100 / 59. 16.100\n",
      "  libavdevice    59.  4.100 / 59.  4.100\n",
      "  libavfilter     8. 24.100 /  8. 24.100\n",
      "  libswscale      6.  4.100 /  6.  4.100\n",
      "  libswresample   4.  3.100 /  4.  3.100\n",
      "  libpostproc    56.  3.100 / 56.  3.100\n",
      "[hls @ 0x7fe9f44110c0] Skip ('#EXT-X-VERSION:5')\n",
      "[hls @ 0x7fe9f44110c0] Skip ('#EXT-X-PROGRAM-DATE-TIME:2022-11-03T10:48:00.076Z')\n",
      "[hls @ 0x7fe9f44110c0] Skip ('#EXT-X-PROGRAM-DATE-TIME:2022-11-03T10:48:10.086Z')\n",
      "[hls @ 0x7fe9f44110c0] Skip ('#EXT-X-PROGRAM-DATE-TIME:2022-11-03T10:48:20.096Z')\n",
      "[hls @ 0x7fe9f44110c0] Skip ('#EXT-X-PROGRAM-DATE-TIME:2022-11-03T10:48:30.106Z')\n",
      "[hls @ 0x7fe9f44110c0] Skip ('#EXT-X-PROGRAM-DATE-TIME:2022-11-03T10:48:40.116Z')\n",
      "[hls @ 0x7fe9f44110c0] Skip ('#EXT-X-PROGRAM-DATE-TIME:2022-11-03T10:48:50.126Z')\n",
      "[hls @ 0x7fe9f44110c0] Skip ('#EXT-X-PROGRAM-DATE-TIME:2022-11-03T10:49:00.136Z')\n",
      "[hls @ 0x7fe9f44110c0] Skip ('#EXT-X-PROGRAM-DATE-TIME:2022-11-03T10:49:10.146Z')\n",
      "[hls @ 0x7fe9f44110c0] Skip ('#EXT-X-DISCONTINUITY')\n",
      "[hls @ 0x7fe9f44110c0] Skip ('#EXT-X-ASSET:CAID=0x0000000000000002')\n",
      "[hls @ 0x7fe9f44110c0] Skip ('#EXT-X-CUE-OUT:90.090')\n",
      "[hls @ 0x7fe9f44110c0] Skip ('#EXT-X-PROGRAM-DATE-TIME:2022-11-03T10:49:20.789Z')\n",
      "[hls @ 0x7fe9f44110c0] Skip ('#EXT-X-CUE-OUT-CONT:CAID=0x0000000000000002,Duration=90.090,ElapsedTime=10.010')\n",
      "[hls @ 0x7fe9f44110c0] Skip ('#EXT-X-PROGRAM-DATE-TIME:2022-11-03T10:49:30.799Z')\n",
      "[hls @ 0x7fe9f44110c0] Skip ('#EXT-X-CUE-OUT-CONT:CAID=0x0000000000000002,Duration=90.090,ElapsedTime=20.020')\n",
      "[hls @ 0x7fe9f44110c0] Skip ('#EXT-X-PROGRAM-DATE-TIME:2022-11-03T10:49:40.809Z')\n",
      "[hls @ 0x7fe9f44110c0] Skip ('#EXT-X-CUE-OUT-CONT:CAID=0x0000000000000002,Duration=90.090,ElapsedTime=30.030')\n",
      "[hls @ 0x7fe9f44110c0] Skip ('#EXT-X-PROGRAM-DATE-TIME:2022-11-03T10:49:50.819Z')\n",
      "[hls @ 0x7fe9f44110c0] Skip ('#EXT-X-CUE-OUT-CONT:CAID=0x0000000000000002,Duration=90.090,ElapsedTime=40.040')\n",
      "[hls @ 0x7fe9f44110c0] Skip ('#EXT-X-PROGRAM-DATE-TIME:2022-11-03T10:50:00.829Z')\n",
      "[hls @ 0x7fe9f44110c0] Skip ('#EXT-X-CUE-OUT-CONT:CAID=0x0000000000000002,Duration=90.090,ElapsedTime=50.050')\n",
      "[hls @ 0x7fe9f44110c0] Skip ('#EXT-X-PROGRAM-DATE-TIME:2022-11-03T10:50:10.839Z')\n",
      "[hls @ 0x7fe9f44110c0] Skip ('#EXT-X-CUE-OUT-CONT:CAID=0x0000000000000002,Duration=90.090,ElapsedTime=60.060')\n",
      "[hls @ 0x7fe9f44110c0] Skip ('#EXT-X-PROGRAM-DATE-TIME:2022-11-03T10:50:20.849Z')\n",
      "[hls @ 0x7fe9f44110c0] Skip ('#EXT-X-CUE-OUT-CONT:CAID=0x0000000000000002,Duration=90.090,ElapsedTime=70.070')\n",
      "[hls @ 0x7fe9f44110c0] Skip ('#EXT-X-PROGRAM-DATE-TIME:2022-11-03T10:50:30.859Z')\n",
      "[hls @ 0x7fe9f44110c0] Skip ('#EXT-X-CUE-OUT-CONT:CAID=0x0000000000000002,Duration=90.090,ElapsedTime=80.080')\n",
      "[hls @ 0x7fe9f44110c0] Skip ('#EXT-X-PROGRAM-DATE-TIME:2022-11-03T10:50:40.869Z')\n",
      "[hls @ 0x7fe9f44110c0] Skip ('#EXT-X-DISCONTINUITY')\n",
      "[hls @ 0x7fe9f44110c0] Skip ('#EXT-X-CUE-IN')\n",
      "[hls @ 0x7fe9f44110c0] Skip ('#EXT-X-PROGRAM-DATE-TIME:2022-11-03T10:50:50.880Z')\n",
      "[hls @ 0x7fe9f44110c0] Skip ('#EXT-X-PROGRAM-DATE-TIME:2022-11-03T10:51:00.890Z')\n",
      "[hls @ 0x7fe9f44110c0] Skip ('#EXT-X-DISCONTINUITY')\n",
      "[hls @ 0x7fe9f44110c0] Skip ('#EXT-X-PROGRAM-DATE-TIME:2022-11-03T10:51:10.858Z')\n",
      "[hls @ 0x7fe9f44110c0] Skip ('#EXT-X-PROGRAM-DATE-TIME:2022-11-03T10:51:20.868Z')\n",
      "[hls @ 0x7fe9f44110c0] Skip ('#EXT-X-PROGRAM-DATE-TIME:2022-11-03T10:51:30.878Z')\n",
      "[hls @ 0x7fe9f44110c0] Skip ('#EXT-X-PROGRAM-DATE-TIME:2022-11-03T10:51:40.888Z')\n",
      "[hls @ 0x7fe9f44110c0] Skip ('#EXT-X-PROGRAM-DATE-TIME:2022-11-03T10:51:50.898Z')\n",
      "[hls @ 0x7fe9f44110c0] Skip ('#EXT-X-PROGRAM-DATE-TIME:2022-11-03T10:52:00.908Z')\n",
      "[hls @ 0x7fe9f44110c0] Skip ('#EXT-X-PROGRAM-DATE-TIME:2022-11-03T10:52:10.918Z')\n",
      "[hls @ 0x7fe9f44110c0] Skip ('#EXT-X-PROGRAM-DATE-TIME:2022-11-03T10:52:20.928Z')\n",
      "[hls @ 0x7fe9f44110c0] Skip ('#EXT-X-PROGRAM-DATE-TIME:2022-11-03T10:52:30.938Z')\n",
      "[hls @ 0x7fe9f44110c0] Skip ('#EXT-X-PROGRAM-DATE-TIME:2022-11-03T10:52:40.948Z')\n",
      "[hls @ 0x7fe9f44110c0] Skip ('#EXT-X-PROGRAM-DATE-TIME:2022-11-03T10:52:50.958Z')\n",
      "[hls @ 0x7fe9f44110c0] Opening 'https://adultswim-vodlive.cdn.turner.com/996267131a01c84001285c277a355fef/layer7/seg.key' for reading\n",
      "[hls @ 0x7fe9f44110c0] Opening 'crypto+https://adultswim-vodlive.cdn.turner.com/996267131a01c84001285c277a355fef/layer7/seg-0_00008.ts' for reading\n",
      "Input #0, hls, from 'https://adultswim-vodlive.cdn.turner.com/live/rick-and-morty/stream_7.m3u8':\n",
      "  Duration: N/A, start: 81.389822, bitrate: N/A\n",
      "  Program 0 \n",
      "    Metadata:\n",
      "      variant_bitrate : 0\n",
      "  Stream #0:0: Video: h264 (High) ([27][0][0][0] / 0x001B), yuv420p, 1920x1080 [SAR 1:1 DAR 16:9], Closed Captions, 29.97 fps, 29.97 tbr, 90k tbn\n",
      "    Metadata:\n",
      "      variant_bitrate : 0\n",
      "  Stream #0:1: Audio: aac (LC) ([15][0][0][0] / 0x000F), 44100 Hz, stereo, fltp\n",
      "    Metadata:\n",
      "      variant_bitrate : 0\n",
      "Output #0, matroska, to 'streamlink/rick-and-morty.mkv':\n",
      "  Metadata:\n",
      "    encoder         : Lavf59.16.100\n",
      "  Stream #0:0: Video: h264 (High) (H264 / 0x34363248), yuv420p, 1920x1080 [SAR 1:1 DAR 16:9], q=2-31, 29.97 fps, 29.97 tbr, 1k tbn\n",
      "    Metadata:\n",
      "      variant_bitrate : 0\n",
      "  Stream #0:1: Audio: aac (LC) ([255][0][0][0] / 0x00FF), 44100 Hz, stereo, fltp\n",
      "    Metadata:\n",
      "      variant_bitrate : 0\n",
      "Stream mapping:\n",
      "  Stream #0:0 -> #0:0 (copy)\n",
      "  Stream #0:1 -> #0:1 (copy)\n",
      "Press [q] to stop, [?] for help\n",
      "[hls @ 0x7fe9f44110c0] Opening 'crypto+https://adultswim-vodlive.cdn.turner.com/996267131a01c84001285c277a355fef/layer7/seg-0_00009.ts' for reading\n",
      "[hls @ 0x7fe9f44110c0] Opening 'crypto+https://adultswim-vodlive.cdn.turner.com/996267131a01c84001285c277a355fef/layer7/seg-0_00010.ts' for reading\n"
     ]
    },
    {
     "name": "stdout",
     "output_type": "stream",
     "text": [
      "ending capture\n"
     ]
    }
   ],
   "source": [
    "import streamlink\n",
    "\n",
    "url = \"https://www.adultswim.com/streams/rick-and-morty\"\n",
    "\n",
    "out_dir = \"streamlink\"\n",
    "\n",
    "if not os.path.exists(out_dir):\n",
    "    \n",
    "    os.makedirs(out_dir)\n",
    "\n",
    "try:\n",
    "    \n",
    "    stream_url = streamlink.streams(url)['best'].url\n",
    "    \n",
    "except:\n",
    "    \n",
    "    print(\"couldn't find stream at {}\".format(url))\n",
    "\n",
    "print(\"found stream at {}\".format(stream_url))\n",
    "\n",
    "streamer = url.split(\"/\")[-1]\n",
    "\n",
    "out_path = os.path.join(out_dir, streamer)\n",
    "\n",
    "process = (\n",
    "    ffmpeg\n",
    "    .input(stream_url)\n",
    "    .output('{}.mkv'.format(out_path), codec=\"copy\")\n",
    "    .overwrite_output()\n",
    "    .run_async(pipe_stdout=True)\n",
    ")\n",
    "\n",
    "print(\"starting capture\")\n",
    "time.sleep(10)\n",
    "print(\"ending capture\")\n",
    "process.stdout.close()\n",
    "process.kill()"
   ]
  },
  {
   "cell_type": "markdown",
   "id": "4558789f-9873-47a8-9d24-a889fd260cf3",
   "metadata": {},
   "source": [
    "You can check all streamlink plugins here: https://streamlink.github.io/plugins.html#plugins"
   ]
  },
  {
   "cell_type": "code",
   "execution_count": 30,
   "id": "cbcccd9c-061b-4783-9cdd-46a6039f9ac8",
   "metadata": {},
   "outputs": [
    {
     "name": "stdout",
     "output_type": "stream",
     "text": [
      "Requirement already satisfied: pandas in /Users/c/anaconda3/envs/bca/lib/python3.9/site-packages (1.5.1)\n",
      "Requirement already satisfied: python-dateutil>=2.8.1 in /Users/c/anaconda3/envs/bca/lib/python3.9/site-packages (from pandas) (2.8.2)\n",
      "Requirement already satisfied: numpy>=1.20.3 in /Users/c/anaconda3/envs/bca/lib/python3.9/site-packages (from pandas) (1.23.4)\n",
      "Requirement already satisfied: pytz>=2020.1 in /Users/c/anaconda3/envs/bca/lib/python3.9/site-packages (from pandas) (2022.5)\n",
      "Requirement already satisfied: six>=1.5 in /Users/c/anaconda3/envs/bca/lib/python3.9/site-packages (from python-dateutil>=2.8.1->pandas) (1.16.0)\n"
     ]
    }
   ],
   "source": [
    "!pip install pandas"
   ]
  },
  {
   "cell_type": "code",
   "execution_count": 31,
   "id": "47b25208-1bca-4120-bf1b-24dfc82136a1",
   "metadata": {},
   "outputs": [],
   "source": [
    "import pandas as pd"
   ]
  },
  {
   "cell_type": "code",
   "execution_count": 32,
   "id": "6f41d39b-c74d-4674-a8b6-28fe3d297b3b",
   "metadata": {},
   "outputs": [
    {
     "data": {
      "text/plain": [
       "0    San Francisco\n",
       "1         San Jose\n",
       "2       Sacramento\n",
       "dtype: object"
      ]
     },
     "execution_count": 32,
     "metadata": {},
     "output_type": "execute_result"
    }
   ],
   "source": [
    "pd.Series(['San Francisco', 'San Jose', 'Sacramento'])"
   ]
  },
  {
   "cell_type": "markdown",
   "id": "a2248853-93a8-41fc-ac47-8221d9744914",
   "metadata": {},
   "source": [
    "`DataFrame` objects can be created by passing a `dict` mapping `string` column names to their respective `Series`. If the `Series` don't match in length, missing values are filled with special [NA/NaN](http://pandas.pydata.org/pandas-docs/stable/missing_data.html) values. Example:"
   ]
  },
  {
   "cell_type": "code",
   "execution_count": 34,
   "id": "48584f6d-a5a9-43ad-bbcb-f7bc0d708855",
   "metadata": {},
   "outputs": [
    {
     "data": {
      "text/html": [
       "<div>\n",
       "<style scoped>\n",
       "    .dataframe tbody tr th:only-of-type {\n",
       "        vertical-align: middle;\n",
       "    }\n",
       "\n",
       "    .dataframe tbody tr th {\n",
       "        vertical-align: top;\n",
       "    }\n",
       "\n",
       "    .dataframe thead th {\n",
       "        text-align: right;\n",
       "    }\n",
       "</style>\n",
       "<table border=\"1\" class=\"dataframe\">\n",
       "  <thead>\n",
       "    <tr style=\"text-align: right;\">\n",
       "      <th></th>\n",
       "      <th>City name</th>\n",
       "      <th>Population</th>\n",
       "    </tr>\n",
       "  </thead>\n",
       "  <tbody>\n",
       "    <tr>\n",
       "      <th>0</th>\n",
       "      <td>San Francisco</td>\n",
       "      <td>852469</td>\n",
       "    </tr>\n",
       "    <tr>\n",
       "      <th>1</th>\n",
       "      <td>San Jose</td>\n",
       "      <td>1015785</td>\n",
       "    </tr>\n",
       "    <tr>\n",
       "      <th>2</th>\n",
       "      <td>Sacramento</td>\n",
       "      <td>485199</td>\n",
       "    </tr>\n",
       "  </tbody>\n",
       "</table>\n",
       "</div>"
      ],
      "text/plain": [
       "       City name  Population\n",
       "0  San Francisco      852469\n",
       "1       San Jose     1015785\n",
       "2     Sacramento      485199"
      ]
     },
     "execution_count": 34,
     "metadata": {},
     "output_type": "execute_result"
    }
   ],
   "source": [
    "city_names = pd.Series(['San Francisco', 'San Jose', 'Sacramento'])\n",
    "population = pd.Series([852469, 1015785, 485199])\n",
    "\n",
    "pd.DataFrame({ 'City name': city_names, 'Population': population })"
   ]
  },
  {
   "cell_type": "code",
   "execution_count": 35,
   "id": "7b8cae64-7347-482a-83d0-26e868d068d9",
   "metadata": {},
   "outputs": [
    {
     "name": "stdout",
     "output_type": "stream",
     "text": [
      "Requirement already satisfied: opendatasets in /Users/c/anaconda3/envs/bca/lib/python3.9/site-packages (0.1.22)\n",
      "Requirement already satisfied: click in /Users/c/anaconda3/envs/bca/lib/python3.9/site-packages (from opendatasets) (8.1.3)\n",
      "Requirement already satisfied: tqdm in /Users/c/anaconda3/envs/bca/lib/python3.9/site-packages (from opendatasets) (4.64.1)\n",
      "Requirement already satisfied: kaggle in /Users/c/anaconda3/envs/bca/lib/python3.9/site-packages (from opendatasets) (1.5.12)\n",
      "Requirement already satisfied: urllib3 in /Users/c/anaconda3/envs/bca/lib/python3.9/site-packages (from kaggle->opendatasets) (1.26.12)\n",
      "Requirement already satisfied: python-dateutil in /Users/c/anaconda3/envs/bca/lib/python3.9/site-packages (from kaggle->opendatasets) (2.8.2)\n",
      "Requirement already satisfied: python-slugify in /Users/c/anaconda3/envs/bca/lib/python3.9/site-packages (from kaggle->opendatasets) (6.1.2)\n",
      "Requirement already satisfied: requests in /Users/c/anaconda3/envs/bca/lib/python3.9/site-packages (from kaggle->opendatasets) (2.28.1)\n",
      "Requirement already satisfied: certifi in /Users/c/anaconda3/envs/bca/lib/python3.9/site-packages (from kaggle->opendatasets) (2022.9.24)\n",
      "Requirement already satisfied: six>=1.10 in /Users/c/anaconda3/envs/bca/lib/python3.9/site-packages (from kaggle->opendatasets) (1.16.0)\n",
      "Requirement already satisfied: text-unidecode>=1.3 in /Users/c/anaconda3/envs/bca/lib/python3.9/site-packages (from python-slugify->kaggle->opendatasets) (1.3)\n",
      "Requirement already satisfied: idna<4,>=2.5 in /Users/c/anaconda3/envs/bca/lib/python3.9/site-packages (from requests->kaggle->opendatasets) (3.4)\n",
      "Requirement already satisfied: charset-normalizer<3,>=2 in /Users/c/anaconda3/envs/bca/lib/python3.9/site-packages (from requests->kaggle->opendatasets) (2.1.1)\n"
     ]
    }
   ],
   "source": [
    "!pip install opendatasets"
   ]
  },
  {
   "cell_type": "code",
   "execution_count": 36,
   "id": "366c74fa-f4d6-486b-99a4-5bf25f1f4bd6",
   "metadata": {},
   "outputs": [
    {
     "name": "stdout",
     "output_type": "stream",
     "text": [
      "Please provide your Kaggle credentials to download this dataset. Learn more: http://bit.ly/kaggle-creds\n",
      "Your Kaggle username:"
     ]
    },
    {
     "name": "stdin",
     "output_type": "stream",
     "text": [
      "  carl69\n"
     ]
    },
    {
     "name": "stdout",
     "output_type": "stream",
     "text": [
      "Your Kaggle Key:"
     ]
    },
    {
     "name": "stdin",
     "output_type": "stream",
     "text": [
      "  ········\n"
     ]
    },
    {
     "name": "stdout",
     "output_type": "stream",
     "text": [
      "Downloading world-happiness.zip to ./world-happiness\n"
     ]
    },
    {
     "name": "stderr",
     "output_type": "stream",
     "text": [
      "100%|██████████████████████████████████████| 36.8k/36.8k [00:00<00:00, 14.8MB/s]"
     ]
    },
    {
     "name": "stdout",
     "output_type": "stream",
     "text": [
      "\n"
     ]
    },
    {
     "name": "stderr",
     "output_type": "stream",
     "text": [
      "\n"
     ]
    }
   ],
   "source": [
    "import opendatasets as od\n",
    "\n",
    "od.download(\"https://www.kaggle.com/datasets/unsdsn/world-happiness\")"
   ]
  },
  {
   "cell_type": "markdown",
   "id": "a00b8c79-8ae6-4708-bc46-f64ce17b23c0",
   "metadata": {},
   "source": [
    "The example above used `DataFrame.describe` to show interesting statistics about a `DataFrame`. Another useful function is `DataFrame.head`, which displays the first few records of a `DataFrame`:"
   ]
  },
  {
   "cell_type": "code",
   "execution_count": 37,
   "id": "45b305da-de2d-4d2a-8c73-93d036e7cdee",
   "metadata": {},
   "outputs": [
    {
     "data": {
      "text/html": [
       "<div>\n",
       "<style scoped>\n",
       "    .dataframe tbody tr th:only-of-type {\n",
       "        vertical-align: middle;\n",
       "    }\n",
       "\n",
       "    .dataframe tbody tr th {\n",
       "        vertical-align: top;\n",
       "    }\n",
       "\n",
       "    .dataframe thead th {\n",
       "        text-align: right;\n",
       "    }\n",
       "</style>\n",
       "<table border=\"1\" class=\"dataframe\">\n",
       "  <thead>\n",
       "    <tr style=\"text-align: right;\">\n",
       "      <th></th>\n",
       "      <th>Happiness Rank</th>\n",
       "      <th>Happiness Score</th>\n",
       "      <th>Standard Error</th>\n",
       "      <th>Economy (GDP per Capita)</th>\n",
       "      <th>Family</th>\n",
       "      <th>Health (Life Expectancy)</th>\n",
       "      <th>Freedom</th>\n",
       "      <th>Trust (Government Corruption)</th>\n",
       "      <th>Generosity</th>\n",
       "      <th>Dystopia Residual</th>\n",
       "    </tr>\n",
       "  </thead>\n",
       "  <tbody>\n",
       "    <tr>\n",
       "      <th>count</th>\n",
       "      <td>158.000000</td>\n",
       "      <td>158.000000</td>\n",
       "      <td>158.000000</td>\n",
       "      <td>158.000000</td>\n",
       "      <td>158.000000</td>\n",
       "      <td>158.000000</td>\n",
       "      <td>158.000000</td>\n",
       "      <td>158.000000</td>\n",
       "      <td>158.000000</td>\n",
       "      <td>158.000000</td>\n",
       "    </tr>\n",
       "    <tr>\n",
       "      <th>mean</th>\n",
       "      <td>79.493671</td>\n",
       "      <td>5.375734</td>\n",
       "      <td>0.047885</td>\n",
       "      <td>0.846137</td>\n",
       "      <td>0.991046</td>\n",
       "      <td>0.630259</td>\n",
       "      <td>0.428615</td>\n",
       "      <td>0.143422</td>\n",
       "      <td>0.237296</td>\n",
       "      <td>2.098977</td>\n",
       "    </tr>\n",
       "    <tr>\n",
       "      <th>std</th>\n",
       "      <td>45.754363</td>\n",
       "      <td>1.145010</td>\n",
       "      <td>0.017146</td>\n",
       "      <td>0.403121</td>\n",
       "      <td>0.272369</td>\n",
       "      <td>0.247078</td>\n",
       "      <td>0.150693</td>\n",
       "      <td>0.120034</td>\n",
       "      <td>0.126685</td>\n",
       "      <td>0.553550</td>\n",
       "    </tr>\n",
       "    <tr>\n",
       "      <th>min</th>\n",
       "      <td>1.000000</td>\n",
       "      <td>2.839000</td>\n",
       "      <td>0.018480</td>\n",
       "      <td>0.000000</td>\n",
       "      <td>0.000000</td>\n",
       "      <td>0.000000</td>\n",
       "      <td>0.000000</td>\n",
       "      <td>0.000000</td>\n",
       "      <td>0.000000</td>\n",
       "      <td>0.328580</td>\n",
       "    </tr>\n",
       "    <tr>\n",
       "      <th>25%</th>\n",
       "      <td>40.250000</td>\n",
       "      <td>4.526000</td>\n",
       "      <td>0.037268</td>\n",
       "      <td>0.545808</td>\n",
       "      <td>0.856823</td>\n",
       "      <td>0.439185</td>\n",
       "      <td>0.328330</td>\n",
       "      <td>0.061675</td>\n",
       "      <td>0.150553</td>\n",
       "      <td>1.759410</td>\n",
       "    </tr>\n",
       "    <tr>\n",
       "      <th>50%</th>\n",
       "      <td>79.500000</td>\n",
       "      <td>5.232500</td>\n",
       "      <td>0.043940</td>\n",
       "      <td>0.910245</td>\n",
       "      <td>1.029510</td>\n",
       "      <td>0.696705</td>\n",
       "      <td>0.435515</td>\n",
       "      <td>0.107220</td>\n",
       "      <td>0.216130</td>\n",
       "      <td>2.095415</td>\n",
       "    </tr>\n",
       "    <tr>\n",
       "      <th>75%</th>\n",
       "      <td>118.750000</td>\n",
       "      <td>6.243750</td>\n",
       "      <td>0.052300</td>\n",
       "      <td>1.158448</td>\n",
       "      <td>1.214405</td>\n",
       "      <td>0.811013</td>\n",
       "      <td>0.549092</td>\n",
       "      <td>0.180255</td>\n",
       "      <td>0.309883</td>\n",
       "      <td>2.462415</td>\n",
       "    </tr>\n",
       "    <tr>\n",
       "      <th>max</th>\n",
       "      <td>158.000000</td>\n",
       "      <td>7.587000</td>\n",
       "      <td>0.136930</td>\n",
       "      <td>1.690420</td>\n",
       "      <td>1.402230</td>\n",
       "      <td>1.025250</td>\n",
       "      <td>0.669730</td>\n",
       "      <td>0.551910</td>\n",
       "      <td>0.795880</td>\n",
       "      <td>3.602140</td>\n",
       "    </tr>\n",
       "  </tbody>\n",
       "</table>\n",
       "</div>"
      ],
      "text/plain": [
       "       Happiness Rank  Happiness Score  Standard Error  \\\n",
       "count      158.000000       158.000000      158.000000   \n",
       "mean        79.493671         5.375734        0.047885   \n",
       "std         45.754363         1.145010        0.017146   \n",
       "min          1.000000         2.839000        0.018480   \n",
       "25%         40.250000         4.526000        0.037268   \n",
       "50%         79.500000         5.232500        0.043940   \n",
       "75%        118.750000         6.243750        0.052300   \n",
       "max        158.000000         7.587000        0.136930   \n",
       "\n",
       "       Economy (GDP per Capita)      Family  Health (Life Expectancy)  \\\n",
       "count                158.000000  158.000000                158.000000   \n",
       "mean                   0.846137    0.991046                  0.630259   \n",
       "std                    0.403121    0.272369                  0.247078   \n",
       "min                    0.000000    0.000000                  0.000000   \n",
       "25%                    0.545808    0.856823                  0.439185   \n",
       "50%                    0.910245    1.029510                  0.696705   \n",
       "75%                    1.158448    1.214405                  0.811013   \n",
       "max                    1.690420    1.402230                  1.025250   \n",
       "\n",
       "          Freedom  Trust (Government Corruption)  Generosity  \\\n",
       "count  158.000000                     158.000000  158.000000   \n",
       "mean     0.428615                       0.143422    0.237296   \n",
       "std      0.150693                       0.120034    0.126685   \n",
       "min      0.000000                       0.000000    0.000000   \n",
       "25%      0.328330                       0.061675    0.150553   \n",
       "50%      0.435515                       0.107220    0.216130   \n",
       "75%      0.549092                       0.180255    0.309883   \n",
       "max      0.669730                       0.551910    0.795880   \n",
       "\n",
       "       Dystopia Residual  \n",
       "count         158.000000  \n",
       "mean            2.098977  \n",
       "std             0.553550  \n",
       "min             0.328580  \n",
       "25%             1.759410  \n",
       "50%             2.095415  \n",
       "75%             2.462415  \n",
       "max             3.602140  "
      ]
     },
     "execution_count": 37,
     "metadata": {},
     "output_type": "execute_result"
    }
   ],
   "source": [
    "happy_dataframe = pd.read_csv(\"world-happiness/2015.csv\", sep=\",\")\n",
    "happy_dataframe.describe()"
   ]
  },
  {
   "cell_type": "code",
   "execution_count": 40,
   "id": "59c5e766-9e21-4a22-b624-5b9d823677c9",
   "metadata": {},
   "outputs": [
    {
     "data": {
      "text/html": [
       "<div>\n",
       "<style scoped>\n",
       "    .dataframe tbody tr th:only-of-type {\n",
       "        vertical-align: middle;\n",
       "    }\n",
       "\n",
       "    .dataframe tbody tr th {\n",
       "        vertical-align: top;\n",
       "    }\n",
       "\n",
       "    .dataframe thead th {\n",
       "        text-align: right;\n",
       "    }\n",
       "</style>\n",
       "<table border=\"1\" class=\"dataframe\">\n",
       "  <thead>\n",
       "    <tr style=\"text-align: right;\">\n",
       "      <th></th>\n",
       "      <th>Country</th>\n",
       "      <th>Region</th>\n",
       "      <th>Happiness Rank</th>\n",
       "      <th>Happiness Score</th>\n",
       "      <th>Standard Error</th>\n",
       "      <th>Economy (GDP per Capita)</th>\n",
       "      <th>Family</th>\n",
       "      <th>Health (Life Expectancy)</th>\n",
       "      <th>Freedom</th>\n",
       "      <th>Trust (Government Corruption)</th>\n",
       "      <th>Generosity</th>\n",
       "      <th>Dystopia Residual</th>\n",
       "    </tr>\n",
       "  </thead>\n",
       "  <tbody>\n",
       "    <tr>\n",
       "      <th>0</th>\n",
       "      <td>Switzerland</td>\n",
       "      <td>Western Europe</td>\n",
       "      <td>1</td>\n",
       "      <td>7.587</td>\n",
       "      <td>0.03411</td>\n",
       "      <td>1.39651</td>\n",
       "      <td>1.34951</td>\n",
       "      <td>0.94143</td>\n",
       "      <td>0.66557</td>\n",
       "      <td>0.41978</td>\n",
       "      <td>0.29678</td>\n",
       "      <td>2.51738</td>\n",
       "    </tr>\n",
       "    <tr>\n",
       "      <th>1</th>\n",
       "      <td>Iceland</td>\n",
       "      <td>Western Europe</td>\n",
       "      <td>2</td>\n",
       "      <td>7.561</td>\n",
       "      <td>0.04884</td>\n",
       "      <td>1.30232</td>\n",
       "      <td>1.40223</td>\n",
       "      <td>0.94784</td>\n",
       "      <td>0.62877</td>\n",
       "      <td>0.14145</td>\n",
       "      <td>0.43630</td>\n",
       "      <td>2.70201</td>\n",
       "    </tr>\n",
       "    <tr>\n",
       "      <th>2</th>\n",
       "      <td>Denmark</td>\n",
       "      <td>Western Europe</td>\n",
       "      <td>3</td>\n",
       "      <td>7.527</td>\n",
       "      <td>0.03328</td>\n",
       "      <td>1.32548</td>\n",
       "      <td>1.36058</td>\n",
       "      <td>0.87464</td>\n",
       "      <td>0.64938</td>\n",
       "      <td>0.48357</td>\n",
       "      <td>0.34139</td>\n",
       "      <td>2.49204</td>\n",
       "    </tr>\n",
       "    <tr>\n",
       "      <th>3</th>\n",
       "      <td>Norway</td>\n",
       "      <td>Western Europe</td>\n",
       "      <td>4</td>\n",
       "      <td>7.522</td>\n",
       "      <td>0.03880</td>\n",
       "      <td>1.45900</td>\n",
       "      <td>1.33095</td>\n",
       "      <td>0.88521</td>\n",
       "      <td>0.66973</td>\n",
       "      <td>0.36503</td>\n",
       "      <td>0.34699</td>\n",
       "      <td>2.46531</td>\n",
       "    </tr>\n",
       "    <tr>\n",
       "      <th>4</th>\n",
       "      <td>Canada</td>\n",
       "      <td>North America</td>\n",
       "      <td>5</td>\n",
       "      <td>7.427</td>\n",
       "      <td>0.03553</td>\n",
       "      <td>1.32629</td>\n",
       "      <td>1.32261</td>\n",
       "      <td>0.90563</td>\n",
       "      <td>0.63297</td>\n",
       "      <td>0.32957</td>\n",
       "      <td>0.45811</td>\n",
       "      <td>2.45176</td>\n",
       "    </tr>\n",
       "  </tbody>\n",
       "</table>\n",
       "</div>"
      ],
      "text/plain": [
       "       Country          Region  Happiness Rank  Happiness Score  \\\n",
       "0  Switzerland  Western Europe               1            7.587   \n",
       "1      Iceland  Western Europe               2            7.561   \n",
       "2      Denmark  Western Europe               3            7.527   \n",
       "3       Norway  Western Europe               4            7.522   \n",
       "4       Canada   North America               5            7.427   \n",
       "\n",
       "   Standard Error  Economy (GDP per Capita)   Family  \\\n",
       "0         0.03411                   1.39651  1.34951   \n",
       "1         0.04884                   1.30232  1.40223   \n",
       "2         0.03328                   1.32548  1.36058   \n",
       "3         0.03880                   1.45900  1.33095   \n",
       "4         0.03553                   1.32629  1.32261   \n",
       "\n",
       "   Health (Life Expectancy)  Freedom  Trust (Government Corruption)  \\\n",
       "0                   0.94143  0.66557                        0.41978   \n",
       "1                   0.94784  0.62877                        0.14145   \n",
       "2                   0.87464  0.64938                        0.48357   \n",
       "3                   0.88521  0.66973                        0.36503   \n",
       "4                   0.90563  0.63297                        0.32957   \n",
       "\n",
       "   Generosity  Dystopia Residual  \n",
       "0     0.29678            2.51738  \n",
       "1     0.43630            2.70201  \n",
       "2     0.34139            2.49204  \n",
       "3     0.34699            2.46531  \n",
       "4     0.45811            2.45176  "
      ]
     },
     "execution_count": 40,
     "metadata": {},
     "output_type": "execute_result"
    }
   ],
   "source": [
    "happy_dataframe.head()"
   ]
  },
  {
   "cell_type": "markdown",
   "id": "9484fd2b-77c6-4064-a7a0-f9f3536164a7",
   "metadata": {},
   "source": [
    "Another powerful feature of *pandas* is graphing. For example, `DataFrame.hist` lets you quickly study the distribution of values in a column:"
   ]
  },
  {
   "cell_type": "code",
   "execution_count": 42,
   "id": "054c7555-9e82-409f-abc1-5cb5bd3a1f60",
   "metadata": {},
   "outputs": [
    {
     "data": {
      "text/plain": [
       "array([[<AxesSubplot: title={'center': 'Happiness Score'}>]], dtype=object)"
      ]
     },
     "execution_count": 42,
     "metadata": {},
     "output_type": "execute_result"
    },
    {
     "data": {
      "image/png": "[encoded data removed]",
      "text/plain": [
       "<Figure size 640x480 with 1 Axes>"
      ]
     },
     "metadata": {},
     "output_type": "display_data"
    }
   ],
   "source": [
    "happy_dataframe.hist('Happiness Score')"
   ]
  },
  {
   "cell_type": "markdown",
   "id": "d15992fd-113f-4584-8325-74a3f7ddb292",
   "metadata": {},
   "source": [
    "#### PPRINT"
   ]
  },
  {
   "cell_type": "code",
   "execution_count": null,
   "id": "eb9027a3-5938-489a-a6e3-25da44e93ca8",
   "metadata": {
    "tags": []
   },
   "outputs": [],
   "source": [
    "import pprint\n",
    "\n",
    "json_dict = {\"hyperspace\": {\"constraints\": [], \"design\": [[\"windFarm.windparkSize.k\", \"continuous\", [0, 0, 5]], [\"hydroPlant.primaryControlMax\", \"continuous\", [100, 300]]], \"kpis\": [\"frequency.y\", \"city.load.p[2]\"]}, \"lhc_size\": 10, \"number_of_runs\": 10}\n",
    "\n",
    "formatted_json_str = pprint.pformat(json_dict)\n",
    "print(formatted_json_str)\n",
    "pprint.pprint(json_dict)"
   ]
  }
 ],
 "metadata": {
  "kernelspec": {
   "display_name": "Python 3 (ipykernel)",
   "language": "python",
   "name": "python3"
  },
  "language_info": {
   "codemirror_mode": {
    "name": "ipython",
    "version": 3
   },
   "file_extension": ".py",
   "mimetype": "text/x-python",
   "name": "python",
   "nbconvert_exporter": "python",
   "pygments_lexer": "ipython3",
   "version": "3.9.13"
  }
 },
 "nbformat": 4,
 "nbformat_minor": 5
}
