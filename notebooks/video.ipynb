{
 "cells": [
  {
   "cell_type": "markdown",
   "id": "87d68e0a-2a4e-4fb2-bb38-ca4f0a5bedb1",
   "metadata": {},
   "source": [
    "# Video"
   ]
  },
  {
   "cell_type": "markdown",
   "id": "cb3b84ee-1325-4283-a300-4fe2a59c34dc",
   "metadata": {},
   "source": [
    "### FFMPEG"
   ]
  },
  {
   "cell_type": "markdown",
   "id": "e142d60a-91b5-4c6b-9c84-e1416519267d",
   "metadata": {},
   "source": [
    "First, check if you already have ffmpeg installed:"
   ]
  },
  {
   "cell_type": "code",
   "execution_count": null,
   "id": "50b4b793-6079-4b2e-9ca1-b34e689b1478",
   "metadata": {},
   "outputs": [],
   "source": [
    "!ffmpeg"
   ]
  },
  {
   "cell_type": "markdown",
   "id": "63e614a7-8b44-4fd1-8aff-7c71e8eccb54",
   "metadata": {},
   "source": [
    "If you don't have it installed, you can use:  \n",
    "\n",
    "`!conda install -c conda-forge ffmpeg` in a new cell.  \n",
    "\n",
    "For Mac you can also use [Homebrew](https://brew.sh/) to install ffmpeg system wide.  \n",
    "Simply `!brew install ffmpeg`"
   ]
  },
  {
   "cell_type": "markdown",
   "id": "6737d821-0f0e-4732-9a82-507effd466e7",
   "metadata": {},
   "source": [
    "You can check your installation by running:"
   ]
  },
  {
   "cell_type": "code",
   "execution_count": null,
   "id": "3ff0bdd8-4964-435b-897d-81e6f6e4c0ec",
   "metadata": {},
   "outputs": [],
   "source": [
    "!ffmpeg"
   ]
  },
  {
   "cell_type": "markdown",
   "id": "4d7c7e39-0ab1-4d21-9687-6795e58ecbb6",
   "metadata": {},
   "source": [
    "Next, you can install the ffmpeg bindings for python:"
   ]
  },
  {
   "cell_type": "code",
   "execution_count": null,
   "id": "9a8b4106-de5c-4e9d-be11-bf315012b72c",
   "metadata": {},
   "outputs": [],
   "source": [
    "!pip install ffmpeg-python"
   ]
  },
  {
   "cell_type": "markdown",
   "id": "2ee11b1a-397c-44e2-bff4-9e8a10b36c2b",
   "metadata": {},
   "source": [
    "Let's make a folder called videos:"
   ]
  },
  {
   "cell_type": "code",
   "execution_count": null,
   "id": "002639da-72ec-43f9-b47b-6c8d04957a5d",
   "metadata": {},
   "outputs": [],
   "source": [
    "import os\n",
    "\n",
    "out_dir = \"videos\"\n",
    "\n",
    "if not os.path.exists(out_dir):\n",
    "    \n",
    "    os.makedirs(out_dir)"
   ]
  },
  {
   "cell_type": "markdown",
   "id": "85edd45b-173c-4aba-95d5-59cdf18b2c66",
   "metadata": {},
   "source": [
    "We can use yt-dlp to download a video from youtube:"
   ]
  },
  {
   "cell_type": "code",
   "execution_count": null,
   "id": "40adbf74-c7b4-4d28-8b40-a4011fe0b230",
   "metadata": {},
   "outputs": [],
   "source": [
    "import yt_dlp\n",
    "\n",
    "url = \"https://www.youtube.com/watch?v=cu5ETFpQItY\"\n",
    "\n",
    "ydl_opts = {\n",
    "    'outtmpl': out_dir + '/%(id)s.%(ext)s',\n",
    "    'quiet': True,\n",
    "    'format_sort': ['res:1080', 'ext:mp4:m4a'],\n",
    "    'ignoreerrors': False\n",
    "}\n",
    "\n",
    "with yt_dlp.YoutubeDL(ydl_opts) as ydl:\n",
    "    \n",
    "    ydl.download(url)  "
   ]
  },
  {
   "cell_type": "markdown",
   "id": "a666bd72-e4c7-49c9-80e7-a49a14bc4d27",
   "metadata": {},
   "source": [
    "Print the name of the video we just downloaded:"
   ]
  },
  {
   "cell_type": "code",
   "execution_count": null,
   "id": "dca74528-e2d6-42a9-9fa9-831bd0178c75",
   "metadata": {},
   "outputs": [],
   "source": [
    "ls videos"
   ]
  },
  {
   "cell_type": "code",
   "execution_count": null,
   "id": "36f5309d-a8ae-464c-a0e6-25e67976acc3",
   "metadata": {},
   "outputs": [],
   "source": [
    "video_path = \"videos/cu5ETFpQItY.mp4\""
   ]
  },
  {
   "cell_type": "code",
   "execution_count": null,
   "id": "d9d0d5f0-be70-4d47-8fea-956c7f39167c",
   "metadata": {},
   "outputs": [],
   "source": [
    "from IPython.display import Video\n",
    "\n",
    "Video(video_path, width=600)"
   ]
  },
  {
   "cell_type": "markdown",
   "id": "c532b6b0-4f57-4f8b-875b-55317ed152dc",
   "metadata": {
    "tags": []
   },
   "source": [
    "Now we can import the ffmpeg python bindings:"
   ]
  },
  {
   "cell_type": "code",
   "execution_count": null,
   "id": "9725a787-5014-47ae-99e2-f7c47265be9f",
   "metadata": {},
   "outputs": [],
   "source": [
    "import ffmpeg"
   ]
  },
  {
   "cell_type": "markdown",
   "id": "a19c3811-13b1-4d81-ac06-3378b513a184",
   "metadata": {},
   "source": [
    "#### Some basic operations"
   ]
  },
  {
   "cell_type": "code",
   "execution_count": null,
   "id": "cacbf05a-89b1-4194-99bf-fc3d87e0d471",
   "metadata": {},
   "outputs": [],
   "source": [
    "input = ffmpeg.input(video_path)\n",
    "\n",
    "# The echo filter: http://underpop.online.fr/f/ffmpeg/help/aecho.htm.gz\n",
    "audio = input.audio.filter(\"aecho\", 0.8, 0.88, 600, 0.4) \n",
    "video = input.video.vflip()\n",
    "out = ffmpeg.output(audio, video, 'videos/flipped_echo.mp4')\n",
    "\n",
    "out.overwrite_output().run()"
   ]
  },
  {
   "cell_type": "code",
   "execution_count": null,
   "id": "d0f86d8b-4206-42ac-9998-5a5cd144abc9",
   "metadata": {},
   "outputs": [],
   "source": [
    "Video('videos/flipped_echo.mp4', width=600)"
   ]
  },
  {
   "cell_type": "markdown",
   "id": "edc8f5a2-0be4-4c2b-854b-41409bc634e4",
   "metadata": {},
   "source": [
    "#### Use ffprobe to access information of any file"
   ]
  },
  {
   "cell_type": "code",
   "execution_count": null,
   "id": "23fda258-67cd-4564-a86b-3e3034bdc6d0",
   "metadata": {},
   "outputs": [],
   "source": [
    "probe = ffmpeg.probe(video_path)\n",
    "\n",
    "vid_probe = next((stream for stream in probe['streams'] if stream['codec_type'] == 'video'), None)\n",
    "\n",
    "if vid_probe is None:\n",
    "\n",
    "    print('[ERROR]: No video stream found', file=sys.stderr)\n",
    "    \n",
    "else:\n",
    "    \n",
    "    width = int(vid_probe['width'])\n",
    "    height = int(vid_probe['height'])\n",
    "    codec = str(vid_probe['codec_name'])\n",
    "    duration = float(vid_probe['duration'])\n",
    "    frame_rate = str(vid_probe['r_frame_rate'])\n",
    "    \n",
    "print(\"width: {}, height: {}, codec: {}, duration: {}, frame rate: {}\".format(width, height, codec, duration, frame_rate))\n",
    "    "
   ]
  },
  {
   "cell_type": "markdown",
   "id": "6cc9c0e3-1f6f-4fa4-bf77-b0edde7893ea",
   "metadata": {},
   "source": [
    "#### Extract a clip at a specific time"
   ]
  },
  {
   "cell_type": "code",
   "execution_count": null,
   "id": "e0736ebe-3205-42a1-a4fa-47129e77c5ac",
   "metadata": {},
   "outputs": [],
   "source": [
    "stream = (\n",
    "    ffmpeg\n",
    "    .input(\n",
    "        video_path,\n",
    "        ss = 2.0, # where to seek the video, in seconds\n",
    "        t = 1.0 # duration of clip, in seconds\n",
    "    )\n",
    ")\n",
    "\n",
    "out_path = 'videos/short_clip.mp4'\n",
    "\n",
    "ffmpeg.output(stream, stream.audio, out_path).global_args('-loglevel', 'quiet').overwrite_output().run()"
   ]
  },
  {
   "cell_type": "code",
   "execution_count": null,
   "id": "a89614f8-1de7-4c18-b4b5-63a5f96c68bf",
   "metadata": {},
   "outputs": [],
   "source": [
    "from IPython.display import Video\n",
    "\n",
    "Video(out_path, width=600)"
   ]
  },
  {
   "cell_type": "markdown",
   "id": "284b9a93-cb66-4d3c-a695-0a16bc30d496",
   "metadata": {},
   "source": [
    "#### Use numpy to transform each frame"
   ]
  },
  {
   "cell_type": "code",
   "execution_count": null,
   "id": "e9f8ce51-abd0-44da-993b-6d59e2a56974",
   "metadata": {},
   "outputs": [],
   "source": [
    "import numpy as np"
   ]
  },
  {
   "cell_type": "code",
   "execution_count": null,
   "id": "1365d0df-e203-4af3-be3d-04603c6882fa",
   "metadata": {},
   "outputs": [],
   "source": [
    "in_path = \"videos/cu5ETFpQItY.mp4\"\n",
    "\n",
    "out, err = (\n",
    "    ffmpeg.input(in_path)\n",
    "    .output('pipe:', format='rawvideo', pix_fmt='rgb24')\n",
    "    .run(capture_stdout=True)\n",
    ")\n",
    "\n",
    "out_path = \"videos/numpy.mkv\"\n",
    "\n",
    "process2 = (\n",
    "    ffmpeg\n",
    "    .input('pipe:', format='rawvideo', pix_fmt='rgb24', s='{}x{}'.format(width, height))\n",
    "    .output(out_path, pix_fmt='yuv420p')\n",
    "    .overwrite_output()\n",
    "    .run_async(pipe_stdin=True)\n",
    ")\n",
    "\n",
    "video = (\n",
    "    np\n",
    "    .frombuffer(out, np.uint8)\n",
    "    .reshape([-1, height, width, 3])\n",
    ")\n",
    "\n",
    "for frame in video:\n",
    "\n",
    "    inverted = 255 - frame\n",
    "    \n",
    "    process2.stdin.write(\n",
    "        inverted\n",
    "        .astype(np.uint8)\n",
    "        .tobytes()\n",
    "    )\n",
    "        \n",
    "process2.stdin.close()"
   ]
  },
  {
   "cell_type": "markdown",
   "id": "5034bafa-175f-459c-8313-8fd4817fd928",
   "metadata": {},
   "source": [
    "#### Convert mkv to mp4 and use the original audio"
   ]
  },
  {
   "cell_type": "code",
   "execution_count": null,
   "id": "8ef43c42-b1c0-4772-b243-8238783a37e7",
   "metadata": {},
   "outputs": [],
   "source": [
    "input_audio = ffmpeg.input(in_path).audio\n",
    "\n",
    "out_path = \"videos/numpy.mp4\"\n",
    "\n",
    "input_video = ffmpeg.input('videos/numpy.mkv')\n",
    "\n",
    "(\n",
    "    ffmpeg\n",
    "    .output(input_video.video, input_audio, out_path, vcodec=\"h264\", acodec=\"aac\", pix_fmt='yuv420p')\n",
    "    .overwrite_output()\n",
    "    .run()\n",
    ")"
   ]
  },
  {
   "cell_type": "code",
   "execution_count": null,
   "id": "d1151be5-fb3d-441f-a95b-f36660245648",
   "metadata": {},
   "outputs": [],
   "source": [
    "from IPython.display import Video\n",
    "\n",
    "Video(out_path, width=600)"
   ]
  },
  {
   "cell_type": "markdown",
   "id": "cf78b255-d811-4017-8c6e-101fa64d3496",
   "metadata": {},
   "source": [
    "Tmix is a filter to mix successive video frames.\n",
    "\n",
    "It accepts the following options:\n",
    "\n",
    "frames\n",
    "The number of successive frames to mix. If unspecified, it defaults to 3.\n",
    "\n",
    "weights\n",
    "Specify weight of each input video frame. Each weight is separated by space. If number of weights is smaller than number of frames last specified weight will be used for all remaining unset weights.\n",
    "\n",
    "scale\n",
    "Specify scale, if it is set it will be multiplied with sum of each weight multiplied with pixel values to give final destination pixel value. By default scale is auto scaled to sum of weights."
   ]
  },
  {
   "cell_type": "code",
   "execution_count": null,
   "id": "c4c5d33a-16ae-4bb8-9bc8-8a1e7098f173",
   "metadata": {},
   "outputs": [],
   "source": [
    "in_path = \"videos/cu5ETFpQItY.mp4\"\n",
    "out_path = \"videos/cool_effect.mp4\"\n",
    "\n",
    "conversion = (\n",
    "    ffmpeg\n",
    "    .input(in_path)\n",
    "    .filter(\"tmix\", frames=8, weights=\"1 1 1 1 1 1 1 1\")\n",
    "    .output(out_path, vcodec=\"h264\", pix_fmt='yuv420p')\n",
    "    .overwrite_output()\n",
    "    .run()\n",
    "\n",
    ")"
   ]
  },
  {
   "cell_type": "code",
   "execution_count": null,
   "id": "096426c8-358e-4963-9e41-441ffd77d198",
   "metadata": {},
   "outputs": [],
   "source": [
    "from IPython.display import Video\n",
    "\n",
    "Video(out_path, width=600)"
   ]
  },
  {
   "cell_type": "markdown",
   "id": "071cf48e-f5ec-4894-a61e-05cab2baba74",
   "metadata": {},
   "source": [
    "#### Display ffmpeg in jupyter"
   ]
  },
  {
   "cell_type": "code",
   "execution_count": null,
   "id": "9e53de6d-2ca2-494d-9d2c-9a113141a5d3",
   "metadata": {},
   "outputs": [],
   "source": [
    "!pip install ipywidgets"
   ]
  },
  {
   "cell_type": "markdown",
   "id": "d2294d27-5bf3-48ba-8bc2-4de08715400f",
   "metadata": {},
   "source": [
    "Note: in order for widgets to work you might have to enter this command in your terminal and restart the jupyter lab:  \n",
    "`jupyter nbextension enable --py --sys-prefix widgetsnbextension`"
   ]
  },
  {
   "cell_type": "code",
   "execution_count": null,
   "id": "bbdef2af-53e0-444d-ba65-7403a621126a",
   "metadata": {},
   "outputs": [],
   "source": [
    "from ipywidgets import interact\n",
    "from matplotlib import pyplot as plt\n",
    "import ipywidgets as widgets\n",
    "\n",
    "in_path = \"videos/cu5ETFpQItY.mp4\"\n",
    "probe = ffmpeg.probe(in_path)\n",
    "video_info = next(s for s in probe['streams'] if s['codec_type'] == 'video')\n",
    "width = int(video_info['width'])\n",
    "height = int(video_info['height'])\n",
    "num_frames = int(video_info['nb_frames'])\n",
    "\n",
    "out, err = (\n",
    "    ffmpeg\n",
    "    .input(in_path)\n",
    "    .output('pipe:', format='rawvideo', pix_fmt='rgb24')\n",
    "    .global_args('-loglevel', 'quiet')\n",
    "    .run(capture_stdout=True)\n",
    ")\n",
    "video = (\n",
    "    np\n",
    "    .frombuffer(out, np.uint8)\n",
    "    .reshape([-1, height, width, 3])\n",
    ")\n",
    "\n",
    "@interact(frame=(0, num_frames))\n",
    "def show_frame(frame=0):\n",
    "    plt.imshow(video[frame,:,:,:])"
   ]
  },
  {
   "cell_type": "markdown",
   "id": "1de3c3fc-9a12-43af-b9a6-f23bc1f8aa1d",
   "metadata": {},
   "source": [
    "https://trac.ffmpeg.org/wiki/FancyFilteringExamples"
   ]
  },
  {
   "cell_type": "markdown",
   "id": "0a705f84-5a02-47dc-9c39-e41da5e2dd48",
   "metadata": {},
   "source": [
    "### Mixing several videos"
   ]
  },
  {
   "cell_type": "code",
   "execution_count": null,
   "id": "b2240575-93da-4463-8b40-b5e33358c0d0",
   "metadata": {},
   "outputs": [],
   "source": [
    "video_dir = \"videos\"\n",
    "\n",
    "for file in os.listdir(video_dir):\n",
    "\n",
    "        if file.endswith(\".mp4\"):\n",
    "\n",
    "            file_path = os.path.join(video_dir, file)\n",
    "\n",
    "            out_path = os.path.join(out_dir, file)\n",
    "\n",
    "            probe = probe_video(file_path)\n",
    "            \n",
    "            \n",
    "            stream = (\n",
    "                ffmpeg\n",
    "                .input(file_path, ss=0, t=MIN_LENGTH)\n",
    "            )\n",
    "\n",
    "            video = (\n",
    "                stream\n",
    "                .video\n",
    "                .filter('fps', fps=25, round='down')\n",
    "                .filter('scale', width=512, height=910, force_original_aspect_ratio='increase')\n",
    "                .crop(x=0, y=0, width=512, height=910)\n",
    "                .filter('setsar', r=1)\n",
    "                .filter('format', pix_fmts='yuv420p')\n",
    "                .filter('settb', tb='AVTB')\n",
    "                .filter('setpts', expr='PTS-STARTPTS')\n",
    "            )\n",
    "\n",
    "            audio = (\n",
    "                stream\n",
    "                .audio\n",
    "            )\n",
    "\n",
    "            out = (\n",
    "                ffmpeg\n",
    "                .output(video, audio, out_path, vcodec=\"h264\", acodec=\"aac\", pix_fmt='yuv420p')\n",
    "                .overwrite_output()\n",
    "                .run()\n",
    "            )"
   ]
  },
  {
   "cell_type": "code",
   "execution_count": null,
   "id": "063833df-5512-4776-b578-e271c8df3478",
   "metadata": {},
   "outputs": [],
   "source": [
    "import random\n",
    "\n",
    "streams = []\n",
    "\n",
    "for file in os.listdir(out_dir):\n",
    "\n",
    "    file_path = os.path.join(out_dir, file)\n",
    "\n",
    "    stream = (\n",
    "        ffmpeg\n",
    "        .input(file_path)\n",
    "    )\n",
    "\n",
    "    streams.append(stream)\n",
    "\n",
    "    print(\"adding video\", file)\n",
    "\n",
    "random.shuffle(streams)"
   ]
  },
  {
   "cell_type": "code",
   "execution_count": null,
   "id": "1887b680-b02d-46cf-8a60-24e1761f21df",
   "metadata": {},
   "outputs": [],
   "source": [
    "# glow grainextract xor grainmerge negation phoenix average interpolate softlight\n",
    "blend_mode = \"phoenix\"\n",
    "\n",
    "a = streams[0].video.filter('format', pix_fmts='gbrp')\n",
    "b = streams[1].video.filter('format', pix_fmts='gbrp')\n",
    "c = streams[2].video.filter('format', pix_fmts='gbrp')\n",
    "\n",
    "vout = ffmpeg.filter([a, b], 'blend', all_mode=blend_mode)\n",
    "#\n",
    "vout = ffmpeg.filter([vout, c], 'blend', all_mode=blend_mode).filter('eq', brightness=0, gamma_weight=-1.0, saturation=0.5)\n",
    "\n",
    "vout = ffmpeg.filter(vout, 'format', pix_fmts='yuv420p')\n",
    "\n",
    "audio = ffmpeg.filter(\n",
    "    [\n",
    "        streams[0].audio,\n",
    "        streams[1].audio,\n",
    "        streams[2].audio\n",
    "    ],\n",
    "    'amix',\n",
    "    inputs=3\n",
    ")\n",
    "\n",
    "blend = (\n",
    "    ffmpeg\n",
    "    .output(vout, audio, 'test.mp4', vcodec=\"h264\", acodec=\"aac\",  pix_fmt='yuv420p', format='mp4', r=25)\n",
    "    .overwrite_output()\n",
    "    .run()\n",
    ")"
   ]
  },
  {
   "cell_type": "markdown",
   "id": "787fac43-b5f1-49d6-8064-dddd6eac23e1",
   "metadata": {},
   "source": [
    "## Using python to create supercuts with subtitle files\n",
    "\n",
    "https://lav.io/2014/06/videogrep-automatic-supercuts-with-python/   \n",
    "\n",
    "https://github.com/antiboredom/videogrep  \n",
    "\n",
    "https://www.youtube.com/embed/qEtEbXVbYJQ?feature=oembed  "
   ]
  },
  {
   "cell_type": "code",
   "execution_count": null,
   "id": "f710c549-c9c8-4f0f-90df-d1a53cf6477e",
   "metadata": {},
   "outputs": [],
   "source": [
    "!pip install videogrep"
   ]
  },
  {
   "cell_type": "code",
   "execution_count": null,
   "id": "c7c934be-39f4-4056-bb6b-2f39b6864b2a",
   "metadata": {},
   "outputs": [],
   "source": [
    "import yt_dlp\n",
    "\n",
    "out_dir = \"videos\"\n",
    "\n",
    "url = \"https://www.youtube.com/watch?v=gElfIo6uw4g\"\n",
    "\n",
    "ydl_opts = {\n",
    "    'outtmpl': out_dir + '/%(id)s.%(ext)s',\n",
    "    'quiet': False,\n",
    "    'format_sort': ['res:1080', 'ext:mp4:m4a'],\n",
    "    'writeautomaticsub': True\n",
    "}\n",
    "\n",
    "with yt_dlp.YoutubeDL(ydl_opts) as ydl:\n",
    "    \n",
    "    ydl.download(url) "
   ]
  },
  {
   "cell_type": "code",
   "execution_count": null,
   "id": "5d2d4fda-938c-408d-a413-960aa254a6e5",
   "metadata": {},
   "outputs": [],
   "source": [
    "ls videos"
   ]
  },
  {
   "cell_type": "code",
   "execution_count": null,
   "id": "83264d4e-95dd-48c2-b5f4-27ac397d7331",
   "metadata": {},
   "outputs": [],
   "source": [
    "mv videos/gElfIo6uw4g.en.vtt videos/gElfIo6uw4g.vtt"
   ]
  },
  {
   "cell_type": "code",
   "execution_count": null,
   "id": "73efb748-6213-4e1b-96f7-8435544067b3",
   "metadata": {},
   "outputs": [],
   "source": [
    "from videogrep import videogrep\n",
    "\n",
    "# videogrep('videos/gElfIo6uw4g.mp4', 'experience', 'fragment', 'videos/out.mp4')"
   ]
  },
  {
   "cell_type": "code",
   "execution_count": null,
   "id": "3fa0bcd7-2b00-4298-b8b9-34e9eaecd475",
   "metadata": {},
   "outputs": [],
   "source": [
    "!videogrep --input videos/gElfIo6uw4g.mp4 --search 'experience' --search-type fragment --output videos/experience.mp4"
   ]
  },
  {
   "cell_type": "code",
   "execution_count": null,
   "id": "5284edb0-f4cf-42fc-ac53-96c4a0661afa",
   "metadata": {},
   "outputs": [],
   "source": [
    "from IPython.display import Video\n",
    "\n",
    "Video(\"videos/experience.mp4\", width=600)"
   ]
  }
 ],
 "metadata": {
  "kernelspec": {
   "display_name": "Python 3 (ipykernel)",
   "language": "python",
   "name": "python3"
  },
  "language_info": {
   "codemirror_mode": {
    "name": "ipython",
    "version": 3
   },
   "file_extension": ".py",
   "mimetype": "text/x-python",
   "name": "python",
   "nbconvert_exporter": "python",
   "pygments_lexer": "ipython3",
   "version": "3.9.13"
  }
 },
 "nbformat": 4,
 "nbformat_minor": 5
}
